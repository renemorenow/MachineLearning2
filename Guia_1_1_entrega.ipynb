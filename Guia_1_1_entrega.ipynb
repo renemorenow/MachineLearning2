{
  "nbformat": 4,
  "nbformat_minor": 0,
  "metadata": {
    "colab": {
      "provenance": [],
      "include_colab_link": true
    },
    "kernelspec": {
      "name": "python3",
      "display_name": "Python 3"
    },
    "language_info": {
      "name": "python"
    }
  },
  "cells": [
    {
      "cell_type": "markdown",
      "metadata": {
        "id": "view-in-github",
        "colab_type": "text"
      },
      "source": [
        "<a href=\"https://colab.research.google.com/github/renemorenow/MachineLearning2/blob/main/Guia_1_1_entrega.ipynb\" target=\"_parent\"><img src=\"https://colab.research.google.com/assets/colab-badge.svg\" alt=\"Open In Colab\"/></a>"
      ]
    },
    {
      "cell_type": "markdown",
      "source": [
        "#Integrantes\n",
        "\n",
        "Andersson Camilo Ordoñez Ruiz\n",
        "\n",
        "Miguel Felipe Corredor Montejo\n",
        "\n",
        "William Rene Moreno Romero"
      ],
      "metadata": {
        "id": "B78KDXiu9MGO"
      }
    },
    {
      "cell_type": "markdown",
      "source": [
        "# **Guia 1**\n",
        "**Objetivo de la actividad:** Aplicar conceptos fundamentales de programación en Python para resolver problemas de ciencia de datos. Los ejercicios propuestos abarcan uso de variables, estructuras condicionales y operaciones matemáticas en contextos aplicados.\n",
        "\n",
        "**Instrucciones Generales**\n",
        "\n",
        "Lee atentamente cada enunciado antes de empezar a programar.\n",
        "\n",
        "1. Escribe un código en Python para cada ejercicio asegurándote de que sea funcional y eficiente. \\\\\n",
        "2. Usa comentarios en el código (# comentario) para explicar brevemente qué hace cada sección. \\\\\n",
        "3. Realiza pruebas ingresando diferentes valores para verificar que los resultados sean correctos. \\\\\n",
        "4. Asegúrate de seguir las buenas prácticas de programación, incluyendo:\\\\\n",
        "\n",
        "* Uso adecuado de variables. \\\\\n",
        "* Claridad en la entrada y salida de datos. \\\\\n",
        "* Código estructurado y bien indentado. \\\\\n",
        "\n",
        "**Entrega:**\n",
        "\n",
        "Todos los programas deben estar en un solo archivo **.py o .ipynb.**\n",
        "Incluir nombre completo y código del estudiante en el encabezado del archivo.\n",
        "Enviar el archivo a la plataforma indicada antes de la fecha límite."
      ],
      "metadata": {
        "id": "04n9yDlLjw7j"
      }
    },
    {
      "cell_type": "markdown",
      "source": [
        " ### **Ejercicio 1: Cantidad de centros de atención**\n",
        "\n",
        "Suponga que una eps tiene centros de salud de 3 tipos:\n",
        "\n",
        "- Tipo A: Atiende una pobración de 6530 personas\n",
        "\n",
        "- Tipo B: Atiende una población de 8324 personas\n",
        "\n",
        "- Tipo C: Atiende una población de 11450 personas\n",
        "\n",
        "Escriba un programa que le pregunte al usuario dos combinaciones de tipos de eps, compare entre esas dos combinaciones y establezca cuál de estas es la que mayor cantidad de usuarios impacta.\n",
        "\n",
        "Ej:\n",
        "\n",
        "**Entrada:**\n",
        "\n",
        "Combinación 1: 1 centro de tipo C.\n",
        "\n",
        "Combinación 2: 2 centros de tipo A.\n",
        "\n",
        "**salida:**\n",
        "\n",
        "La combinación 2 impacta más usuarios."
      ],
      "metadata": {
        "id": "BCzM4shYiPYQ"
      }
    },
    {
      "cell_type": "code",
      "source": [
        "# Solución propuesta\n",
        "\n",
        "#Imprimir tipos de centro de salud\n",
        "\n",
        "print(\"Tipos de centro de salud de la EPS:\")\n",
        "print(\"Tipo A: Atiende una pobración de 6530 personas\")\n",
        "print(\"Tipo B: Atiende una población de 8324 personas\")\n",
        "print(\"Tipo C: Atiende una población de 11450 personas\")\n",
        "\n",
        "#Definicion de entradas\n",
        "\n",
        "Entrada1 = input(\"Combinación 1: \")\n",
        "Entrada2 = input(\"Combinación 2: \")\n",
        "\n",
        "#Comparacion entre las distintas combinaciones posibles de las variables\n",
        "\n",
        "if Entrada1==\"A\" and (Entrada2==\"B\" or Entrada2==\"C\"):\n",
        "  print(f\"La combinacion 1 corresponde a un centro de tipo {Entrada1}\")\n",
        "  print(f\"La combinacion 2 corresponde a un centro de tipo {Entrada2}\")\n",
        "  print(f\"La combinación {Entrada2} impacta más usuarios\")\n",
        "elif Entrada1==\"C\" and (Entrada2==\"A\" or Entrada2==\"B\"):\n",
        "  print(f\"La combinacion 1 corresponde a un centro de tipo {Entrada1}\")\n",
        "  print(f\"La combinacion 2 corresponde a un centro de tipo {Entrada2}\")\n",
        "  print(f\"La combinación {Entrada1} impacta más usuarios\")\n",
        "elif Entrada1==\"B\" and Entrada2==\"A\":\n",
        "  print(f\"La combinacion 1 corresponde a un centro de tipo {Entrada1}\")\n",
        "  print(f\"La combinacion 2 corresponde a un centro de tipo {Entrada2}\")\n",
        "  print(f\"La combinación {Entrada1} impacta más usuarios\")\n",
        "elif Entrada1==\"B\" and Entrada2==\"C\":\n",
        "  print(f\"La combinacion 1 corresponde a un centro de tipo {Entrada1}\")\n",
        "  print(f\"La combinacion 2 corresponde a un centro de tipo {Entrada2}\")\n",
        "  print(f\"La combinación {Entrada2} impacta más usuarios\")\n"
      ],
      "metadata": {
        "id": "Z0-E0ZJOijcL",
        "colab": {
          "base_uri": "https://localhost:8080/"
        },
        "outputId": "7a273827-3f3c-4578-d66b-9d2e314ddfb9"
      },
      "execution_count": null,
      "outputs": [
        {
          "output_type": "stream",
          "name": "stdout",
          "text": [
            "Tipos de centro de salud de la EPS:\n",
            "Tipo A: Atiende una pobración de 6530 personas\n",
            "Tipo B: Atiende una población de 8324 personas\n",
            "Tipo C: Atiende una población de 11450 personas\n",
            "Combinación 1: B\n",
            "Combinación 2: C\n",
            "La combinacion 1 corresponde a un centro de tipo B\n",
            "La combinacion 2 corresponde a un centro de tipo C\n",
            "La combinación C impacta más usuarios\n"
          ]
        }
      ]
    },
    {
      "cell_type": "markdown",
      "source": [
        "###  **Ejercicio 2: Pacientes.**\n",
        "\n",
        "Tres médicos de la misma especialidad atienden cada uno un número especifico de pacientes. Para facilitar la asignación del siguiente control, se tiene en cuenta un criterio partícular, se toma la cantidad total de pacientes atendidos y se dividen en números iguales, los cuales se reparten entre los diferentes médicos antes mencionados. Los que no quedan en ninguno de estos grupos, se asignaran a una lista de prorizados.\n",
        "\n",
        "Escriba una programa que permita ingresar el número de pacientes atendidos por cada médico y devuelva la cantidad de pacientes en la lista de priorizados.\n",
        "\n",
        "**Ej:** Si en conjunto atienten 91 pacientes, para el siguiente control, de estos cada uno atenderá 30 y 1 estará en lista de priorizados."
      ],
      "metadata": {
        "id": "Chy4z45HiSST"
      }
    },
    {
      "cell_type": "code",
      "source": [
        "# Solución propuesta\n",
        "\n",
        "#Número de pacientes para atender\n",
        "\n",
        "Pacientes = int(input(\"Ingrese el número de pacientes para atender: \"))\n",
        "\n",
        "#Asignacion de pacientes\n",
        "\n",
        "Asignacion=int(Pacientes/3)\n",
        "\n",
        "#Calculo de pacientes priorizados\n",
        "Priorizados=Pacientes%3\n",
        "\n",
        "#imprime salida:\n",
        "print(f\"Cada medico atendera {Asignacion} pacientes y {Priorizados} pacientes estarán en lista de priorizados\")\n",
        "\n"
      ],
      "metadata": {
        "id": "QOaIAPh1iibG",
        "colab": {
          "base_uri": "https://localhost:8080/"
        },
        "outputId": "4da591a5-b3df-474b-8806-e2830986bace"
      },
      "execution_count": null,
      "outputs": [
        {
          "output_type": "stream",
          "name": "stdout",
          "text": [
            "Ingrese el número de pacientes atendidos: 35\n",
            "Cada medico atendera 11 pacientes y 2 pacientes estaran en lista de priorizados\n"
          ]
        }
      ]
    },
    {
      "cell_type": "markdown",
      "source": [
        "###  **Ejercicio 3: Costos de envío.**\n",
        "\n",
        "Una persona compró 3 productos en diferentes países. Los valores de envío en cada país varían de la siguiente forma: el primero tiene un costo del 15% sobre el valor original del producto. El segundo tiene un costo del 18% sobre el valor original del producto. El tercero tiene un costo del 12%  sobre el valor original del producto. Se necesita construir un programa que solicite al usuario el valor original de cada producto e imprima:\n",
        "\n",
        "* El valor total de los tres productos incluyendo los costos de envío (se debe sumar el valor de todos los productos con sus incrementos).\n",
        "* El promedio de los tres productos antes y después de realizar los incrementos\n"
      ],
      "metadata": {
        "id": "G3zPlIaaiZ17"
      }
    },
    {
      "cell_type": "code",
      "source": [
        "# Solución propuesta\n",
        "\n",
        "#Definicion de variables de entrada\n",
        "NumProductos=3\n",
        "Productos=[] #Lista de productos\n",
        "\n",
        "for i in range(NumProductos):\n",
        "  Precio=float(input(f\"Ingrese el valor del producto {i+1}: \"))\n",
        "  Productos.append(Precio) #Agrega el valor del producto a la lista\n",
        "\n",
        "#Calculo del valor del producto con envio incluido.\n",
        "Envio1=Productos[0]*1.15\n",
        "Envio2=Productos[1]*1.18\n",
        "Envio3=Productos[2]*1.12\n",
        "\n",
        "#Calculo del valor total del envio\n",
        "\n",
        "TotalEnvio=Envio1+Envio2+Envio3\n",
        "print(f\"El valor total de los {NumProductos} productos incluyendo los costos de envío es: {TotalEnvio}\")\n",
        "\n",
        "#Calculo del valor promedio antes te realizar los incrementos\n",
        "Promedio_Productos=((Productos[0]+Productos[1]+Productos[2])/NumProductos)\n",
        "print(f\"El valor promedio de los {NumProductos} productos antes de realizar los incrementos es: {Promedio_Productos:.2f}\")\n",
        "\n",
        "#Calculo del valor promedio despues de realizar los incrementos\n",
        "Promedio_Envio=((Envio1+Envio2+Envio3)/NumProductos)\n",
        "print(f\"El valor promedio de los {NumProductos} productos despues de realizar los incrementos es: {Promedio_Envio:.2f}\")"
      ],
      "metadata": {
        "id": "LPrnGE6OikqI",
        "colab": {
          "base_uri": "https://localhost:8080/"
        },
        "outputId": "9451d6e8-69a6-4c04-d7b0-597deb98f56f"
      },
      "execution_count": 60,
      "outputs": [
        {
          "output_type": "stream",
          "name": "stdout",
          "text": [
            "Ingrese el valor del producto 1: 20000\n",
            "Ingrese el valor del producto 2: 30000\n",
            "Ingrese el valor del producto 3: 50000\n",
            "El valor total de los 3 productos incluyendo los costos de envío es: 114400.0\n",
            "El valor promedio de los productos antes de realizar los incrementos es: 33333.33\n",
            "El valor promedio de los productos despues de realizar los incrementos es: 38133.33\n"
          ]
        }
      ]
    },
    {
      "cell_type": "markdown",
      "source": [
        "###  **Ejercicio 4: Estado.**\n",
        "\n",
        "Teniendo en cuenta los siguientes valores considerados como normales. Escriba un programa que solicite cada dato a un paciente partícular y muestre si el paciente esta en rangos normales o no.\n",
        "\n",
        "|Variable|Rango|Status|\n",
        "|---|---|---|\n",
        "|IMC|22,1 - 24,9| Normal|\n",
        "|Frecuencia Cardíaca|<70|Muy buena|\n",
        "|Presión Arterial|80 - 120|Normal|\n",
        "|Saturación de oxigeno|>95|Normal|\n"
      ],
      "metadata": {
        "id": "ET6Mpc4-ib1i"
      }
    },
    {
      "cell_type": "code",
      "source": [
        "def evaluar_estado(imc, frecuencia_cardiaca, presion_arterial, saturacion_oxigeno):\n",
        "  \"\"\"Evalúa parámetros de salud y determina si se encuentran dentro del rango considerado normal.\n",
        "     Los parámetros que se evalúan son el Índice de Masa Corporal (IMC), la frecuencia cardíaca, la presión arterial y la saturación de oxígeno.\n",
        "     La función imprime el estado de cada uno de estos parámetros, indicando si están dentro del rango normal o si están \"Fuera de rango\".\n",
        "  Parámetros de entrada:\n",
        "    imc (float): El Índice de Masa Corporal de la persona. Debe ser un número decimal. Se evalúa si está en el rango de 22 a 24.9.\n",
        "    frecuencia_cardiaca (int): La frecuencia cardíaca de la persona. Debe ser un número entero. Se evalúa si está en el rango de 60 a 100 latidos por minuto.\n",
        "    presion_arterial (int): La presión arterial de la persona. Debe ser un número entero. Se evalúa si está en el rango de 80 a 120 mmHg.\n",
        "    saturacion_oxigeno (int): El nivel de saturación de oxígeno en sangre. Debe ser un número entero. Se evalúa si está por encima de 95%.\n",
        "  Comportamiento:\n",
        "    Si el IMC está en el rango de 22 a 24.9, imprime Normal; de lo contrario, imprime Fuera de rango.\n",
        "    Si la frecuencia cardíaca está entre 60 y 100 latidos por minuto, imprime Normal; si está fuera de ese rango, imprime Fuera de rango.\n",
        "    Si la presión arterial está entre 80 y 120 mmHg, imprime Normal; de lo contrario, imprime Fuera de rango.\n",
        "    Si la saturación de oxígeno es mayor que 95%, imprime Normal; si es menor o igual, imprime Fuera de rango.\"\"\"\n",
        "  print(\"IMC:\", \"Normal\" if 22 <= imc <= 24.9 else \"Fuera de rango\")\n",
        "  print(\"Frecuencia Cardíaca:\", \"Normal\" if 60 <= frecuencia_cardiaca <= 100 else \"Fuera de rango\")\n",
        "  print(\"Presión Arterial:\", \"Normal\" if 80 <= presion_arterial <= 120 else \"Fuera de rango\")\n",
        "  print(\"Saturación de Oxígeno:\", \"Normal\" if saturacion_oxigeno > 95 else \"Fuera de rango\")\n",
        "\n",
        "imc = float(input(\"Ingresa el IMC: \"))\n",
        "frecuencia_cardiaca = int(input(\"Ingresa la frecuencia cardíaca: \"))\n",
        "presion_arterial = int(input(\"Ingresa la presión arterial: \"))\n",
        "saturacion_oxigeno = int(input(\"Ingresa la saturación de oxígeno: \"))\n",
        "\n",
        "evaluar_estado(imc, frecuencia_cardiaca, presion_arterial, saturacion_oxigeno)"
      ],
      "metadata": {
        "id": "ByDPN73_ilNg",
        "colab": {
          "base_uri": "https://localhost:8080/"
        },
        "outputId": "5718a1fb-23a6-48da-ca33-f8b5a7dd7b56"
      },
      "execution_count": 62,
      "outputs": [
        {
          "output_type": "stream",
          "name": "stdout",
          "text": [
            "Ingresa el IMC: 23\n",
            "Ingresa la frecuencia cardíaca: 56\n",
            "Ingresa la presión arterial: 89\n",
            "Ingresa la saturación de oxígeno: 98\n",
            "IMC: Normal\n",
            "Frecuencia Cardíaca: Fuera de rango\n",
            "Presión Arterial: Normal\n",
            "Saturación de Oxígeno: Normal\n"
          ]
        }
      ]
    },
    {
      "cell_type": "markdown",
      "source": [
        "### **Ejercicio 5: Determinar el cuadrante**\n",
        "\n",
        "Suponga que despues de realizar una encuesta sobre la visión política y económica a diferentes ciudadanos, se obtienen dos valores que varían entre -50 y 50. El primero, eje horizontal, hace referencia a la tendencia política y el segundo a su visión económica. Contruya un programa que al leer estás dos opuntuaciones determine en que cuadrante se encuentra la persona teniendo como referencia el siguiente gráfico:\n",
        "\n",
        "<img src=\"https://upload.wikimedia.org/wikipedia/commons/thumb/c/cc/Political_chart_ES_yLR.svg/1200px-Political_chart_ES_yLR.svg.png\" alt=\"Political Chart\" width=\"600\" height=\"400\">\n",
        "\n",
        "\n",
        "Fuente: https://upload.wikimedia.org/wikipedia/commons/thumb/c/cc/Political_chart_ES_yLR.svg/1200px-Political_chart_ES_yLR.svg.png"
      ],
      "metadata": {
        "id": "etZT_-XqigvW"
      }
    },
    {
      "cell_type": "code",
      "source": [
        "def determinar_cuadrante():\n",
        "    politica = float(input(\"Ingresa el valor político: \"))\n",
        "    economica = float(input(\"Ingresa el valor económico: \"))\n",
        "\n",
        "    if politica >= 0 and economica >= 0:\n",
        "        print(\"Cuadrante: Derecha Autoritaria\")\n",
        "    elif politica >= 0 and economica < 0:\n",
        "        print(\"Cuadrante: Derecha Libertaria\")\n",
        "    elif politica < 0 and economica >= 0:\n",
        "        print(\"Cuadrante: Izquierda Autoritaria\")\n",
        "    else:\n",
        "        print(\"Cuadrante: Izquierda Libertaria\")\n",
        "\n",
        "determinar_cuadrante()"
      ],
      "metadata": {
        "id": "SzBct6MxitlY",
        "colab": {
          "base_uri": "https://localhost:8080/"
        },
        "outputId": "612190a6-5d52-4e19-8dc0-66e5ad4f17c5"
      },
      "execution_count": null,
      "outputs": [
        {
          "output_type": "stream",
          "name": "stdout",
          "text": [
            "Ingresa el valor político: 30\n",
            "Ingresa el valor económico: 67\n",
            "Cuadrante: Derecha Autoritaria\n"
          ]
        }
      ]
    },
    {
      "cell_type": "markdown",
      "source": [
        "### __Ejercicio 6: crecimiento poblacional__\n",
        "\n",
        "En 2024 el país A tendrá una población de 25 millones de habitantes y el país B de 18.9 millones. Las tasas de crecimiento anual de la población serán de 2% y 3% respectivamente. Desarrollar un algoritmo para informar en que año la población del país B superar ́a la de A."
      ],
      "metadata": {
        "id": "jNyyUIgXXHqJ"
      }
    },
    {
      "cell_type": "code",
      "source": [
        "def calcular_posicion_final(x_inicial, y_inicial, movimientos):\n",
        "    x_final = x_inicial\n",
        "    y_final = y_inicial\n",
        "    for movimiento in movimientos:\n",
        "        x_final += movimiento[0]\n",
        "        y_final += movimiento[1]\n",
        "    return x_final, y_final\n",
        "\n",
        "x_inicial = int(input(\"Posición inicial en x: \"))\n",
        "y_inicial = int(input(\"Posición inicial en y: \"))\n",
        "movimientos = [(2, 3), (-1, -4), (0, 5)]  # Ejemplo de movimientos\n",
        "\n",
        "x_final, y_final = calcular_posicion_final(x_inicial, y_inicial, movimientos)\n",
        "print(f\"La posición final es ({x_final}, {y_final})\")"
      ],
      "metadata": {
        "id": "cQj1jM0xXZKv",
        "colab": {
          "base_uri": "https://localhost:8080/"
        },
        "outputId": "8f32a66d-39d1-4a3f-da45-ad2c6910ee0f"
      },
      "execution_count": null,
      "outputs": [
        {
          "output_type": "stream",
          "name": "stdout",
          "text": [
            "Posición inicial en x: 2024\n",
            "Posición inicial en y: 2030\n",
            "La posición final es (2025, 2034)\n"
          ]
        }
      ]
    },
    {
      "cell_type": "markdown",
      "source": [
        "### __Ejercicio 7: calificación examen__\n",
        "Un estudiante que se presento a la Universidad de Cataluña, desea saber cual es el puntaje total de su examen de ingreso teniendo en cuenta la siguiente información:\n",
        "\n",
        "La prueba tenia un total de 25 preguntas, que tenían los siguientes valores de calificación:\n",
        "\n",
        "* Los ejercicios tenían un valor del 4 putos\n",
        "\n",
        "* Las preguntas un valor de 2.5 puntos.\n",
        "\n",
        "El estudiante tiene la siguiente información de los resultados de la prueba:\n",
        "\n",
        "Numero de preguntas que respondió: 15\n",
        "\n",
        "Numero de preguntas que respondió correctas: 12\n",
        "\n",
        "Numero de ejercicios que respondió: 10\n",
        "\n",
        "Numero de ejercicios que respondió correctos 6\n",
        "\n",
        "Realice un código que determine el puntaje total de la prueba que presento."
      ],
      "metadata": {
        "id": "yedsqyk1Xans"
      }
    },
    {
      "cell_type": "code",
      "source": [
        "def calificacion_total(calificaciones, porcentajes):\n",
        "  \"\"\"Calcular cual es el puntaje total del examen de ingreso teniendo en cuenta la información dada.\n",
        "  Parámetros de entrada:\n",
        "  calificaciones: lista de calificaciones\n",
        "  porcentajes: Porcentajes correspondientes de las calificaciones\"\"\"\n",
        "  total = 0\n",
        "  for calificacion, porcentaje in zip(calificaciones, porcentajes):\n",
        "      total += calificacion * (porcentaje / 100)\n",
        "  return total\n",
        "\n",
        "calificaciones = [4.0, 3.5, 5.0, 2.5]  # Calificaciones de ejemplo\n",
        "porcentajes = [30, 20, 40, 10]  # Porcentajes correspondientes\n",
        "\n",
        "resultado = calificacion_total(calificaciones, porcentajes)\n",
        "print(f\"La calificación total ponderada es: {resultado:.2f}\")"
      ],
      "metadata": {
        "id": "KexR2OGWX95S",
        "colab": {
          "base_uri": "https://localhost:8080/"
        },
        "outputId": "3594365e-f8c8-44fe-f7e7-9f65c94bd0ee"
      },
      "execution_count": null,
      "outputs": [
        {
          "output_type": "stream",
          "name": "stdout",
          "text": [
            "La calificación total ponderada es: 4.15\n"
          ]
        }
      ]
    },
    {
      "cell_type": "markdown",
      "source": [
        "### __Ejercicio 8: concesionario__\n",
        "\n",
        "Realice un código que me permita almacenar la información de un concesionario. La idea es que por consola me solicite el año del carro en el que estoy interesado, el color, y marca. El programa deberá mostrarme por consola, una cotización del carro en el que estoy interesado.\n",
        "\n",
        "De esta forma, la cotización deberá mostrar el nombre de la persona que esta interesado en el carro y los datos de carro: año, color, marca y precio antes del incremento y precio después del incremento.  \n",
        "\n",
        "Para calcular el precio del carro deberá tener en cuenta las siguientes condiciones:\n",
        "\n",
        "1. Si el carro es un modelo del 2000 para atrás e incluyendo el año, se deberá incrementar el 10% sobre el valor seleccionado (el valor debe ponerlo usted)\n",
        "\n",
        "2. Si el carro es modelo 2001 o superior, deberá incrementar su tamaño el 20% sobre el valor seleccionado (el valor debe ponerlo usted)"
      ],
      "metadata": {
        "id": "W4QwLNk2YDhY"
      }
    },
    {
      "cell_type": "code",
      "source": [
        "# Lista de modelos de vehiculos:\n",
        "vehiculos_colombia_dict = {\n",
        "    1990: [\n",
        "        {\"marca\": \"Chevrolet\", \"modelo\": \"Spark\", \"color\": \"Rojo\", \"valor\": 12000000},\n",
        "        {\"marca\": \"Mazda\", \"modelo\": \"626\", \"color\": \"Blanco\", \"valor\": 15000000},\n",
        "        {\"marca\": \"Toyota\", \"modelo\": \"Corolla\", \"color\": \"Negro\", \"valor\": 17000000},\n",
        "        {\"marca\": \"Ford\", \"modelo\": \"Fiesta\", \"color\": \"Azul\", \"valor\": 16000000},\n",
        "        {\"marca\": \"Renault\", \"modelo\": \"9\", \"color\": \"Gris\", \"valor\": 14000000}\n",
        "    ],\n",
        "    1991: [\n",
        "        {\"marca\": \"Chevrolet\", \"modelo\": \"Aveo\", \"color\": \"Rojo\", \"valor\": 13000000},\n",
        "        {\"marca\": \"Mazda\", \"modelo\": \"323\", \"color\": \"Verde\", \"valor\": 15500000},\n",
        "        {\"marca\": \"Toyota\", \"modelo\": \"Yaris\", \"color\": \"Blanco\", \"valor\": 16500000},\n",
        "        {\"marca\": \"Ford\", \"modelo\": \"Escort\", \"color\": \"Negro\", \"valor\": 14500000},\n",
        "        {\"marca\": \"Renault\", \"modelo\": \"Clio\", \"color\": \"Azul\", \"valor\": 15000000}\n",
        "    ],\n",
        "    1992: [\n",
        "        {\"marca\": \"Chevrolet\", \"modelo\": \"Corsa\", \"color\": \"Verde\", \"valor\": 14000000},\n",
        "        {\"marca\": \"Mazda\", \"modelo\": \"MX-5\", \"color\": \"Rojo\", \"valor\": 17500000},\n",
        "        {\"marca\": \"Toyota\", \"modelo\": \"Land Cruiser\", \"color\": \"Blanco\", \"valor\": 25000000},\n",
        "        {\"marca\": \"Ford\", \"modelo\": \"Explorer\", \"color\": \"Gris\", \"valor\": 20000000},\n",
        "        {\"marca\": \"Renault\", \"modelo\": \"Laguna\", \"color\": \"Negro\", \"valor\": 16000000}\n",
        "    ],\n",
        "    1993: [\n",
        "        {\"marca\": \"Chevrolet\", \"modelo\": \"Sail\", \"color\": \"Rojo\", \"valor\": 14500000},\n",
        "        {\"marca\": \"Mazda\", \"modelo\": \"Protegé\", \"color\": \"Blanco\", \"valor\": 15500000},\n",
        "        {\"marca\": \"Toyota\", \"modelo\": \"Camry\", \"color\": \"Negro\", \"valor\": 19000000},\n",
        "        {\"marca\": \"Ford\", \"modelo\": \"F-150\", \"color\": \"Gris\", \"valor\": 22000000},\n",
        "        {\"marca\": \"Renault\", \"modelo\": \"Kangoo\", \"color\": \"Verde\", \"valor\": 16500000}\n",
        "    ],\n",
        "    1994: [\n",
        "        {\"marca\": \"Chevrolet\", \"modelo\": \"Tracker\", \"color\": \"Azul\", \"valor\": 16000000},\n",
        "        {\"marca\": \"Mazda\", \"modelo\": \"626\", \"color\": \"Rojo\", \"valor\": 18000000},\n",
        "        {\"marca\": \"Toyota\", \"modelo\": \"Hilux\", \"color\": \"Blanco\", \"valor\": 23000000},\n",
        "        {\"marca\": \"Ford\", \"modelo\": \"Ranger\", \"color\": \"Negro\", \"valor\": 24000000},\n",
        "        {\"marca\": \"Renault\", \"modelo\": \"Espace\", \"color\": \"Gris\", \"valor\": 17000000}\n",
        "    ],\n",
        "    1995: [\n",
        "        {\"marca\": \"Chevrolet\", \"modelo\": \"Suburban\", \"color\": \"Verde\", \"valor\": 25000000},\n",
        "        {\"marca\": \"Mazda\", \"modelo\": \"MX-3\", \"color\": \"Blanco\", \"valor\": 16500000},\n",
        "        {\"marca\": \"Toyota\", \"modelo\": \"4Runner\", \"color\": \"Negro\", \"valor\": 24000000},\n",
        "        {\"marca\": \"Ford\", \"modelo\": \"Mustang\", \"color\": \"Rojo\", \"valor\": 28000000},\n",
        "        {\"marca\": \"Renault\", \"modelo\": \"Scenic\", \"color\": \"Azul\", \"valor\": 19000000}\n",
        "    ],\n",
        "    1996: [\n",
        "        {\"marca\": \"Chevrolet\", \"modelo\": \"Cavalier\", \"color\": \"Rojo\", \"valor\": 17000000},\n",
        "        {\"marca\": \"Mazda\", \"modelo\": \"MX-5\", \"color\": \"Gris\", \"valor\": 19000000},\n",
        "        {\"marca\": \"Toyota\", \"modelo\": \"RAV4\", \"color\": \"Azul\", \"valor\": 25000000},\n",
        "        {\"marca\": \"Ford\", \"modelo\": \"Expedition\", \"color\": \"Verde\", \"valor\": 30000000},\n",
        "        {\"marca\": \"Renault\", \"modelo\": \"Megane\", \"color\": \"Blanco\", \"valor\": 20000000}\n",
        "    ],\n",
        "    1997: [\n",
        "        {\"marca\": \"Chevrolet\", \"modelo\": \"Prisma\", \"color\": \"Rojo\", \"valor\": 19000000},\n",
        "        {\"marca\": \"Mazda\", \"modelo\": \"MX-5\", \"color\": \"Azul\", \"valor\": 20000000},\n",
        "        {\"marca\": \"Toyota\", \"modelo\": \"Land Cruiser\", \"color\": \"Negro\", \"valor\": 30000000},\n",
        "        {\"marca\": \"Ford\", \"modelo\": \"F-150\", \"color\": \"Gris\", \"valor\": 28000000},\n",
        "        {\"marca\": \"Renault\", \"modelo\": \"Scenic\", \"color\": \"Blanco\", \"valor\": 21000000}\n",
        "    ],\n",
        "    1998: [\n",
        "        {\"marca\": \"Chevrolet\", \"modelo\": \"S10\", \"color\": \"Verde\", \"valor\": 22000000},\n",
        "        {\"marca\": \"Mazda\", \"modelo\": \"626\", \"color\": \"Rojo\", \"valor\": 21000000},\n",
        "        {\"marca\": \"Toyota\", \"modelo\": \"Tacoma\", \"color\": \"Blanco\", \"valor\": 25000000},\n",
        "        {\"marca\": \"Ford\", \"modelo\": \"Explorer\", \"color\": \"Negro\", \"valor\": 30000000},\n",
        "        {\"marca\": \"Renault\", \"modelo\": \"Laguna\", \"color\": \"Azul\", \"valor\": 22000000}\n",
        "    ],\n",
        "    1999: [\n",
        "        {\"marca\": \"Chevrolet\", \"modelo\": \"Tracker\", \"color\": \"Blanco\", \"valor\": 23000000},\n",
        "        {\"marca\": \"Mazda\", \"modelo\": \"Mazda3\", \"color\": \"Negro\", \"valor\": 24000000},\n",
        "        {\"marca\": \"Toyota\", \"modelo\": \"4Runner\", \"color\": \"Verde\", \"valor\": 28000000},\n",
        "        {\"marca\": \"Ford\", \"modelo\": \"Ranger\", \"color\": \"Rojo\", \"valor\": 25000000},\n",
        "        {\"marca\": \"Renault\", \"modelo\": \"Kangoo\", \"color\": \"Gris\", \"valor\": 23000000}\n",
        "    ],\n",
        "    2000: [\n",
        "        {\"marca\": \"Chevrolet\", \"modelo\": \"Sail\", \"color\": \"Rojo\", \"valor\": 24000000},\n",
        "        {\"marca\": \"Mazda\", \"modelo\": \"Mazda6\", \"color\": \"Gris\", \"valor\": 25000000},\n",
        "        {\"marca\": \"Toyota\", \"modelo\": \"Hilux\", \"color\": \"Azul\", \"valor\": 31000000},\n",
        "        {\"marca\": \"Ford\", \"modelo\": \"Expedition\", \"color\": \"Blanco\", \"valor\": 35000000},\n",
        "        {\"marca\": \"Renault\", \"modelo\": \"Scenic\", \"color\": \"Negro\", \"valor\": 24000000}\n",
        "    ],\n",
        "    2001: [\n",
        "        {\"marca\": \"Chevrolet\", \"modelo\": \"LUV\", \"color\": \"Verde\", \"valor\": 26000000},\n",
        "        {\"marca\": \"Mazda\", \"modelo\": \"CX-5\", \"color\": \"Azul\", \"valor\": 28000000},\n",
        "        {\"marca\": \"Toyota\", \"modelo\": \"Fortuner\", \"color\": \"Rojo\", \"valor\": 32000000},\n",
        "        {\"marca\": \"Ford\", \"modelo\": \"Mondeo\", \"color\": \"Negro\", \"valor\": 33000000},\n",
        "        {\"marca\": \"Renault\", \"modelo\": \"Logan\", \"color\": \"Gris\", \"valor\": 25000000}\n",
        "    ],\n",
        "    2002: [\n",
        "        {\"marca\": \"Chevrolet\", \"modelo\": \"Aveo\", \"color\": \"Blanco\", \"valor\": 28000000},\n",
        "        {\"marca\": \"Mazda\", \"modelo\": \"Mazda2\", \"color\": \"Rojo\", \"valor\": 29000000},\n",
        "        {\"marca\": \"Toyota\", \"modelo\": \"Camry\", \"color\": \"Verde\", \"valor\": 34000000},\n",
        "        {\"marca\": \"Ford\", \"modelo\": \"Escape\", \"color\": \"Azul\", \"valor\": 36000000},\n",
        "        {\"marca\": \"Renault\", \"modelo\": \"Laguna\", \"color\": \"Negro\", \"valor\": 27000000}\n",
        "    ],\n",
        "    2003: [\n",
        "        {\"marca\": \"Chevrolet\", \"modelo\": \"Spark\", \"color\": \"Rojo\", \"valor\": 28000000},\n",
        "        {\"marca\": \"Mazda\", \"modelo\": \"Mazda6\", \"color\": \"Azul\", \"valor\": 31000000},\n",
        "        {\"marca\": \"Toyota\", \"modelo\": \"Land Cruiser\", \"color\": \"Negro\", \"valor\": 38000000},\n",
        "        {\"marca\": \"Ford\", \"modelo\": \"F-250\", \"color\": \"Gris\", \"valor\": 40000000},\n",
        "        {\"marca\": \"Renault\", \"modelo\": \"Scenic\", \"color\": \"Blanco\", \"valor\": 29000000}\n",
        "    ],\n",
        "    2004: [\n",
        "        {\"marca\": \"Chevrolet\", \"modelo\": \"Corsa\", \"color\": \"Verde\", \"valor\": 30000000},\n",
        "        {\"marca\": \"Mazda\", \"modelo\": \"Mazda3\", \"color\": \"Rojo\", \"valor\": 32000000},\n",
        "        {\"marca\": \"Toyota\", \"modelo\": \"RAV4\", \"color\": \"Blanco\", \"valor\": 35000000},\n",
        "        {\"marca\": \"Ford\", \"modelo\": \"Explorer\", \"color\": \"Negro\", \"valor\": 38000000},\n",
        "        {\"marca\": \"Renault\", \"modelo\": \"Laguna\", \"color\": \"Azul\", \"valor\": 30000000}\n",
        "    ]\n",
        "}\n",
        "vehiculos_colombia_dict.update({\n",
        "    2005: [\n",
        "        {\"marca\": \"Chevrolet\", \"modelo\": \"Aveo\", \"color\": \"Rojo\", \"valor\": 32000000},\n",
        "        {\"marca\": \"Mazda\", \"modelo\": \"Mazda6\", \"color\": \"Gris\", \"valor\": 34000000},\n",
        "        {\"marca\": \"Toyota\", \"modelo\": \"Corolla\", \"color\": \"Negro\", \"valor\": 37000000},\n",
        "        {\"marca\": \"Ford\", \"modelo\": \"F-150\", \"color\": \"Azul\", \"valor\": 40000000},\n",
        "        {\"marca\": \"Renault\", \"modelo\": \"Scenic\", \"color\": \"Blanco\", \"valor\": 32000000}\n",
        "    ],\n",
        "    2006: [\n",
        "        {\"marca\": \"Chevrolet\", \"modelo\": \"Sail\", \"color\": \"Verde\", \"valor\": 33000000},\n",
        "        {\"marca\": \"Mazda\", \"modelo\": \"CX-7\", \"color\": \"Rojo\", \"valor\": 36000000},\n",
        "        {\"marca\": \"Toyota\", \"modelo\": \"RAV4\", \"color\": \"Blanco\", \"valor\": 39000000},\n",
        "        {\"marca\": \"Ford\", \"modelo\": \"Mondeo\", \"color\": \"Gris\", \"valor\": 42000000},\n",
        "        {\"marca\": \"Renault\", \"modelo\": \"Logan\", \"color\": \"Negro\", \"valor\": 33000000}\n",
        "    ],\n",
        "    2007: [\n",
        "        {\"marca\": \"Chevrolet\", \"modelo\": \"Spark\", \"color\": \"Azul\", \"valor\": 34000000},\n",
        "        {\"marca\": \"Mazda\", \"modelo\": \"Mazda3\", \"color\": \"Blanco\", \"valor\": 37000000},\n",
        "        {\"marca\": \"Toyota\", \"modelo\": \"Fortuner\", \"color\": \"Rojo\", \"valor\": 40000000},\n",
        "        {\"marca\": \"Ford\", \"modelo\": \"Explorer\", \"color\": \"Verde\", \"valor\": 43000000},\n",
        "        {\"marca\": \"Renault\", \"modelo\": \"Scenic\", \"color\": \"Gris\", \"valor\": 34000000}\n",
        "    ],\n",
        "    2008: [\n",
        "        {\"marca\": \"Chevrolet\", \"modelo\": \"Aveo\", \"color\": \"Negro\", \"valor\": 35000000},\n",
        "        {\"marca\": \"Mazda\", \"modelo\": \"Mazda6\", \"color\": \"Rojo\", \"valor\": 38000000},\n",
        "        {\"marca\": \"Toyota\", \"modelo\": \"Land Cruiser\", \"color\": \"Blanco\", \"valor\": 45000000},\n",
        "        {\"marca\": \"Ford\", \"modelo\": \"F-250\", \"color\": \"Azul\", \"valor\": 48000000},\n",
        "        {\"marca\": \"Renault\", \"modelo\": \"Laguna\", \"color\": \"Verde\", \"valor\": 35000000}\n",
        "    ],\n",
        "    2009: [\n",
        "        {\"marca\": \"Chevrolet\", \"modelo\": \"Corsa\", \"color\": \"Blanco\", \"valor\": 36000000},\n",
        "        {\"marca\": \"Mazda\", \"modelo\": \"Mazda3\", \"color\": \"Gris\", \"valor\": 40000000},\n",
        "        {\"marca\": \"Toyota\", \"modelo\": \"Hilux\", \"color\": \"Negro\", \"valor\": 46000000},\n",
        "        {\"marca\": \"Ford\", \"modelo\": \"F-150\", \"color\": \"Rojo\", \"valor\": 50000000},\n",
        "        {\"marca\": \"Renault\", \"modelo\": \"Scenic\", \"color\": \"Blanco\", \"valor\": 36000000}\n",
        "    ],\n",
        "    2010: [\n",
        "        {\"marca\": \"Chevrolet\", \"modelo\": \"Sail\", \"color\": \"Azul\", \"valor\": 37000000},\n",
        "        {\"marca\": \"Mazda\", \"modelo\": \"CX-5\", \"color\": \"Blanco\", \"valor\": 42000000},\n",
        "        {\"marca\": \"Toyota\", \"modelo\": \"Land Cruiser Prado\", \"color\": \"Verde\", \"valor\": 48000000},\n",
        "        {\"marca\": \"Ford\", \"modelo\": \"Mondeo\", \"color\": \"Negro\", \"valor\": 53000000},\n",
        "        {\"marca\": \"Renault\", \"modelo\": \"Kangoo\", \"color\": \"Rojo\", \"valor\": 37000000}\n",
        "    ]\n",
        "})"
      ],
      "metadata": {
        "id": "53E3hRqV22P1"
      },
      "execution_count": 12,
      "outputs": []
    },
    {
      "cell_type": "code",
      "source": [
        "# Solución propuesta\n",
        "try:\n",
        "  # Solicitar el año modelo:\n",
        "  anio_modelo = int(input(\"Ingrese el año modelo del carro: \"))\n",
        "\n",
        "  # Solicitar la marca:\n",
        "  marca = input(\"Ingrese la marca del carro: \")\n",
        "\n",
        "  # Solicitar el color:\n",
        "  color = input(\"Ingrese el color del carro: \")\n",
        "\n",
        "  # Solicitar nombre de la persona:\n",
        "  nombre_interesado = input(\"Ingrese su nombre: \")\n",
        "\n",
        "  # Calcular valor:\n",
        "  vehiculos_anio_modelo = vehiculos_colombia_dict.get(anio_modelo)\n",
        "  if vehiculos_anio_modelo:\n",
        "    valor_carro = next(iter(filter(lambda x: x[\"marca\"].lower()==marca.lower() and x['color'].lower()==color.lower(), vehiculos_anio_modelo)), None)\n",
        "    if valor_carro:\n",
        "      if anio_modelo <= 2000:\n",
        "        resultado = valor_carro['valor'] * 1.10\n",
        "      else:\n",
        "        resultado = valor_carro['valor'] * 1.20\n",
        "      # Mostrar resultado:\n",
        "      print(f\"Señor(a) {nombre_interesado}, el valor del vehículo {marca} modelo {anio_modelo} color {color} es de ${valor_carro['valor']:,.0f}\")\n",
        "      print(f\"El precio final con el incremento es: ${resultado:,.0f}\")\n",
        "    else:\n",
        "      print(f\"Señor(a) {nombre_interesado}, no hay ningún vehículo marca {marca}, modelo {anio_modelo}, color {color} para realizar la cotización\")\n",
        "  else:\n",
        "    print(f\"Señor(a) {nombre_interesado}, no hay ningún vehículo modelo {anio_modelo} para realizar la cotización\")\n",
        "except ValueError:\n",
        "  print(\"Error: Ingrese un año válido\")"
      ],
      "metadata": {
        "id": "NHp6V53iYa29",
        "colab": {
          "base_uri": "https://localhost:8080/"
        },
        "outputId": "53f25fd6-ac0f-4644-b47c-bbac52b690a6"
      },
      "execution_count": 46,
      "outputs": [
        {
          "output_type": "stream",
          "name": "stdout",
          "text": [
            "Ingrese el año modelo del carro: 2000\n",
            "Ingrese la marca del carro: Ford\n",
            "Ingrese el color del carro: Blanco\n",
            "Ingrese su nombre: William\n",
            "Señor(a) William, el valor del vehículo Ford modelo 2000 color Blanco es de $35,000,000\n",
            "El precio final con el incremento es: $38,500,000\n"
          ]
        }
      ]
    },
    {
      "cell_type": "markdown",
      "source": [
        "### __Ejercicio 9: sucesión de Fibonacci__\n",
        "En matemática, la sucesión de Fibonacci se trata de una serie infinita de números naturales que empieza con un 0 y un 1 y continúa añadiendo números que son la suma de los dos anteriores. Ejemplo: 0, 1, 1, 2, 3, 5, 8, 13, 21, 34, 55, 89, 144, 233, 377, 610, 987, 1597\n",
        "\n",
        "Realice un código que permita hacer obtener la sucesión de fibonacci. El programa debe solicitar el numero en que la serie debe parar  y de esa forma ver los números de la serie en consola."
      ],
      "metadata": {
        "id": "KdFEqb2SYwHG"
      }
    },
    {
      "cell_type": "code",
      "source": [
        "# Solución propuesta\n",
        "# Generar serie teniendo en cuenta una cantidad dada de numeros de la serie.\n",
        "#Entrada\n",
        "NTermino=int(input(\"Ingrese el enesimo termino de la serie Fibonacci: \"))\n",
        "\n",
        "Fibonacci=[]\n",
        "N1=0\n",
        "N2=1\n",
        "N3=1\n",
        "\n",
        "for i in range(NTermino):\n",
        "  N1=N2\n",
        "  N2=N3\n",
        "  N3=N1+N2\n",
        "\n",
        "  Fibonacci.append(N2)\n",
        "\n",
        "print(Fibonacci)"
      ],
      "metadata": {
        "id": "3E84wlAoYv3t",
        "colab": {
          "base_uri": "https://localhost:8080/"
        },
        "outputId": "18a7f76e-0f60-4b44-d378-46ca12041df6"
      },
      "execution_count": 66,
      "outputs": [
        {
          "output_type": "stream",
          "name": "stdout",
          "text": [
            "Ingrese el enesimo termino de la serie Fibonacci: 12\n",
            "[1, 2, 3, 5, 8, 13, 21, 34, 55, 89, 144, 233]\n"
          ]
        }
      ]
    },
    {
      "cell_type": "code",
      "source": [
        "def generar_fibonacci(hasta):\n",
        "  \"\"\"Generar serie teniendo en cuenta un valor máximo dado.\n",
        "  Parametros:\n",
        "  hasta: valor maximo de la serie\n",
        "  \"\"\"\n",
        "  # Inicializar los primeros dos números de la secuencia\n",
        "  fibonacci = [0, 1]\n",
        "\n",
        "  # Generar la secuencia hasta el valor dado\n",
        "  while fibonacci[-1] + fibonacci[-2] <= hasta:\n",
        "      fibonacci.append(fibonacci[-1] + fibonacci[-2])\n",
        "\n",
        "  return fibonacci\n",
        "\n",
        "# Ejemplo de uso:\n",
        "valor_maximo = int(input(\"Ingresa el valor máximo para la serie Fibonacci: \"))\n",
        "resultado = generar_fibonacci(valor_maximo)\n",
        "print(\"Serie Fibonacci hasta el valor dado:\", resultado)\n"
      ],
      "metadata": {
        "id": "bcgstIP-kPCV",
        "outputId": "77128853-0c3c-4fcd-9257-453b80fccca7",
        "colab": {
          "base_uri": "https://localhost:8080/"
        }
      },
      "execution_count": 70,
      "outputs": [
        {
          "output_type": "stream",
          "name": "stdout",
          "text": [
            "Ingresa el valor máximo para la serie Fibonacci: 1597\n",
            "Serie Fibonacci hasta el valor dado: [0, 1, 1, 2, 3, 5, 8, 13, 21, 34, 55, 89, 144, 233, 377, 610, 987, 1597]\n"
          ]
        }
      ]
    }
  ]
}