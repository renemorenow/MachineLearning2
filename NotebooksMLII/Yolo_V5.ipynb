{
  "nbformat": 4,
  "nbformat_minor": 0,
  "metadata": {
    "colab": {
      "provenance": [],
      "authorship_tag": "ABX9TyNZd3lgqOpAlmcOGq492z8f",
      "include_colab_link": true
    },
    "kernelspec": {
      "name": "python3",
      "display_name": "Python 3"
    },
    "language_info": {
      "name": "python"
    },
    "accelerator": "GPU",
    "gpuClass": "standard"
  },
  "cells": [
    {
      "cell_type": "markdown",
      "metadata": {
        "id": "view-in-github",
        "colab_type": "text"
      },
      "source": [
        "<a href=\"https://colab.research.google.com/github/Baeltor/PCD/blob/prog/NotebooksMLII/Yolo_V5.ipynb\" target=\"_parent\"><img src=\"https://colab.research.google.com/assets/colab-badge.svg\" alt=\"Open In Colab\"/></a>"
      ]
    },
    {
      "cell_type": "markdown",
      "source": [
        "# Ejercicio de reconocimeinto de objetos con YOLO\n",
        "\n",
        "---\n",
        "### Presentado por: Sergio David Díaz Veru\n",
        "---\n",
        "\n",
        "Cargamos las librerias necesarias"
      ],
      "metadata": {
        "id": "Oq6Lo0HvhBz8"
      }
    },
    {
      "cell_type": "code",
      "execution_count": 1,
      "metadata": {
        "colab": {
          "base_uri": "https://localhost:8080/"
        },
        "id": "e0O9PLjug2dN",
        "outputId": "9367406d-c1d5-49d0-9b95-ea5d900b297c"
      },
      "outputs": [
        {
          "output_type": "stream",
          "name": "stdout",
          "text": [
            "fatal: destination path 'yolov5' already exists and is not an empty directory.\n"
          ]
        }
      ],
      "source": [
        "!git clone https://github.com/ultralytics/yolov5"
      ]
    },
    {
      "cell_type": "code",
      "source": [
        "%cd yolov5\n",
        "\n",
        "%pip install -qr requirements.txt\n",
        "%pip install -q roboflow\n",
        "\n",
        "import torch\n",
        "import os\n",
        "from IPython.display import Image, clear_output\n",
        "print(f\"Configuración completa. Torch cargado {torch.__version__} ({torch.cuda.get_device_properties(0).name if torch.cuda.is_available() else 'CPU'})\")"
      ],
      "metadata": {
        "colab": {
          "base_uri": "https://localhost:8080/"
        },
        "id": "-fHyoIUGhFxM",
        "outputId": "219a9f2e-ce4f-4ad7-afcd-09a50621d43d"
      },
      "execution_count": 2,
      "outputs": [
        {
          "output_type": "stream",
          "name": "stdout",
          "text": [
            "/content/yolov5\n",
            "Configuración completa. Torch cargado 2.5.0+cu121 (Tesla T4)\n"
          ]
        }
      ]
    },
    {
      "cell_type": "markdown",
      "source": [
        "## Cargar los datos"
      ],
      "metadata": {
        "id": "r9DRivr6h8tP"
      }
    },
    {
      "cell_type": "code",
      "source": [
        "!unzip -q /content/Images_cats.zip -d /content/"
      ],
      "metadata": {
        "id": "EqBi-YsrhJxk",
        "colab": {
          "base_uri": "https://localhost:8080/"
        },
        "outputId": "3bb795b9-9ce0-4cfe-c38f-eb2e63999382"
      },
      "execution_count": null,
      "outputs": [
        {
          "output_type": "stream",
          "name": "stdout",
          "text": [
            "replace /content/Images_cats/images/train/0d2656839690d8f23871dac25af82a6c.jpg? [y]es, [n]o, [A]ll, [N]one, [r]ename: "
          ]
        }
      ]
    },
    {
      "cell_type": "code",
      "source": [
        "!python train.py --img 640 --batch 12 --epochs 8 --data /content/yolov5/data/custom_cat.yaml --weights yolov5x.pt --cache"
      ],
      "metadata": {
        "id": "b-W4T6dEiMyP"
      },
      "execution_count": null,
      "outputs": []
    },
    {
      "cell_type": "code",
      "source": [
        "%load_ext tensorboard\n",
        "%tensorboard --logdir runs"
      ],
      "metadata": {
        "id": "UyXbDkp4iLyN"
      },
      "execution_count": null,
      "outputs": []
    },
    {
      "cell_type": "code",
      "source": [
        "from google.colab import files\n",
        "files.download ('runs/train/exp/weights/best.pt')"
      ],
      "metadata": {
        "id": "Ph4Qs9pPmlhl"
      },
      "execution_count": null,
      "outputs": []
    },
    {
      "cell_type": "code",
      "source": [],
      "metadata": {
        "id": "QxxQVtL6qtd0"
      },
      "execution_count": null,
      "outputs": []
    }
  ]
}