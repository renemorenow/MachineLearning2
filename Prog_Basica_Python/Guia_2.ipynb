{
  "nbformat": 4,
  "nbformat_minor": 0,
  "metadata": {
    "colab": {
      "provenance": [],
      "include_colab_link": true
    },
    "kernelspec": {
      "name": "python3",
      "display_name": "Python 3"
    },
    "language_info": {
      "name": "python"
    }
  },
  "cells": [
    {
      "cell_type": "markdown",
      "metadata": {
        "id": "view-in-github",
        "colab_type": "text"
      },
      "source": [
        "<a href=\"https://colab.research.google.com/github/renemorenow/MachineLearning2/blob/main/Prog_Basica_Python/Guia_2.ipynb\" target=\"_parent\"><img src=\"https://colab.research.google.com/assets/colab-badge.svg\" alt=\"Open In Colab\"/></a>"
      ]
    },
    {
      "cell_type": "markdown",
      "source": [
        "#Integrantes\n",
        "\n",
        "Andersson Camilo Ordoñez Ruiz. Cédula de ciudadanía: 1061750759\n",
        "\n",
        "Miguel Felipe Corredor Montejo. Cédula de ciudadanía: 1098794311\n",
        "\n",
        "William Rene Moreno Romero. Cédula de ciudadanía: 74329638"
      ],
      "metadata": {
        "id": "8gIqOkcBtaml"
      }
    },
    {
      "cell_type": "markdown",
      "source": [
        "# **Guía 2**\n",
        "\n",
        "Objetivo: aplicar los conceptos de Pandas en la manipulación y análisis de datos estructurados. Se trabajará con Series y DataFrames, aplicando técnicas de acceso, selección, filtrado y agregación de datos.\n",
        "\n",
        "### **Caso de Negocio: Análisis de Deserción de Clientes en una Empresa de Telecomunicaciones**\n",
        "\n",
        "**Contexto**\n",
        "\n",
        "En la industria de las telecomunicaciones, la retención de clientes es un factor crítico para la sostenibilidad del negocio. La competencia es feroz y adquirir nuevos clientes suele ser más costoso que mantener a los actuales. En este análisis, exploraremos un conjunto de datos que contiene información detallada sobre clientes que han abandonado el servicio (churn) y aquellos que permanecen activos.\n",
        "\n",
        "Nuestro objetivo es identificar los factores clave que influyen en la deserción, comprender patrones de comportamiento y generar estrategias efectivas para reducir la tasa de abandono.\n",
        "\n",
        "La empresa ha experimentado un aumento en la tasa de deserción de clientes, lo que ha provocado:\n",
        "- Pérdida de ingresos recurrentes.\n",
        "- Incremento en los costos de adquisición de nuevos clientes.\n",
        "- Menor estabilidad en la base de clientes a largo plazo.\n",
        "\n",
        "Para abordar esta problemática, es crucial identificar las razones detrás de la deserción y desarrollar estrategias para mejorar la retención de clientes.\n",
        "\n"
      ],
      "metadata": {
        "id": "sVxeQki8vRXz"
      }
    },
    {
      "cell_type": "markdown",
      "source": [
        "**Entrega del Trabajo**\n",
        "\n",
        "Los estudiantes deben trabajar en grupos de entre 2 y 4 personas. Cada grupo deberá subir su trabajo a un repositorio de GitHub, asegurándose de que el código y los archivos necesarios estén bien organizados y documentados. Posteriormente, deberán enviar el enlace del repositorio en la plataforma Canvas para su evaluación.\n",
        "\n",
        "Instrucciones para la entrega:\n",
        "\n",
        "Crear un repositorio en GitHub con un nombre descriptivo para el proyecto.\n",
        "\n",
        "Subir el código en Jupyter Notebook (.ipynb) o en formato Python (.py).\n",
        "\n",
        "Incluir un archivo README.md con una breve descripción del trabajo y las instrucciones de ejecución.\n",
        "\n",
        "Compartir el enlace del repositorio en Canvas dentro del plazo establecido.\n",
        "\n"
      ],
      "metadata": {
        "id": "TBsud25XSR0w"
      }
    },
    {
      "cell_type": "markdown",
      "source": [
        "**Descripción de las variables del dataset telecom_churn**\n",
        "\n",
        "El dataset telecom_churn contiene información detallada sobre clientes de una empresa de telecomunicaciones, incluyendo datos generales, planes contratados, uso del servicio telefónico y llamadas al servicio al cliente. Su propósito principal es analizar patrones de deserción de clientes, identificados a través de la variable churn, que indica si un cliente ha abandonado la empresa (1) o sigue siendo cliente (0).\n",
        "\n",
        "Dentro del dataset, encontramos información general como el estado (state) donde reside el cliente, el código de área (area code), y el número de teléfono (phone number), aunque esta última variable no aporta información útil para el análisis, ya que es un identificador único.\n",
        "\n",
        "Además, el dataset registra el tiempo que un cliente ha estado en la empresa a través de la variable account length, lo que puede ayudar a analizar si la duración del contrato influye en la deserción. También se incluyen detalles sobre los planes contratados, como si el cliente tiene un plan internacional (international plan), que le permite realizar llamadas internacionales, o un buzón de voz (voice mail plan), que le permite recibir mensajes de voz.\n",
        "\n",
        "En cuanto al uso del servicio, se registran datos detallados sobre el tiempo en llamadas y los costos asociados. Se divide en tres períodos del día: diurno (total day minutes, total day calls, total day charge), vespertino (total eve minutes, total eve calls, total eve charge) y nocturno (total night minutes, total night calls, total night charge), lo que permite evaluar si hay patrones de consumo que influyen en la deserción. También se incluye información sobre el uso del servicio internacional, con variables como total intl minutes (minutos en llamadas internacionales), total intl calls (cantidad de llamadas internacionales) y total intl charge (costos por llamadas internacionales).\n",
        "\n",
        "Otro aspecto clave del dataset es el número de llamadas al servicio al cliente (customer service calls), ya que una mayor cantidad de llamadas puede indicar insatisfacción y estar relacionada con la decisión del cliente de abandonar la empresa.\n",
        "\n",
        "Finalmente, la variable más importante del análisis es churn, que indica si un cliente ha desertado de la empresa. A partir de esta variable, podemos analizar qué factores influyen en la deserción y encontrar patrones en los clientes que tienen mayor probabilidad de abandonar el servicio.\n"
      ],
      "metadata": {
        "id": "R1eyqBGSScta"
      }
    },
    {
      "cell_type": "markdown",
      "source": [
        "## **Exploración y Limpieza de Datos**\n",
        "\n",
        "Cargar y explorar el dataset\n",
        "\n",
        "Importa Pandas y carga el dataset telecom_churn.csv en un DataFrame.\n",
        "\n",
        "Muestra las primeras 5 filas del DataFrame.\n",
        "\n",
        "Verifica cuántas filas y columnas tiene el dataset.\n",
        "\n",
        "Muestra información general del dataset, incluyendo los tipos de datos.\n",
        "\n",
        "Identifica si hay valores nulos en alguna columna."
      ],
      "metadata": {
        "id": "-gqRGJ8yFs5Y"
      }
    },
    {
      "cell_type": "code",
      "execution_count": null,
      "metadata": {
        "id": "wuoyvrE0vQ09"
      },
      "outputs": [],
      "source": [
        "# Solución propuesta"
      ]
    },
    {
      "cell_type": "code",
      "source": [
        "import pandas as pd"
      ],
      "metadata": {
        "id": "qH9n16IJXF4x"
      },
      "execution_count": 1,
      "outputs": []
    },
    {
      "cell_type": "code",
      "source": [
        "url = 'https://raw.githubusercontent.com/renemorenow/MachineLearning2/refs/heads/main/telecom_churn.csv'\n",
        "df = pd.read_csv(url, index_col=0)"
      ],
      "metadata": {
        "id": "dIk4Rub7XN1-"
      },
      "execution_count": 2,
      "outputs": []
    },
    {
      "cell_type": "code",
      "source": [
        "df.head()"
      ],
      "metadata": {
        "id": "aTUZQ_a8XaqK",
        "outputId": "1e8e3e6c-1c84-4c06-ce3b-dccf70a60c54",
        "colab": {
          "base_uri": "https://localhost:8080/",
          "height": 255
        }
      },
      "execution_count": null,
      "outputs": [
        {
          "output_type": "execute_result",
          "data": {
            "text/plain": [
              "       account length  area code phone number international plan  \\\n",
              "state                                                              \n",
              "KS                128        415     382-4657                 no   \n",
              "OH                107        415     371-7191                 no   \n",
              "NJ                137        415     358-1921                 no   \n",
              "OH                 84        408     375-9999                yes   \n",
              "OK                 75        415     330-6626                yes   \n",
              "\n",
              "      voice mail plan  number vmail messages  total day minutes  \\\n",
              "state                                                             \n",
              "KS                yes                     25              265.1   \n",
              "OH                yes                     26              161.6   \n",
              "NJ                 no                      0              243.4   \n",
              "OH                 no                      0              299.4   \n",
              "OK                 no                      0              166.7   \n",
              "\n",
              "       total day calls  total day charge  total eve minutes  total eve calls  \\\n",
              "state                                                                          \n",
              "KS                 110             45.07              197.4               99   \n",
              "OH                 123             27.47              195.5              103   \n",
              "NJ                 114             41.38              121.2              110   \n",
              "OH                  71             50.90               61.9               88   \n",
              "OK                 113             28.34              148.3              122   \n",
              "\n",
              "       total eve charge  total night minutes  total night calls  \\\n",
              "state                                                             \n",
              "KS                16.78                244.7                 91   \n",
              "OH                16.62                254.4                103   \n",
              "NJ                10.30                162.6                104   \n",
              "OH                 5.26                196.9                 89   \n",
              "OK                12.61                186.9                121   \n",
              "\n",
              "       total night charge  total intl minutes  total intl calls  \\\n",
              "state                                                             \n",
              "KS                  11.01                10.0                 3   \n",
              "OH                  11.45                13.7                 3   \n",
              "NJ                   7.32                12.2                 5   \n",
              "OH                   8.86                 6.6                 7   \n",
              "OK                   8.41                10.1                 3   \n",
              "\n",
              "       total intl charge  customer service calls  churn  \n",
              "state                                                    \n",
              "KS                  2.70                       1  False  \n",
              "OH                  3.70                       1  False  \n",
              "NJ                  3.29                       0  False  \n",
              "OH                  1.78                       2  False  \n",
              "OK                  2.73                       3  False  "
            ],
            "text/html": [
              "\n",
              "  <div id=\"df-f5dded5b-18bb-4531-846c-58aa012299e7\" class=\"colab-df-container\">\n",
              "    <div>\n",
              "<style scoped>\n",
              "    .dataframe tbody tr th:only-of-type {\n",
              "        vertical-align: middle;\n",
              "    }\n",
              "\n",
              "    .dataframe tbody tr th {\n",
              "        vertical-align: top;\n",
              "    }\n",
              "\n",
              "    .dataframe thead th {\n",
              "        text-align: right;\n",
              "    }\n",
              "</style>\n",
              "<table border=\"1\" class=\"dataframe\">\n",
              "  <thead>\n",
              "    <tr style=\"text-align: right;\">\n",
              "      <th></th>\n",
              "      <th>account length</th>\n",
              "      <th>area code</th>\n",
              "      <th>phone number</th>\n",
              "      <th>international plan</th>\n",
              "      <th>voice mail plan</th>\n",
              "      <th>number vmail messages</th>\n",
              "      <th>total day minutes</th>\n",
              "      <th>total day calls</th>\n",
              "      <th>total day charge</th>\n",
              "      <th>total eve minutes</th>\n",
              "      <th>total eve calls</th>\n",
              "      <th>total eve charge</th>\n",
              "      <th>total night minutes</th>\n",
              "      <th>total night calls</th>\n",
              "      <th>total night charge</th>\n",
              "      <th>total intl minutes</th>\n",
              "      <th>total intl calls</th>\n",
              "      <th>total intl charge</th>\n",
              "      <th>customer service calls</th>\n",
              "      <th>churn</th>\n",
              "    </tr>\n",
              "    <tr>\n",
              "      <th>state</th>\n",
              "      <th></th>\n",
              "      <th></th>\n",
              "      <th></th>\n",
              "      <th></th>\n",
              "      <th></th>\n",
              "      <th></th>\n",
              "      <th></th>\n",
              "      <th></th>\n",
              "      <th></th>\n",
              "      <th></th>\n",
              "      <th></th>\n",
              "      <th></th>\n",
              "      <th></th>\n",
              "      <th></th>\n",
              "      <th></th>\n",
              "      <th></th>\n",
              "      <th></th>\n",
              "      <th></th>\n",
              "      <th></th>\n",
              "      <th></th>\n",
              "    </tr>\n",
              "  </thead>\n",
              "  <tbody>\n",
              "    <tr>\n",
              "      <th>KS</th>\n",
              "      <td>128</td>\n",
              "      <td>415</td>\n",
              "      <td>382-4657</td>\n",
              "      <td>no</td>\n",
              "      <td>yes</td>\n",
              "      <td>25</td>\n",
              "      <td>265.1</td>\n",
              "      <td>110</td>\n",
              "      <td>45.07</td>\n",
              "      <td>197.4</td>\n",
              "      <td>99</td>\n",
              "      <td>16.78</td>\n",
              "      <td>244.7</td>\n",
              "      <td>91</td>\n",
              "      <td>11.01</td>\n",
              "      <td>10.0</td>\n",
              "      <td>3</td>\n",
              "      <td>2.70</td>\n",
              "      <td>1</td>\n",
              "      <td>False</td>\n",
              "    </tr>\n",
              "    <tr>\n",
              "      <th>OH</th>\n",
              "      <td>107</td>\n",
              "      <td>415</td>\n",
              "      <td>371-7191</td>\n",
              "      <td>no</td>\n",
              "      <td>yes</td>\n",
              "      <td>26</td>\n",
              "      <td>161.6</td>\n",
              "      <td>123</td>\n",
              "      <td>27.47</td>\n",
              "      <td>195.5</td>\n",
              "      <td>103</td>\n",
              "      <td>16.62</td>\n",
              "      <td>254.4</td>\n",
              "      <td>103</td>\n",
              "      <td>11.45</td>\n",
              "      <td>13.7</td>\n",
              "      <td>3</td>\n",
              "      <td>3.70</td>\n",
              "      <td>1</td>\n",
              "      <td>False</td>\n",
              "    </tr>\n",
              "    <tr>\n",
              "      <th>NJ</th>\n",
              "      <td>137</td>\n",
              "      <td>415</td>\n",
              "      <td>358-1921</td>\n",
              "      <td>no</td>\n",
              "      <td>no</td>\n",
              "      <td>0</td>\n",
              "      <td>243.4</td>\n",
              "      <td>114</td>\n",
              "      <td>41.38</td>\n",
              "      <td>121.2</td>\n",
              "      <td>110</td>\n",
              "      <td>10.30</td>\n",
              "      <td>162.6</td>\n",
              "      <td>104</td>\n",
              "      <td>7.32</td>\n",
              "      <td>12.2</td>\n",
              "      <td>5</td>\n",
              "      <td>3.29</td>\n",
              "      <td>0</td>\n",
              "      <td>False</td>\n",
              "    </tr>\n",
              "    <tr>\n",
              "      <th>OH</th>\n",
              "      <td>84</td>\n",
              "      <td>408</td>\n",
              "      <td>375-9999</td>\n",
              "      <td>yes</td>\n",
              "      <td>no</td>\n",
              "      <td>0</td>\n",
              "      <td>299.4</td>\n",
              "      <td>71</td>\n",
              "      <td>50.90</td>\n",
              "      <td>61.9</td>\n",
              "      <td>88</td>\n",
              "      <td>5.26</td>\n",
              "      <td>196.9</td>\n",
              "      <td>89</td>\n",
              "      <td>8.86</td>\n",
              "      <td>6.6</td>\n",
              "      <td>7</td>\n",
              "      <td>1.78</td>\n",
              "      <td>2</td>\n",
              "      <td>False</td>\n",
              "    </tr>\n",
              "    <tr>\n",
              "      <th>OK</th>\n",
              "      <td>75</td>\n",
              "      <td>415</td>\n",
              "      <td>330-6626</td>\n",
              "      <td>yes</td>\n",
              "      <td>no</td>\n",
              "      <td>0</td>\n",
              "      <td>166.7</td>\n",
              "      <td>113</td>\n",
              "      <td>28.34</td>\n",
              "      <td>148.3</td>\n",
              "      <td>122</td>\n",
              "      <td>12.61</td>\n",
              "      <td>186.9</td>\n",
              "      <td>121</td>\n",
              "      <td>8.41</td>\n",
              "      <td>10.1</td>\n",
              "      <td>3</td>\n",
              "      <td>2.73</td>\n",
              "      <td>3</td>\n",
              "      <td>False</td>\n",
              "    </tr>\n",
              "  </tbody>\n",
              "</table>\n",
              "</div>\n",
              "    <div class=\"colab-df-buttons\">\n",
              "\n",
              "  <div class=\"colab-df-container\">\n",
              "    <button class=\"colab-df-convert\" onclick=\"convertToInteractive('df-f5dded5b-18bb-4531-846c-58aa012299e7')\"\n",
              "            title=\"Convert this dataframe to an interactive table.\"\n",
              "            style=\"display:none;\">\n",
              "\n",
              "  <svg xmlns=\"http://www.w3.org/2000/svg\" height=\"24px\" viewBox=\"0 -960 960 960\">\n",
              "    <path d=\"M120-120v-720h720v720H120Zm60-500h600v-160H180v160Zm220 220h160v-160H400v160Zm0 220h160v-160H400v160ZM180-400h160v-160H180v160Zm440 0h160v-160H620v160ZM180-180h160v-160H180v160Zm440 0h160v-160H620v160Z\"/>\n",
              "  </svg>\n",
              "    </button>\n",
              "\n",
              "  <style>\n",
              "    .colab-df-container {\n",
              "      display:flex;\n",
              "      gap: 12px;\n",
              "    }\n",
              "\n",
              "    .colab-df-convert {\n",
              "      background-color: #E8F0FE;\n",
              "      border: none;\n",
              "      border-radius: 50%;\n",
              "      cursor: pointer;\n",
              "      display: none;\n",
              "      fill: #1967D2;\n",
              "      height: 32px;\n",
              "      padding: 0 0 0 0;\n",
              "      width: 32px;\n",
              "    }\n",
              "\n",
              "    .colab-df-convert:hover {\n",
              "      background-color: #E2EBFA;\n",
              "      box-shadow: 0px 1px 2px rgba(60, 64, 67, 0.3), 0px 1px 3px 1px rgba(60, 64, 67, 0.15);\n",
              "      fill: #174EA6;\n",
              "    }\n",
              "\n",
              "    .colab-df-buttons div {\n",
              "      margin-bottom: 4px;\n",
              "    }\n",
              "\n",
              "    [theme=dark] .colab-df-convert {\n",
              "      background-color: #3B4455;\n",
              "      fill: #D2E3FC;\n",
              "    }\n",
              "\n",
              "    [theme=dark] .colab-df-convert:hover {\n",
              "      background-color: #434B5C;\n",
              "      box-shadow: 0px 1px 3px 1px rgba(0, 0, 0, 0.15);\n",
              "      filter: drop-shadow(0px 1px 2px rgba(0, 0, 0, 0.3));\n",
              "      fill: #FFFFFF;\n",
              "    }\n",
              "  </style>\n",
              "\n",
              "    <script>\n",
              "      const buttonEl =\n",
              "        document.querySelector('#df-f5dded5b-18bb-4531-846c-58aa012299e7 button.colab-df-convert');\n",
              "      buttonEl.style.display =\n",
              "        google.colab.kernel.accessAllowed ? 'block' : 'none';\n",
              "\n",
              "      async function convertToInteractive(key) {\n",
              "        const element = document.querySelector('#df-f5dded5b-18bb-4531-846c-58aa012299e7');\n",
              "        const dataTable =\n",
              "          await google.colab.kernel.invokeFunction('convertToInteractive',\n",
              "                                                    [key], {});\n",
              "        if (!dataTable) return;\n",
              "\n",
              "        const docLinkHtml = 'Like what you see? Visit the ' +\n",
              "          '<a target=\"_blank\" href=https://colab.research.google.com/notebooks/data_table.ipynb>data table notebook</a>'\n",
              "          + ' to learn more about interactive tables.';\n",
              "        element.innerHTML = '';\n",
              "        dataTable['output_type'] = 'display_data';\n",
              "        await google.colab.output.renderOutput(dataTable, element);\n",
              "        const docLink = document.createElement('div');\n",
              "        docLink.innerHTML = docLinkHtml;\n",
              "        element.appendChild(docLink);\n",
              "      }\n",
              "    </script>\n",
              "  </div>\n",
              "\n",
              "\n",
              "<div id=\"df-06827c6c-837f-4c40-b3fa-bd093f2177e1\">\n",
              "  <button class=\"colab-df-quickchart\" onclick=\"quickchart('df-06827c6c-837f-4c40-b3fa-bd093f2177e1')\"\n",
              "            title=\"Suggest charts\"\n",
              "            style=\"display:none;\">\n",
              "\n",
              "<svg xmlns=\"http://www.w3.org/2000/svg\" height=\"24px\"viewBox=\"0 0 24 24\"\n",
              "     width=\"24px\">\n",
              "    <g>\n",
              "        <path d=\"M19 3H5c-1.1 0-2 .9-2 2v14c0 1.1.9 2 2 2h14c1.1 0 2-.9 2-2V5c0-1.1-.9-2-2-2zM9 17H7v-7h2v7zm4 0h-2V7h2v10zm4 0h-2v-4h2v4z\"/>\n",
              "    </g>\n",
              "</svg>\n",
              "  </button>\n",
              "\n",
              "<style>\n",
              "  .colab-df-quickchart {\n",
              "      --bg-color: #E8F0FE;\n",
              "      --fill-color: #1967D2;\n",
              "      --hover-bg-color: #E2EBFA;\n",
              "      --hover-fill-color: #174EA6;\n",
              "      --disabled-fill-color: #AAA;\n",
              "      --disabled-bg-color: #DDD;\n",
              "  }\n",
              "\n",
              "  [theme=dark] .colab-df-quickchart {\n",
              "      --bg-color: #3B4455;\n",
              "      --fill-color: #D2E3FC;\n",
              "      --hover-bg-color: #434B5C;\n",
              "      --hover-fill-color: #FFFFFF;\n",
              "      --disabled-bg-color: #3B4455;\n",
              "      --disabled-fill-color: #666;\n",
              "  }\n",
              "\n",
              "  .colab-df-quickchart {\n",
              "    background-color: var(--bg-color);\n",
              "    border: none;\n",
              "    border-radius: 50%;\n",
              "    cursor: pointer;\n",
              "    display: none;\n",
              "    fill: var(--fill-color);\n",
              "    height: 32px;\n",
              "    padding: 0;\n",
              "    width: 32px;\n",
              "  }\n",
              "\n",
              "  .colab-df-quickchart:hover {\n",
              "    background-color: var(--hover-bg-color);\n",
              "    box-shadow: 0 1px 2px rgba(60, 64, 67, 0.3), 0 1px 3px 1px rgba(60, 64, 67, 0.15);\n",
              "    fill: var(--button-hover-fill-color);\n",
              "  }\n",
              "\n",
              "  .colab-df-quickchart-complete:disabled,\n",
              "  .colab-df-quickchart-complete:disabled:hover {\n",
              "    background-color: var(--disabled-bg-color);\n",
              "    fill: var(--disabled-fill-color);\n",
              "    box-shadow: none;\n",
              "  }\n",
              "\n",
              "  .colab-df-spinner {\n",
              "    border: 2px solid var(--fill-color);\n",
              "    border-color: transparent;\n",
              "    border-bottom-color: var(--fill-color);\n",
              "    animation:\n",
              "      spin 1s steps(1) infinite;\n",
              "  }\n",
              "\n",
              "  @keyframes spin {\n",
              "    0% {\n",
              "      border-color: transparent;\n",
              "      border-bottom-color: var(--fill-color);\n",
              "      border-left-color: var(--fill-color);\n",
              "    }\n",
              "    20% {\n",
              "      border-color: transparent;\n",
              "      border-left-color: var(--fill-color);\n",
              "      border-top-color: var(--fill-color);\n",
              "    }\n",
              "    30% {\n",
              "      border-color: transparent;\n",
              "      border-left-color: var(--fill-color);\n",
              "      border-top-color: var(--fill-color);\n",
              "      border-right-color: var(--fill-color);\n",
              "    }\n",
              "    40% {\n",
              "      border-color: transparent;\n",
              "      border-right-color: var(--fill-color);\n",
              "      border-top-color: var(--fill-color);\n",
              "    }\n",
              "    60% {\n",
              "      border-color: transparent;\n",
              "      border-right-color: var(--fill-color);\n",
              "    }\n",
              "    80% {\n",
              "      border-color: transparent;\n",
              "      border-right-color: var(--fill-color);\n",
              "      border-bottom-color: var(--fill-color);\n",
              "    }\n",
              "    90% {\n",
              "      border-color: transparent;\n",
              "      border-bottom-color: var(--fill-color);\n",
              "    }\n",
              "  }\n",
              "</style>\n",
              "\n",
              "  <script>\n",
              "    async function quickchart(key) {\n",
              "      const quickchartButtonEl =\n",
              "        document.querySelector('#' + key + ' button');\n",
              "      quickchartButtonEl.disabled = true;  // To prevent multiple clicks.\n",
              "      quickchartButtonEl.classList.add('colab-df-spinner');\n",
              "      try {\n",
              "        const charts = await google.colab.kernel.invokeFunction(\n",
              "            'suggestCharts', [key], {});\n",
              "      } catch (error) {\n",
              "        console.error('Error during call to suggestCharts:', error);\n",
              "      }\n",
              "      quickchartButtonEl.classList.remove('colab-df-spinner');\n",
              "      quickchartButtonEl.classList.add('colab-df-quickchart-complete');\n",
              "    }\n",
              "    (() => {\n",
              "      let quickchartButtonEl =\n",
              "        document.querySelector('#df-06827c6c-837f-4c40-b3fa-bd093f2177e1 button');\n",
              "      quickchartButtonEl.style.display =\n",
              "        google.colab.kernel.accessAllowed ? 'block' : 'none';\n",
              "    })();\n",
              "  </script>\n",
              "</div>\n",
              "\n",
              "    </div>\n",
              "  </div>\n"
            ],
            "application/vnd.google.colaboratory.intrinsic+json": {
              "type": "dataframe",
              "variable_name": "df",
              "summary": "{\n  \"name\": \"df\",\n  \"rows\": 3333,\n  \"fields\": [\n    {\n      \"column\": \"state\",\n      \"properties\": {\n        \"dtype\": \"category\",\n        \"num_unique_values\": 51,\n        \"samples\": [\n          \"DC\",\n          \"WA\",\n          \"MS\"\n        ],\n        \"semantic_type\": \"\",\n        \"description\": \"\"\n      }\n    },\n    {\n      \"column\": \"account length\",\n      \"properties\": {\n        \"dtype\": \"number\",\n        \"std\": 39,\n        \"min\": 1,\n        \"max\": 243,\n        \"num_unique_values\": 212,\n        \"samples\": [\n          172,\n          189,\n          44\n        ],\n        \"semantic_type\": \"\",\n        \"description\": \"\"\n      }\n    },\n    {\n      \"column\": \"area code\",\n      \"properties\": {\n        \"dtype\": \"number\",\n        \"std\": 42,\n        \"min\": 408,\n        \"max\": 510,\n        \"num_unique_values\": 3,\n        \"samples\": [\n          415,\n          408,\n          510\n        ],\n        \"semantic_type\": \"\",\n        \"description\": \"\"\n      }\n    },\n    {\n      \"column\": \"phone number\",\n      \"properties\": {\n        \"dtype\": \"string\",\n        \"num_unique_values\": 3333,\n        \"samples\": [\n          \"352-6573\",\n          \"369-4377\",\n          \"392-2555\"\n        ],\n        \"semantic_type\": \"\",\n        \"description\": \"\"\n      }\n    },\n    {\n      \"column\": \"international plan\",\n      \"properties\": {\n        \"dtype\": \"category\",\n        \"num_unique_values\": 2,\n        \"samples\": [\n          \"yes\",\n          \"no\"\n        ],\n        \"semantic_type\": \"\",\n        \"description\": \"\"\n      }\n    },\n    {\n      \"column\": \"voice mail plan\",\n      \"properties\": {\n        \"dtype\": \"category\",\n        \"num_unique_values\": 2,\n        \"samples\": [\n          \"no\",\n          \"yes\"\n        ],\n        \"semantic_type\": \"\",\n        \"description\": \"\"\n      }\n    },\n    {\n      \"column\": \"number vmail messages\",\n      \"properties\": {\n        \"dtype\": \"number\",\n        \"std\": 13,\n        \"min\": 0,\n        \"max\": 51,\n        \"num_unique_values\": 46,\n        \"samples\": [\n          44,\n          48\n        ],\n        \"semantic_type\": \"\",\n        \"description\": \"\"\n      }\n    },\n    {\n      \"column\": \"total day minutes\",\n      \"properties\": {\n        \"dtype\": \"number\",\n        \"std\": 54.46738920237142,\n        \"min\": 0.0,\n        \"max\": 350.8,\n        \"num_unique_values\": 1667,\n        \"samples\": [\n          87.6,\n          115.7\n        ],\n        \"semantic_type\": \"\",\n        \"description\": \"\"\n      }\n    },\n    {\n      \"column\": \"total day calls\",\n      \"properties\": {\n        \"dtype\": \"number\",\n        \"std\": 20,\n        \"min\": 0,\n        \"max\": 165,\n        \"num_unique_values\": 119,\n        \"samples\": [\n          125,\n          59\n        ],\n        \"semantic_type\": \"\",\n        \"description\": \"\"\n      }\n    },\n    {\n      \"column\": \"total day charge\",\n      \"properties\": {\n        \"dtype\": \"number\",\n        \"std\": 9.259434553930507,\n        \"min\": 0.0,\n        \"max\": 59.64,\n        \"num_unique_values\": 1667,\n        \"samples\": [\n          14.89,\n          19.67\n        ],\n        \"semantic_type\": \"\",\n        \"description\": \"\"\n      }\n    },\n    {\n      \"column\": \"total eve minutes\",\n      \"properties\": {\n        \"dtype\": \"number\",\n        \"std\": 50.71384442581193,\n        \"min\": 0.0,\n        \"max\": 363.7,\n        \"num_unique_values\": 1611,\n        \"samples\": [\n          215.1,\n          219.1\n        ],\n        \"semantic_type\": \"\",\n        \"description\": \"\"\n      }\n    },\n    {\n      \"column\": \"total eve calls\",\n      \"properties\": {\n        \"dtype\": \"number\",\n        \"std\": 19,\n        \"min\": 0,\n        \"max\": 170,\n        \"num_unique_values\": 123,\n        \"samples\": [\n          93,\n          142\n        ],\n        \"semantic_type\": \"\",\n        \"description\": \"\"\n      }\n    },\n    {\n      \"column\": \"total eve charge\",\n      \"properties\": {\n        \"dtype\": \"number\",\n        \"std\": 4.310667643110339,\n        \"min\": 0.0,\n        \"max\": 30.91,\n        \"num_unique_values\": 1440,\n        \"samples\": [\n          24.85,\n          14.19\n        ],\n        \"semantic_type\": \"\",\n        \"description\": \"\"\n      }\n    },\n    {\n      \"column\": \"total night minutes\",\n      \"properties\": {\n        \"dtype\": \"number\",\n        \"std\": 50.5738470136583,\n        \"min\": 23.2,\n        \"max\": 395.0,\n        \"num_unique_values\": 1591,\n        \"samples\": [\n          311.1,\n          179.1\n        ],\n        \"semantic_type\": \"\",\n        \"description\": \"\"\n      }\n    },\n    {\n      \"column\": \"total night calls\",\n      \"properties\": {\n        \"dtype\": \"number\",\n        \"std\": 19,\n        \"min\": 33,\n        \"max\": 175,\n        \"num_unique_values\": 120,\n        \"samples\": [\n          60,\n          73\n        ],\n        \"semantic_type\": \"\",\n        \"description\": \"\"\n      }\n    },\n    {\n      \"column\": \"total night charge\",\n      \"properties\": {\n        \"dtype\": \"number\",\n        \"std\": 2.2758728376600317,\n        \"min\": 1.04,\n        \"max\": 17.77,\n        \"num_unique_values\": 933,\n        \"samples\": [\n          6.2,\n          6.86\n        ],\n        \"semantic_type\": \"\",\n        \"description\": \"\"\n      }\n    },\n    {\n      \"column\": \"total intl minutes\",\n      \"properties\": {\n        \"dtype\": \"number\",\n        \"std\": 2.7918395484084204,\n        \"min\": 0.0,\n        \"max\": 20.0,\n        \"num_unique_values\": 162,\n        \"samples\": [\n          16.6,\n          14.8\n        ],\n        \"semantic_type\": \"\",\n        \"description\": \"\"\n      }\n    },\n    {\n      \"column\": \"total intl calls\",\n      \"properties\": {\n        \"dtype\": \"number\",\n        \"std\": 2,\n        \"min\": 0,\n        \"max\": 20,\n        \"num_unique_values\": 21,\n        \"samples\": [\n          3,\n          14\n        ],\n        \"semantic_type\": \"\",\n        \"description\": \"\"\n      }\n    },\n    {\n      \"column\": \"total intl charge\",\n      \"properties\": {\n        \"dtype\": \"number\",\n        \"std\": 0.7537726126630453,\n        \"min\": 0.0,\n        \"max\": 5.4,\n        \"num_unique_values\": 162,\n        \"samples\": [\n          4.48,\n          4.0\n        ],\n        \"semantic_type\": \"\",\n        \"description\": \"\"\n      }\n    },\n    {\n      \"column\": \"customer service calls\",\n      \"properties\": {\n        \"dtype\": \"number\",\n        \"std\": 1,\n        \"min\": 0,\n        \"max\": 9,\n        \"num_unique_values\": 10,\n        \"samples\": [\n          6,\n          0\n        ],\n        \"semantic_type\": \"\",\n        \"description\": \"\"\n      }\n    },\n    {\n      \"column\": \"churn\",\n      \"properties\": {\n        \"dtype\": \"boolean\",\n        \"num_unique_values\": 2,\n        \"samples\": [\n          true,\n          false\n        ],\n        \"semantic_type\": \"\",\n        \"description\": \"\"\n      }\n    }\n  ]\n}"
            }
          },
          "metadata": {},
          "execution_count": 5
        }
      ]
    },
    {
      "cell_type": "code",
      "source": [
        "#Cantidad de filas y columnas del DF\n",
        "df.shape"
      ],
      "metadata": {
        "id": "A35HAeNyySdX",
        "outputId": "770e0217-e74b-46b7-e5e7-ab5ea1be5814",
        "colab": {
          "base_uri": "https://localhost:8080/"
        }
      },
      "execution_count": null,
      "outputs": [
        {
          "output_type": "execute_result",
          "data": {
            "text/plain": [
              "(3333, 20)"
            ]
          },
          "metadata": {},
          "execution_count": 6
        }
      ]
    },
    {
      "cell_type": "code",
      "source": [
        "#tipos de datos del DF:\n",
        "df.dtypes"
      ],
      "metadata": {
        "id": "WJpSTwfbxxIm",
        "outputId": "763bb4d3-5010-4a1d-a400-49da23e6e929",
        "colab": {
          "base_uri": "https://localhost:8080/",
          "height": 711
        }
      },
      "execution_count": null,
      "outputs": [
        {
          "output_type": "execute_result",
          "data": {
            "text/plain": [
              "account length              int64\n",
              "area code                   int64\n",
              "phone number               object\n",
              "international plan         object\n",
              "voice mail plan            object\n",
              "number vmail messages       int64\n",
              "total day minutes         float64\n",
              "total day calls             int64\n",
              "total day charge          float64\n",
              "total eve minutes         float64\n",
              "total eve calls             int64\n",
              "total eve charge          float64\n",
              "total night minutes       float64\n",
              "total night calls           int64\n",
              "total night charge        float64\n",
              "total intl minutes        float64\n",
              "total intl calls            int64\n",
              "total intl charge         float64\n",
              "customer service calls      int64\n",
              "churn                        bool\n",
              "dtype: object"
            ],
            "text/html": [
              "<div>\n",
              "<style scoped>\n",
              "    .dataframe tbody tr th:only-of-type {\n",
              "        vertical-align: middle;\n",
              "    }\n",
              "\n",
              "    .dataframe tbody tr th {\n",
              "        vertical-align: top;\n",
              "    }\n",
              "\n",
              "    .dataframe thead th {\n",
              "        text-align: right;\n",
              "    }\n",
              "</style>\n",
              "<table border=\"1\" class=\"dataframe\">\n",
              "  <thead>\n",
              "    <tr style=\"text-align: right;\">\n",
              "      <th></th>\n",
              "      <th>0</th>\n",
              "    </tr>\n",
              "  </thead>\n",
              "  <tbody>\n",
              "    <tr>\n",
              "      <th>account length</th>\n",
              "      <td>int64</td>\n",
              "    </tr>\n",
              "    <tr>\n",
              "      <th>area code</th>\n",
              "      <td>int64</td>\n",
              "    </tr>\n",
              "    <tr>\n",
              "      <th>phone number</th>\n",
              "      <td>object</td>\n",
              "    </tr>\n",
              "    <tr>\n",
              "      <th>international plan</th>\n",
              "      <td>object</td>\n",
              "    </tr>\n",
              "    <tr>\n",
              "      <th>voice mail plan</th>\n",
              "      <td>object</td>\n",
              "    </tr>\n",
              "    <tr>\n",
              "      <th>number vmail messages</th>\n",
              "      <td>int64</td>\n",
              "    </tr>\n",
              "    <tr>\n",
              "      <th>total day minutes</th>\n",
              "      <td>float64</td>\n",
              "    </tr>\n",
              "    <tr>\n",
              "      <th>total day calls</th>\n",
              "      <td>int64</td>\n",
              "    </tr>\n",
              "    <tr>\n",
              "      <th>total day charge</th>\n",
              "      <td>float64</td>\n",
              "    </tr>\n",
              "    <tr>\n",
              "      <th>total eve minutes</th>\n",
              "      <td>float64</td>\n",
              "    </tr>\n",
              "    <tr>\n",
              "      <th>total eve calls</th>\n",
              "      <td>int64</td>\n",
              "    </tr>\n",
              "    <tr>\n",
              "      <th>total eve charge</th>\n",
              "      <td>float64</td>\n",
              "    </tr>\n",
              "    <tr>\n",
              "      <th>total night minutes</th>\n",
              "      <td>float64</td>\n",
              "    </tr>\n",
              "    <tr>\n",
              "      <th>total night calls</th>\n",
              "      <td>int64</td>\n",
              "    </tr>\n",
              "    <tr>\n",
              "      <th>total night charge</th>\n",
              "      <td>float64</td>\n",
              "    </tr>\n",
              "    <tr>\n",
              "      <th>total intl minutes</th>\n",
              "      <td>float64</td>\n",
              "    </tr>\n",
              "    <tr>\n",
              "      <th>total intl calls</th>\n",
              "      <td>int64</td>\n",
              "    </tr>\n",
              "    <tr>\n",
              "      <th>total intl charge</th>\n",
              "      <td>float64</td>\n",
              "    </tr>\n",
              "    <tr>\n",
              "      <th>customer service calls</th>\n",
              "      <td>int64</td>\n",
              "    </tr>\n",
              "    <tr>\n",
              "      <th>churn</th>\n",
              "      <td>bool</td>\n",
              "    </tr>\n",
              "  </tbody>\n",
              "</table>\n",
              "</div><br><label><b>dtype:</b> object</label>"
            ]
          },
          "metadata": {},
          "execution_count": 7
        }
      ]
    },
    {
      "cell_type": "code",
      "source": [
        "#cantidad de nulos por columna\n",
        "df.isnull().sum()"
      ],
      "metadata": {
        "id": "N5OhusuxyXvi",
        "outputId": "96177a63-b0b0-4303-84dc-2a695156e229",
        "colab": {
          "base_uri": "https://localhost:8080/",
          "height": 711
        }
      },
      "execution_count": null,
      "outputs": [
        {
          "output_type": "execute_result",
          "data": {
            "text/plain": [
              "account length            0\n",
              "area code                 0\n",
              "phone number              0\n",
              "international plan        0\n",
              "voice mail plan           0\n",
              "number vmail messages     0\n",
              "total day minutes         0\n",
              "total day calls           0\n",
              "total day charge          0\n",
              "total eve minutes         0\n",
              "total eve calls           0\n",
              "total eve charge          0\n",
              "total night minutes       0\n",
              "total night calls         0\n",
              "total night charge        0\n",
              "total intl minutes        0\n",
              "total intl calls          0\n",
              "total intl charge         0\n",
              "customer service calls    0\n",
              "churn                     0\n",
              "dtype: int64"
            ],
            "text/html": [
              "<div>\n",
              "<style scoped>\n",
              "    .dataframe tbody tr th:only-of-type {\n",
              "        vertical-align: middle;\n",
              "    }\n",
              "\n",
              "    .dataframe tbody tr th {\n",
              "        vertical-align: top;\n",
              "    }\n",
              "\n",
              "    .dataframe thead th {\n",
              "        text-align: right;\n",
              "    }\n",
              "</style>\n",
              "<table border=\"1\" class=\"dataframe\">\n",
              "  <thead>\n",
              "    <tr style=\"text-align: right;\">\n",
              "      <th></th>\n",
              "      <th>0</th>\n",
              "    </tr>\n",
              "  </thead>\n",
              "  <tbody>\n",
              "    <tr>\n",
              "      <th>account length</th>\n",
              "      <td>0</td>\n",
              "    </tr>\n",
              "    <tr>\n",
              "      <th>area code</th>\n",
              "      <td>0</td>\n",
              "    </tr>\n",
              "    <tr>\n",
              "      <th>phone number</th>\n",
              "      <td>0</td>\n",
              "    </tr>\n",
              "    <tr>\n",
              "      <th>international plan</th>\n",
              "      <td>0</td>\n",
              "    </tr>\n",
              "    <tr>\n",
              "      <th>voice mail plan</th>\n",
              "      <td>0</td>\n",
              "    </tr>\n",
              "    <tr>\n",
              "      <th>number vmail messages</th>\n",
              "      <td>0</td>\n",
              "    </tr>\n",
              "    <tr>\n",
              "      <th>total day minutes</th>\n",
              "      <td>0</td>\n",
              "    </tr>\n",
              "    <tr>\n",
              "      <th>total day calls</th>\n",
              "      <td>0</td>\n",
              "    </tr>\n",
              "    <tr>\n",
              "      <th>total day charge</th>\n",
              "      <td>0</td>\n",
              "    </tr>\n",
              "    <tr>\n",
              "      <th>total eve minutes</th>\n",
              "      <td>0</td>\n",
              "    </tr>\n",
              "    <tr>\n",
              "      <th>total eve calls</th>\n",
              "      <td>0</td>\n",
              "    </tr>\n",
              "    <tr>\n",
              "      <th>total eve charge</th>\n",
              "      <td>0</td>\n",
              "    </tr>\n",
              "    <tr>\n",
              "      <th>total night minutes</th>\n",
              "      <td>0</td>\n",
              "    </tr>\n",
              "    <tr>\n",
              "      <th>total night calls</th>\n",
              "      <td>0</td>\n",
              "    </tr>\n",
              "    <tr>\n",
              "      <th>total night charge</th>\n",
              "      <td>0</td>\n",
              "    </tr>\n",
              "    <tr>\n",
              "      <th>total intl minutes</th>\n",
              "      <td>0</td>\n",
              "    </tr>\n",
              "    <tr>\n",
              "      <th>total intl calls</th>\n",
              "      <td>0</td>\n",
              "    </tr>\n",
              "    <tr>\n",
              "      <th>total intl charge</th>\n",
              "      <td>0</td>\n",
              "    </tr>\n",
              "    <tr>\n",
              "      <th>customer service calls</th>\n",
              "      <td>0</td>\n",
              "    </tr>\n",
              "    <tr>\n",
              "      <th>churn</th>\n",
              "      <td>0</td>\n",
              "    </tr>\n",
              "  </tbody>\n",
              "</table>\n",
              "</div><br><label><b>dtype:</b> int64</label>"
            ]
          },
          "metadata": {},
          "execution_count": 8
        }
      ]
    },
    {
      "cell_type": "markdown",
      "source": [
        "## **Análisis de Churn y Factores Relacionados**\n",
        "\n",
        "Calcula el porcentaje de clientes que han desertado (churn = 1).\n",
        "\n",
        "Identifica si los clientes con plan internacional (international plan) tienen mayor tasa de deserción.\n",
        "\n",
        "Identifica si los clientes con buzón de voz (voice mail plan) tienen menor tasa de deserción."
      ],
      "metadata": {
        "id": "PIGXq-ijFgb4"
      }
    },
    {
      "cell_type": "markdown",
      "source": [
        "### Calcula el porcentaje de clientes que han desertado (churn = 1):"
      ],
      "metadata": {
        "id": "1dPJnZBSuAJ5"
      }
    },
    {
      "cell_type": "code",
      "source": [
        "# Solución propuesta\n",
        "\n",
        "#porcentaje de clientes que desertaron:\n",
        "PorcentajeDeserciones=(df['churn'] == 1).mean()*100\n",
        "print(f\"El porcentaje de clientes que desertaron es: {PorcentajeDeserciones:.2f}%\")"
      ],
      "metadata": {
        "id": "3_TFqdwBwUD-",
        "colab": {
          "base_uri": "https://localhost:8080/"
        },
        "outputId": "d8626b22-0044-4d19-cccf-723157782bf3"
      },
      "execution_count": 3,
      "outputs": [
        {
          "output_type": "stream",
          "name": "stdout",
          "text": [
            "El porcentaje de clientes que desertaron es: 14.49%\n"
          ]
        }
      ]
    },
    {
      "cell_type": "markdown",
      "source": [
        "### Identifica si los clientes con plan internacional (international plan) tienen mayor tasa de deserción:"
      ],
      "metadata": {
        "id": "hNL3_pYruHD7"
      }
    },
    {
      "cell_type": "code",
      "source": [
        "#identificar si los clientes con plan internacional tienen mayor tasa de desercion\n",
        "\n",
        "#Identificacion de Dataframes con plan internacional y nacional\n",
        "PlanInternacional = df[df['international plan'] == 'yes']\n",
        "PlanNacional = df[df['international plan'] == 'no']\n",
        "\n",
        "\n",
        "#Calculo de tasa de desercion\n",
        "DesercionInternacional = (PlanInternacional['churn'] == 1).mean()*100\n",
        "DesercionNacional = (PlanNacional['churn'] == 1).mean()*100\n",
        "\n",
        "\n",
        "#Resultados\n",
        "print(f\"El porcentaje de clientes con plan internacional que desertaron es: {DesercionInternacional:.2f}%\")\n",
        "print(f\"El porcentaje de clientes con plan nacional que desertaron es: {DesercionNacional:.2f}%\")\n"
      ],
      "metadata": {
        "colab": {
          "base_uri": "https://localhost:8080/"
        },
        "id": "tpoCOoP0YowC",
        "outputId": "65a59202-053f-45ea-9eee-7faf511cb8a0"
      },
      "execution_count": 4,
      "outputs": [
        {
          "output_type": "stream",
          "name": "stdout",
          "text": [
            "El porcentaje de clientes con plan internacional que desertaron es: 42.41%\n",
            "El porcentaje de clientes con plan nacional que desertaron es: 11.50%\n"
          ]
        }
      ]
    },
    {
      "cell_type": "markdown",
      "source": [
        "### Identifica si los clientes con buzón de voz (voice mail plan) tienen menor tasa de deserción:"
      ],
      "metadata": {
        "id": "vKcRA-j0uOwt"
      }
    },
    {
      "cell_type": "code",
      "source": [
        "#Desercion de clientes con buzon de voz\n",
        "\n",
        "#Identificacion de Dataframes con plan internacional y nacional\n",
        "BuzonVoz = df[df['voice mail plan'] == 'yes']\n",
        "SinBuzonVoz = df[df['voice mail plan'] == 'no']\n",
        "\n",
        "#Calculo de probabilidades\n",
        "DesercionBuzonVoz = (BuzonVoz['churn'] == 1).mean()*100\n",
        "DesercionSinBuzonVoz = (SinBuzonVoz['churn'] == 1).mean()*100\n",
        "#Resultados\n",
        "print(f\"El porcentaje de clientes con buzon de voz que desertaron es: {DesercionBuzonVoz:.2f}%\")\n",
        "print(f\"El porcentaje de clientes sin buzon de voz que desertaron es: {DesercionSinBuzonVoz:.2f}%\")"
      ],
      "metadata": {
        "colab": {
          "base_uri": "https://localhost:8080/"
        },
        "id": "azhC8yheYrHo",
        "outputId": "5b93be0c-df2d-4da5-fa1a-48813f2f4a4d"
      },
      "execution_count": 5,
      "outputs": [
        {
          "output_type": "stream",
          "name": "stdout",
          "text": [
            "El porcentaje de clientes con buzon de voz que desertaron es: 8.68%\n",
            "El porcentaje de clientes sin buzon de voz que desertaron es: 16.72%\n"
          ]
        }
      ]
    },
    {
      "cell_type": "markdown",
      "source": [
        "## **Análisis de la Duración del Servicio y Deserción**\n",
        "\n",
        "¿Cuál es la duración promedio de la cuenta (account length) entre clientes que desertaron y los que permanecen?\n",
        "\n",
        "¿Los clientes con cuentas más antiguas tienen más probabilidades de desertar?"
      ],
      "metadata": {
        "id": "yL8Y_juFFup7"
      }
    },
    {
      "cell_type": "markdown",
      "source": [
        "### ¿Cuál es la duración promedio de la cuenta (account length) entre clientes que desertaron y los que permanecen?"
      ],
      "metadata": {
        "id": "mwp7KpoTuZZ8"
      }
    },
    {
      "cell_type": "code",
      "source": [
        "# Duracion promedio de la cuenta\n",
        "\n",
        "#Identificacion de dataframes de acuerdo a los usuarios que han desertado\n",
        "UsuariosDesertores = df[df['churn'] == 1]\n",
        "UsuariosActivos = df[df['churn'] == 0]\n",
        "\n",
        "#Calculo de la duracion promedio\n",
        "DuracionPromedioDesertores = UsuariosDesertores['account length'].mean()\n",
        "DuracionPromedioActivos = UsuariosActivos['account length'].mean()\n",
        "\n",
        "#Resultados\n",
        "print(f\"La duracion promedio de la cuenta de los usuarios que desertaron es: {DuracionPromedioDesertores:.2f} dias\")\n",
        "print(f\"La duracion promedio de la cuenta de los usuarios que estan activos es: {DuracionPromedioActivos:.2f} dias\")\n"
      ],
      "metadata": {
        "id": "7ViU0n6lGFao",
        "colab": {
          "base_uri": "https://localhost:8080/"
        },
        "outputId": "eb89d8c4-f14f-4956-fe24-18b9e9adcbd9"
      },
      "execution_count": 6,
      "outputs": [
        {
          "output_type": "stream",
          "name": "stdout",
          "text": [
            "La duracion promedio de la cuenta de los usuarios que desertaron es: 102.66 dias\n",
            "La duracion promedio de la cuenta de los usuarios que estan activos es: 100.79 dias\n"
          ]
        }
      ]
    },
    {
      "cell_type": "markdown",
      "source": [
        "### ¿Los clientes con cuentas más antiguas tienen más probabilidades de desertar?"
      ],
      "metadata": {
        "id": "UqJASzZpuvKg"
      }
    },
    {
      "cell_type": "code",
      "source": [
        "import seaborn as sns\n",
        "import matplotlib.pyplot as plt\n",
        "from scipy.stats import ttest_ind"
      ],
      "metadata": {
        "id": "QfUBBmSa0t2h"
      },
      "execution_count": 11,
      "outputs": []
    },
    {
      "cell_type": "code",
      "source": [
        "# Solución propuesta\n",
        "\n",
        "# Visualización de la distribución de las duraciones de la cuenta para ambos grupos\n",
        "plt.figure(figsize=(10, 6))\n",
        "sns.boxplot(x='churn', y='account length', data=df)\n",
        "plt.title('Distribución de la duración de la cuenta por deserción')\n",
        "plt.xlabel('Deserción')\n",
        "plt.ylabel('Duración de la cuenta (meses)')\n",
        "plt.show()\n",
        "\n",
        "# Realizar un test t para ver si hay una diferencia estadísticamente significativa\n",
        "t_stat, p_value = ttest_ind(UsuariosDesertores['account length'], UsuariosActivos['account length'])\n",
        "\n",
        "print(f'Estadístico t: {t_stat:.2f}')\n",
        "print(f'Valor p: {p_value:.4f}')\n",
        "\n",
        "# Interpretación del resultado del test t\n",
        "# Si el valor p (p_value) es menor que 0.05, existe una diferencia significativa entre las duraciones de las cuentas de los clientes que desertaron y los que permanecen.\n",
        "# Si el valor p (p_value) es mayor que 0.05, no hay suficiente evidencia para concluir que la duración de la cuenta influya en la probabilidad de deserción.\n",
        "if p_value < 0.05:\n",
        "    print('Hay una diferencia estadísticamente significativa entre las duraciones de las cuentas de los clientes que desertaron y los que permanecen.')\n",
        "else:\n",
        "    print('No hay una diferencia estadísticamente significativa entre las duraciones de las cuentas de los clientes que desertaron y los que permanecen.')"
      ],
      "metadata": {
        "id": "jzZnMlQVxPk-",
        "outputId": "481fe5c8-5468-455d-d835-cf3d8b8ce0d3",
        "colab": {
          "base_uri": "https://localhost:8080/",
          "height": 617
        }
      },
      "execution_count": 18,
      "outputs": [
        {
          "output_type": "display_data",
          "data": {
            "text/plain": [
              "<Figure size 1000x600 with 1 Axes>"
            ],
            "image/png": "[encoded data removed]"
          },
          "metadata": {}
        },
        {
          "output_type": "stream",
          "name": "stdout",
          "text": [
            "Estadístico t: 0.95\n",
            "Valor p: 0.3398\n",
            "No hay una diferencia estadísticamente significativa entre las duraciones de las cuentas de los clientes que desertaron y los que permanecen.\n"
          ]
        }
      ]
    },
    {
      "cell_type": "markdown",
      "source": [
        "## **Relación entre Deserción y Uso del Servicio**\n",
        "\n",
        "Compara la cantidad de minutos usados en llamadas diurnas (total day minutes) entre clientes con y sin churn.\n",
        "\n",
        "Compara la cantidad de minutos usados en llamadas nocturnas (total night minutes).\n",
        "\n",
        "Compara el número total de llamadas (total day calls) entre clientes con y sin churn."
      ],
      "metadata": {
        "id": "vyaa82K0GF6B"
      }
    },
    {
      "cell_type": "markdown",
      "source": [
        "### Compara la cantidad de minutos usados en llamadas diurnas (total day minutes) entre clientes con y sin churn:"
      ],
      "metadata": {
        "id": "UkFZCQHO6l3h"
      }
    },
    {
      "cell_type": "code",
      "source": [
        "#Cantidad de minutos consumidos en llamadas diurnas:\n",
        "MinutosDesertores = UsuariosDesertores['total day minutes'].sum()\n",
        "MinutosActivos = UsuariosActivos['total day minutes'].sum()\n",
        "\n",
        "#Resultados:\n",
        "print(f\"Cantidad de minutos consumidos en llamadas diurnas entre los usuarios que desertaron es: {MinutosDesertores:.2f} minutos\")\n",
        "print(f\"Cantidad de minutos consumidos en llamadas diurnas entre los usuarios que estan activos es: {MinutosActivos:.2f} minutos\")"
      ],
      "metadata": {
        "id": "d4aPKcv2GrpL",
        "colab": {
          "base_uri": "https://localhost:8080/"
        },
        "outputId": "0e89fcab-0647-42a1-c09d-b4720e041728"
      },
      "execution_count": null,
      "outputs": [
        {
          "output_type": "stream",
          "name": "stdout",
          "text": [
            "Cantidad de minutos consumidos en llamadas diurnas entre los usuarios que desertaron es: 99939.50 minutos\n",
            "Cantidad de minutos consumidos en llamadas diurnas entre los usuarios que estan activos es: 499250.90 minutos\n"
          ]
        }
      ]
    },
    {
      "cell_type": "markdown",
      "source": [
        "### Compara la cantidad de minutos usados en llamadas nocturnas (total night minutes):"
      ],
      "metadata": {
        "id": "szpgJ59F6y3O"
      }
    },
    {
      "cell_type": "code",
      "source": [
        "#Cantidad de minutos consumidos en llamadas nocturnas:\n",
        "MinutosDesertores = UsuariosDesertores['total night minutes'].sum()\n",
        "MinutosActivos = UsuariosActivos['total night minutes'].sum()\n",
        "\n",
        "print(f\"Cantidad de minutos consumidos en llamadas nocturnas entre los usuarios que desertaron es: {MinutosDesertores:.2f} minutos\")\n",
        "print(f\"Cantidad de minutos consumidos en llamadas nocturnas entre los usuarios que estan activos es: {MinutosActivos:.2f} minutos\")\n",
        "\n",
        "\n",
        "#Cantidad total de minutos en llamadas nocturnas:\n",
        "PromedioLlamadasNocturnas = df['total night calls'].sum()\n",
        "print(f\"Cantidad de minutos de llamadas nocturnas entre los usuarios que estan activos es: {PromedioLlamadasNocturnas:.2f} minutos\")"
      ],
      "metadata": {
        "colab": {
          "base_uri": "https://localhost:8080/"
        },
        "id": "IT6ojNDRe1M6",
        "outputId": "1335911d-5db8-41bc-ca68-bb1de13b1e8f"
      },
      "execution_count": null,
      "outputs": [
        {
          "output_type": "stream",
          "name": "stdout",
          "text": [
            "Cantidad de minutos consumidos en llamadas nocturnas entre los usuarios que desertaron es: 99126.90 minutos\n",
            "Cantidad de minutos consumidos en llamadas nocturnas entre los usuarios que estan activos es: 570379.60 minutos\n",
            "Cantidad de minutos de llamadas nocturnas entre los usuarios que estan activos es: 333659.00 minutos\n"
          ]
        }
      ]
    },
    {
      "cell_type": "markdown",
      "source": [
        "### Compara el número total de llamadas (total day calls) entre clientes con y sin churn (Desertores y No Desertores):"
      ],
      "metadata": {
        "id": "V7fjIwrs6-Y1"
      }
    },
    {
      "cell_type": "code",
      "source": [
        "#Total de llamadas entre clientes activos y desertores\n",
        "LlamadasDesertores = UsuariosDesertores['total day calls'].sum()\n",
        "LlamadasActivos = UsuariosActivos['total day calls'].sum()\n",
        "\n",
        "#Resultado:\n",
        "print(f\"Cantidad de llamadas entre los usuarios que desertaron es: {LlamadasDesertores} llamadas\")\n",
        "print(f\"Cantidad de llamadas entre los usuarios que estan activos es: {LlamadasActivos} llamadas\")"
      ],
      "metadata": {
        "colab": {
          "base_uri": "https://localhost:8080/"
        },
        "id": "u7TsmeyagEwR",
        "outputId": "bdb9b794-49c9-42c3-c129-d5f0691775b7"
      },
      "execution_count": null,
      "outputs": [
        {
          "output_type": "stream",
          "name": "stdout",
          "text": [
            "Cantidad de llamadas entre los usuarios que desertaron es: 48945 llamadas\n",
            "Cantidad de llamadas entre los usuarios que estan activos es: 285807 llamadas\n"
          ]
        }
      ]
    },
    {
      "cell_type": "markdown",
      "source": [
        "## **Impacto de las Llamadas al Servicio al Cliente en la Deserción**\n",
        "\n",
        "Calcula el número promedio de llamadas al servicio al cliente (customer service calls) entre clientes que desertaron y los que no.\n",
        "\n",
        "Divide los clientes en dos grupos:\n",
        "\n",
        "- Grupo 1: Clientes que llamaron más de 3 veces al servicio al cliente.\n",
        "- Grupo 2: Clientes que llamaron 3 veces o menos.\n",
        "Compara la tasa de churn entre ambos grupos."
      ],
      "metadata": {
        "id": "aKl9LnZgGsDT"
      }
    },
    {
      "cell_type": "markdown",
      "source": [
        "### número promedio de llamadas al servicio al cliente (customer service calls) entre clientes que desertaron y los que no."
      ],
      "metadata": {
        "id": "aNBiFnn28uYJ"
      }
    },
    {
      "cell_type": "code",
      "source": [
        "# Solución propuesta\n",
        "\n",
        "# Calcular el número promedio de llamadas al servicio al cliente\n",
        "promedio_desertaron = UsuariosDesertores['customer service calls'].mean()\n",
        "promedio_permanecen = UsuariosActivos['customer service calls'].mean()\n",
        "\n",
        "# Mostrar los resultados\n",
        "print(f'Número promedio de llamadas al servicio al cliente de los clientes que desertaron: {promedio_desertaron:.2f} llamadas')\n",
        "print(f'Número promedio de llamadas al servicio al cliente de los clientes que permanecen: {promedio_permanecen:.2f} llamadas')"
      ],
      "metadata": {
        "id": "ac9qDXgrGz-M",
        "outputId": "07086534-e8a2-4543-ddce-f76a1a140c53",
        "colab": {
          "base_uri": "https://localhost:8080/"
        }
      },
      "execution_count": 19,
      "outputs": [
        {
          "output_type": "stream",
          "name": "stdout",
          "text": [
            "Número promedio de llamadas al servicio al cliente de los clientes que desertaron: 2.23 llamadas\n",
            "Número promedio de llamadas al servicio al cliente de los clientes que permanecen: 1.45 llamadas\n"
          ]
        }
      ]
    },
    {
      "cell_type": "markdown",
      "source": [
        "### Divide los clientes en dos grupos:\n",
        "- Grupo 1: Clientes que llamaron más de 3 veces al servicio al cliente.\n",
        "- Grupo 2: Clientes que llamaron 3 veces o menos.\n",
        "\n",
        "Compara la tasa de churn entre ambos grupos."
      ],
      "metadata": {
        "id": "1VSR1e2Q9awb"
      }
    },
    {
      "cell_type": "code",
      "source": [
        "# Solución propuesta\n",
        "\n",
        "# Dividir a los clientes en dos grupos según el número de llamadas al servicio al cliente\n",
        "grupo_1 = df[df['customer service calls'] > 3]  # Llamaron más de 3 veces\n",
        "grupo_2 = df[df['customer service calls'] <= 3]  # Llamaron 3 veces o menos\n",
        "\n",
        "# Calcular la tasa de churn para cada grupo\n",
        "tasa_churn_grupo_1 = (grupo_1['churn'] == 1).mean()  # Porcentaje de desertores en grupo 1\n",
        "tasa_churn_grupo_2 = (grupo_2['churn'] == 1).mean()  # Porcentaje de desertores en grupo 2\n",
        "\n",
        "# Mostrar las tasas de churn\n",
        "print(f'Tasa de desertores para el Grupo 1 (más de 3 llamadas): {tasa_churn_grupo_1 * 100:.2f}%')\n",
        "print(f'Tasa de desertores para el Grupo 2 (3 llamadas o menos): {tasa_churn_grupo_2 * 100:.2f}%')\n",
        "\n",
        "print('\\nEl Grupo 1 (clientes que llamaron más de 3 veces) tiene una tasa de desertores significativamente más alta que el Grupo 2 (clientes que llamaron 3 veces o menos),\\npodría indicar que un mayor número de llamadas al servicio al cliente está relacionado con una mayor probabilidad de deserción.')"
      ],
      "metadata": {
        "id": "L4AbOjC99czG",
        "outputId": "df15946e-d6c9-4d10-9dfd-9b156143f305",
        "colab": {
          "base_uri": "https://localhost:8080/"
        }
      },
      "execution_count": 24,
      "outputs": [
        {
          "output_type": "stream",
          "name": "stdout",
          "text": [
            "Tasa de desertores para el Grupo 1 (más de 3 llamadas): 51.69%\n",
            "Tasa de desertores para el Grupo 2 (3 llamadas o menos): 11.25%\n",
            "\n",
            "El Grupo 1 (clientes que llamaron más de 3 veces) tiene una tasa de desertores significativamente más alta que el Grupo 2 (clientes que llamaron 3 veces o menos),\n",
            "podría indicar que un mayor número de llamadas al servicio al cliente está relacionado con una mayor probabilidad de deserción.\n"
          ]
        }
      ]
    },
    {
      "cell_type": "markdown",
      "source": [
        "## **Análisis del Costo de las Llamadas y Churn**\n",
        "\n",
        "Compara el costo total de llamadas diurnas (total day charge) entre clientes con y sin churn.\n",
        "\n",
        "Compara el costo total de llamadas nocturnas (total night charge).\n",
        "\n",
        "¿Los clientes con mayor gasto en llamadas internacionales (total intl charge) tienen más probabilidades de desertar?"
      ],
      "metadata": {
        "id": "U7oTziiyG0Wb"
      }
    },
    {
      "cell_type": "markdown",
      "source": [
        "### Compara el costo total de llamadas diurnas (total day charge) entre clientes con y sin churn:"
      ],
      "metadata": {
        "id": "_IJzdEfMBZZA"
      }
    },
    {
      "cell_type": "code",
      "source": [
        "# Solución propuesta\n",
        "\n",
        "# Calcular la media del costo total de las llamadas diurnas para ambos grupos\n",
        "promedio_costo_desertaron = UsuariosDesertores['total day charge'].mean()\n",
        "promedio_costo_permanecen = UsuariosActivos['total day charge'].mean()\n",
        "\n",
        "# Mostrar los resultados\n",
        "print(f'Costo promedio de llamadas diurnas de los clientes que desertaron: ${promedio_costo_desertaron:.2f}')\n",
        "print(f'Costo promedio de llamadas diurnas de los clientes que permanecen: ${promedio_costo_permanecen:.2f}')\n",
        "\n",
        "# Visualización para comparar la distribución de los costos entre ambos grupos\n",
        "plt.figure(figsize=(10, 6))\n",
        "sns.boxplot(x='churn', y='total day charge', data=df)\n",
        "plt.title('Distribución del costo de llamadas diurnas por deserción')\n",
        "plt.xlabel('Deserción')\n",
        "plt.ylabel('Costo total de llamadas diurnas ($)')\n",
        "plt.show()"
      ],
      "metadata": {
        "id": "YWGmcLdoIYwx",
        "outputId": "32c28651-9900-46c6-b95e-55ac4663c04d",
        "colab": {
          "base_uri": "https://localhost:8080/",
          "height": 600
        }
      },
      "execution_count": 25,
      "outputs": [
        {
          "output_type": "stream",
          "name": "stdout",
          "text": [
            "Costo promedio de llamadas diurnas de los clientes que desertaron: $35.18\n",
            "Costo promedio de llamadas diurnas de los clientes que permanecen: $29.78\n"
          ]
        },
        {
          "output_type": "display_data",
          "data": {
            "text/plain": [
              "<Figure size 1000x600 with 1 Axes>"
            ],
            "image/png": "[encoded data removed]"
          },
          "metadata": {}
        }
      ]
    },
    {
      "cell_type": "markdown",
      "source": [
        "Interpretación:\n",
        "\n",
        "Si el costo total de las llamadas diurnas es mayor en los clientes que desertaron, podría indicar que los clientes que gastan más en llamadas están más inclinados a abandonar el servicio.\n",
        "\n",
        "Si no hay una diferencia significativa, entonces el costo de las llamadas diurnas no parecería ser un factor decisivo en la deserción de los clientes."
      ],
      "metadata": {
        "id": "ffM1iboqCBdO"
      }
    },
    {
      "cell_type": "markdown",
      "source": [
        "### Compara el costo total de llamadas nocturnas (total night charge)."
      ],
      "metadata": {
        "id": "-jU1kAfKCdgy"
      }
    },
    {
      "cell_type": "code",
      "source": [
        "# Solución propuesta\n",
        "\n",
        "# Calcular la media del costo total de las llamadas nocturnas para ambos grupos\n",
        "promedio_costo_nocturno_desertaron = UsuariosDesertores['total night charge'].mean()\n",
        "promedio_costo_nocturno_permanecen = UsuariosActivos['total night charge'].mean()\n",
        "\n",
        "# Mostrar los resultados\n",
        "print(f'Costo promedio de llamadas nocturnas de los clientes que desertaron: ${promedio_costo_nocturno_desertaron:.2f}')\n",
        "print(f'Costo promedio de llamadas nocturnas de los clientes que permanecen: ${promedio_costo_nocturno_permanecen:.2f}')\n",
        "\n",
        "# Visualización para comparar la distribución de los costos entre ambos grupos\n",
        "plt.figure(figsize=(10, 6))\n",
        "sns.boxplot(x='churn', y='total night charge', data=df)\n",
        "plt.title('Distribución del costo de llamadas nocturnas por deserción')\n",
        "plt.xlabel('Deserción')\n",
        "plt.ylabel('Costo total de llamadas nocturnas ($)')\n",
        "plt.show()"
      ],
      "metadata": {
        "id": "uYT2_cyxC0t7",
        "outputId": "4d1dc67d-37a9-4ca8-db97-9949c876a85b",
        "colab": {
          "base_uri": "https://localhost:8080/",
          "height": 600
        }
      },
      "execution_count": 26,
      "outputs": [
        {
          "output_type": "stream",
          "name": "stdout",
          "text": [
            "Costo promedio de llamadas nocturnas de los clientes que desertaron: $9.24\n",
            "Costo promedio de llamadas nocturnas de los clientes que permanecen: $9.01\n"
          ]
        },
        {
          "output_type": "display_data",
          "data": {
            "text/plain": [
              "<Figure size 1000x600 with 1 Axes>"
            ],
            "image/png": "[encoded data removed]"
          },
          "metadata": {}
        }
      ]
    },
    {
      "cell_type": "markdown",
      "source": [
        "Interpretación:\n",
        "\n",
        "Si el costo total de las llamadas nocturnas es más alto en los clientes que desertaron, podría sugerir que los clientes con mayor gasto en llamadas nocturnas están más inclinados a abandonar el servicio.\n",
        "\n",
        "Si no hay una diferencia significativa, entonces el costo de las llamadas nocturnas no parecería ser un factor relevante para la deserción de los clientes."
      ],
      "metadata": {
        "id": "M3XkoDtCD7XI"
      }
    },
    {
      "cell_type": "markdown",
      "source": [
        "### ¿Los clientes con mayor gasto en llamadas internacionales (total intl charge) tienen más probabilidades de desertar?"
      ],
      "metadata": {
        "id": "IIMdb4FiC4zo"
      }
    },
    {
      "cell_type": "code",
      "source": [
        "# Solución propuesta\n",
        "\n",
        "# Calcular la media del gasto en llamadas internacionales para ambos grupos\n",
        "promedio_gasto_internacional_desertaron = UsuariosDesertores['total intl charge'].mean()\n",
        "promedio_gasto_internacional_permanecen = UsuariosActivos['total intl charge'].mean()\n",
        "\n",
        "# Mostrar los resultados\n",
        "print(f'Gasto promedio en llamadas internacionales de los clientes que desertaron: ${promedio_gasto_internacional_desertaron:.2f}')\n",
        "print(f'Gasto promedio en llamadas internacionales de los clientes que permanecen: ${promedio_gasto_internacional_permanecen:.2f}')\n",
        "\n",
        "# Visualización para comparar la distribución del gasto en llamadas internacionales entre ambos grupos\n",
        "plt.figure(figsize=(10, 6))\n",
        "sns.boxplot(x='churn', y='total intl charge', data=df)\n",
        "plt.title('Distribución del gasto en llamadas internacionales por deserción')\n",
        "plt.xlabel('Deserción')\n",
        "plt.ylabel('Gasto total en llamadas internacionales ($)')\n",
        "plt.show()\n",
        "\n",
        "# Realizar un test t para ver si hay una diferencia estadísticamente significativa\n",
        "t_stat, p_value = ttest_ind(UsuariosDesertores['total intl charge'], UsuariosActivos['total intl charge'])\n",
        "\n",
        "# Mostrar el resultado del test t\n",
        "print(f'Estadístico t: {t_stat:.2f}')\n",
        "print(f'Valor p: {p_value:.4f}')\n",
        "\n",
        "# Interpretación del resultado del test t\n",
        "if p_value < 0.05:\n",
        "    print('Hay una diferencia estadísticamente significativa entre el gasto en llamadas internacionales de los clientes que desertaron y los que permanecen.')\n",
        "else:\n",
        "    print('No hay una diferencia estadísticamente significativa entre el gasto en llamadas internacionales de los clientes que desertaron y los que permanecen.')\n"
      ],
      "metadata": {
        "id": "75spWbxOC6PB",
        "outputId": "319e63c4-8b20-402a-80a7-031c30525c79",
        "colab": {
          "base_uri": "https://localhost:8080/",
          "height": 652
        }
      },
      "execution_count": 27,
      "outputs": [
        {
          "output_type": "stream",
          "name": "stdout",
          "text": [
            "Gasto promedio en llamadas internacionales de los clientes que desertaron: $2.89\n",
            "Gasto promedio en llamadas internacionales de los clientes que permanecen: $2.74\n"
          ]
        },
        {
          "output_type": "display_data",
          "data": {
            "text/plain": [
              "<Figure size 1000x600 with 1 Axes>"
            ],
            "image/png": "[encoded data removed]"
          },
          "metadata": {}
        },
        {
          "output_type": "stream",
          "name": "stdout",
          "text": [
            "Estadístico t: 3.95\n",
            "Valor p: 0.0001\n",
            "Hay una diferencia estadísticamente significativa entre el gasto en llamadas internacionales de los clientes que desertaron y los que permanecen.\n"
          ]
        }
      ]
    },
    {
      "cell_type": "markdown",
      "source": [
        " Interpretación:\n",
        "\n",
        "Si los clientes que desertaron tienen un mayor gasto en llamadas internacionales, esto podría sugerir que el costo asociado con las llamadas internacionales puede ser un factor relacionado con la deserción.\n",
        "\n",
        "Si no hay una diferencia significativa, entonces el gasto en llamadas internacionales no parece ser un factor relevante para la deserción."
      ],
      "metadata": {
        "id": "KHlcOuxXF9xj"
      }
    }
  ]
}