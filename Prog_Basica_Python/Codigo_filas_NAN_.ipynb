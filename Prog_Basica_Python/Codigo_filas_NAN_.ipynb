{
  "cells": [
    {
      "cell_type": "code",
      "execution_count": null,
      "metadata": {
        "id": "nPRor4yl_C6K"
      },
      "outputs": [],
      "source": [
        "import pandas as pd\n",
        "\n",
        "datosEjemplo1 = {\n",
        "    'ID': [101, 102, 103, 104, 105],\n",
        "    'Nombre': ['Juan', 'Ana', None, 'Pedro', 'Maria'],\n",
        "    'Edad': [25, None, 30, 40, None],\n",
        "    'Ciudad': ['Bogotá', 'Medellín', 'Cali', None, 'Barranquilla']\n",
        "}\n",
        "\n",
        "dfEjemplo1 = pd.DataFrame(datosEjemplo1)\n"
      ]
    },
    {
      "cell_type": "code",
      "execution_count": null,
      "metadata": {
        "id": "oAp-gz38_C6L"
      },
      "outputs": [],
      "source": [
        "import numpy as np\n",
        "\n",
        "datosEjemplo2 = {\n",
        "    'ID': [201, 202, 203, 204, 205],\n",
        "    'Nombre': ['Carlos', 'Diana', np.nan, 'Luis', 'Sofia'],\n",
        "    'Edad': [np.nan, 28, 35, np.nan, 45],\n",
        "    'Ciudad': ['Manizales', np.nan, 'Cartagena', 'Bucaramanga', 'Cúcuta']\n",
        "}\n",
        "\n",
        "dfEjemplo2 = pd.DataFrame(datosEjemplo2)\n"
      ]
    },
    {
      "cell_type": "markdown",
      "metadata": {
        "id": "QfMCfZ2E_C6M"
      },
      "source": [
        "## Código 1 - Uso de iterrows()\n",
        "Este código recorre el DataFrame fila por fila usando iterrows() y verifica si alguna celda contiene un valor faltante (NaN o None). Si encuentra un valor faltante, agrega el índice de esa fila a una lista y luego devuelve el DataFrame filtrado con solo esas filas.\n",
        "\n",
        "- iterrows(): Permite recorrer las filas del DataFrame como pares (index, fila), donde fila es una serie de Pandas con los valores de la fila actual.\n",
        "- valor != valor: En Python, los valores NaN no son iguales a sí mismos, por lo que esta comparación permite detectarlos.\n",
        "- break: Se usa para salir del bucle interno al encontrar el primer valor NaN en una fila, evitando comparaciones innecesarias.\n",
        "\n",
        "Observacion: iterrows() es lento en comparación con otros métodos porque convierte cada fila en una serie de Pandas, lo que agrega sobrecarga."
      ]
    },
    {
      "cell_type": "code",
      "execution_count": null,
      "metadata": {
        "id": "o8TLAIjH_C6M"
      },
      "outputs": [],
      "source": [
        "def encontrarValoresFaltantesIterrows(df):\n",
        "    \"\"\"\n",
        "    Identifica filas con valores faltantes recorriendo con iterrows().\n",
        "    \"\"\"\n",
        "    filasConNulos = []\n",
        "\n",
        "    for index, fila in df.iterrows():\n",
        "        for valor in fila:\n",
        "            if valor != valor:  # En Python, NaN no es igual a sí mismo\n",
        "                filasConNulos.append(index)\n",
        "                break  # Pasar a la siguiente fila si se encuentra un NaN\n",
        "\n",
        "    return df.loc[filasConNulos]\n",
        "\n",
        "\n",
        "print(\"Resultados con dfEjemplo1:\")\n",
        "print(encontrarValoresFaltantesIterrows(dfEjemplo1))\n",
        "\n",
        "print(\"\\nResultados con dfEjemplo2:\")\n",
        "print(encontrarValoresFaltantesIterrows(dfEjemplo2))\n"
      ]
    },
    {
      "cell_type": "markdown",
      "metadata": {
        "id": "NOt31LWZ_C6N"
      },
      "source": [
        "## Código 2 - Uso de iloc con índices\n",
        "\n",
        "Recorre el DataFrame utilizando índices numéricos en lugar de iterrows(). Se accede directamente a cada celda mediante iloc[i, j], detectando valores NaN con la misma lógica (valor != valor). Si se encuentra un NaN, se agrega la fila a la lista de resultados.\n",
        "\n",
        "\n",
        "- range(len(df)): Permite recorrer las filas usando índices numéricos.\n",
        "- iloc[i, j]: Accede a la celda específica en la posición [i, j] del DataFrame.\n",
        "- break: Se usa para salir del bucle interno una vez que se detecta un NaN en la fila.\n",
        "\n",
        "Observación: Más rápido que iterrows(), ya que evita la conversión de filas en series de Pandas.\n"
      ]
    },
    {
      "cell_type": "code",
      "execution_count": null,
      "metadata": {
        "id": "IlVurvSJ_C6N"
      },
      "outputs": [],
      "source": [
        "def encontrarValoresFaltantesIndices(df):\n",
        "    \"\"\"\n",
        "    Encuentra filas con valores faltantes recorriendo índices en lugar de iterrows().\n",
        "    \"\"\"\n",
        "    filasConNulos = []\n",
        "\n",
        "    for i in range(len(df)):\n",
        "        for j in range(len(df.columns)):\n",
        "            if df.iloc[i, j] != df.iloc[i, j]:  # Comparación de NaN\n",
        "                filasConNulos.append(i)\n",
        "                break  # Si se encuentra un NaN, se agrega la fila y se pasa a la siguiente\n",
        "\n",
        "    return df.iloc[filasConNulos]\n",
        "\n",
        "\n",
        "print(\"Resultados con dfEjemplo1:\")\n",
        "print(encontrarValoresFaltantesIndices(dfEjemplo1))\n",
        "\n",
        "print(\"\\nResultados con dfEjemplo2:\")\n",
        "print(encontrarValoresFaltantesIndices(dfEjemplo2))\n"
      ]
    },
    {
      "cell_type": "markdown",
      "metadata": {
        "id": "Alv9QL3y_C6N"
      },
      "source": [
        "## Código 3 - Uso de máscara booleana con listas por comprensión\n",
        "\n",
        "Crea una matriz booleana (lista de listas) donde cada celda indica si hay un NaN. Luego, usa enumerate() para extraer los índices de las filas con valores faltantes y filtra el DataFrame usando iloc.\n",
        "\n",
        "\n",
        "- df.to_numpy(): Convierte el DataFrame en una matriz NumPy para mejorar el rendimiento en comparación con iloc.\n",
        "- Lista por comprensión: Se usa para recorrer el array y generar la matriz booleana en una sola línea:\n",
        "    mascaraNulos = [[valor != valor for valor in fila] for fila in df.to_numpy()]\n",
        "- enumerate(): Se usa para obtener el índice de las filas donde hay True en la máscara booleana.\n",
        "- any(fila): Verifica si al menos un valor de la fila es True (es decir, tiene un NaN).\n",
        "\n",
        "Observación: Más eficiente que los métodos anteriores porque usa operaciones vectorizadas con NumPy.\n"
      ]
    },
    {
      "cell_type": "code",
      "execution_count": null,
      "metadata": {
        "id": "C_vlGulv_C6N"
      },
      "outputs": [],
      "source": [
        "def encontrarValoresFaltantesMascara(df):\n",
        "    \"\"\"\n",
        "    Identifica filas con valores faltantes utilizando una máscara booleana personalizada.\n",
        "    \"\"\"\n",
        "    mascaraNulos = [[valor != valor for valor in fila] for fila in df.to_numpy()]\n",
        "    filasConNulos = [i for i, fila in enumerate(mascaraNulos) if any(fila)]\n",
        "\n",
        "    return df.iloc[filasConNulos]\n",
        "\n",
        "\n",
        "print(\"Resultados con dfEjemplo1:\")\n",
        "print(encontrarValoresFaltantesMascara(dfEjemplo1))\n",
        "\n",
        "print(\"\\nResultados con dfEjemplo2:\")\n",
        "print(encontrarValoresFaltantesMascara(dfEjemplo2))\n"
      ]
    },
    {
      "cell_type": "markdown",
      "metadata": {
        "id": "ZTcMadVG_C6N"
      },
      "source": [
        "## Código 4 - Uso de listas y tolist()\n",
        "\n",
        "Convierte el DataFrame en una lista de listas (df.values.tolist()) y luego recorre la lista con bucles anidados. Si encuentra un NaN, agrega el índice de la fila a la lista de resultados.\n",
        "\n",
        "\n",
        "- df.values.tolist(): Convierte el DataFrame en una lista de listas para un acceso más rápido.\n",
        "- Bucle for anidado: Recorre la lista externa (filas) y luego los elementos internos (columnas).\n",
        "- break: Se usa para salir del bucle interno al encontrar un NaN.\n",
        "\n",
        "Observacion: Menos eficiente en grandes conjuntos de datos en comparación con el uso de NumPy."
      ]
    },
    {
      "cell_type": "code",
      "execution_count": null,
      "metadata": {
        "id": "vIjawLV9_C6O"
      },
      "outputs": [],
      "source": [
        "def encontrarValoresFaltantesLista(df):\n",
        "    \"\"\"\n",
        "    Identifica filas con valores faltantes recorriendo el DataFrame convertido en lista.\n",
        "    \"\"\"\n",
        "    filasConNulos = []\n",
        "    datosLista = df.values.tolist()  # Convertir el DataFrame en lista de listas\n",
        "\n",
        "    for i in range(len(datosLista)):\n",
        "        for j in range(len(datosLista[i])):\n",
        "            if datosLista[i][j] != datosLista[i][j]:  # Comparación de NaN\n",
        "                filasConNulos.append(i)\n",
        "                break  # Si se encuentra un NaN, se pasa a la siguiente fila\n",
        "\n",
        "    return df.iloc[filasConNulos]\n",
        "\n",
        "\n",
        "print(\"Resultados con dfEjemplo1:\")\n",
        "print(encontrarValoresFaltantesLista(dfEjemplo1))\n",
        "\n",
        "print(\"\\nResultados con dfEjemplo2:\")\n",
        "print(encontrarValoresFaltantesLista(dfEjemplo2))\n"
      ]
    }
  ],
  "metadata": {
    "language_info": {
      "name": "python"
    },
    "colab": {
      "provenance": []
    }
  },
  "nbformat": 4,
  "nbformat_minor": 0
}