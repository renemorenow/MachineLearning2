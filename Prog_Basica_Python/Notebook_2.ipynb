{
  "cells": [
    {
      "cell_type": "markdown",
      "source": [
        "# **Introducción**\n",
        "\n",
        "En este recurso, exploraremos conceptos fundamentales de programación en Python, centrándonos en estructuras clave que te ayudarán a escribir código más eficiente y organizado. A lo largo del material, aprenderemos sobre:\n",
        "\n",
        "**Funciones en Python:** Qué son, cómo se definen y cómo nos permiten modularizar nuestro código para reutilizarlo de manera eficiente. Veremos funciones con y sin parámetros, el uso del return y ejemplos prácticos.\n",
        "\n",
        "**Tipos de datos en Python:**\n",
        "\n",
        "- Listas: Colecciones ordenadas y mutables que permiten almacenar múltiples elementos en una misma variable.\n",
        "- Tuplas: Similares a las listas, pero inmutables (no se pueden modificar después de su creación).\n",
        "-Diccionarios: Estructuras de datos que almacenan pares clave-valor, ideales para acceder rápidamente a información.\n",
        "\n",
        "**Estructuras de control de flujo:**\n",
        "\n",
        "Loops (bucles): Exploraremos los ciclos for y while para iterar sobre listas, tuplas y diccionarios, permitiéndonos automatizar tareas repetitivas.\n",
        "Al finalizar este recurso, estarás familiarizado con estos conceptos esenciales y podrás aplicarlos para desarrollar programas más organizados y eficientes"
      ],
      "metadata": {
        "id": "GumiGULU5yuO"
      }
    },
    {
      "cell_type": "markdown",
      "metadata": {
        "id": "VVueezWUbJns"
      },
      "source": [
        "# __Funciones__\n",
        "\n",
        "Una función es un bloque de código reutilizable que realiza una tarea específica lo cual nos permiten construir programas más modulares y reutilizar código. Las funciones se definen una vez y se pueden llamar varias veces durante la ejecución de un programa. Las funciones se ejecutan únicamente cuando son llamadas."
      ]
    },
    {
      "cell_type": "markdown",
      "metadata": {
        "id": "k2wrIm4M3QbN"
      },
      "source": [
        "## __Aspectos básicos__"
      ]
    },
    {
      "cell_type": "markdown",
      "metadata": {
        "id": "bSBl4A73b27X"
      },
      "source": [
        "### __Declarar una función__\n",
        "\n",
        "Para definir una función en Python debemos utilizar la palabra reservada `def` y utilizar el nivel de indentación adecuado"
      ]
    },
    {
      "cell_type": "code",
      "execution_count": null,
      "metadata": {
        "id": "HPQbmAkiOJJz"
      },
      "outputs": [],
      "source": [
        "def NombreFuncion(ParametrosOpcionales):\n",
        "    # Bloque de código\n",
        "    return ValorRetornadoOpcional"
      ]
    },
    {
      "cell_type": "markdown",
      "metadata": {
        "id": "u5mAInK6OJJ0"
      },
      "source": [
        "- Pueden tener parámetros (valores de entrada) o no.\n",
        "- Pueden devolver un valor con return o no devolver nada. (Las funciones sin return devuelven automáticamente None.)"
      ]
    },
    {
      "cell_type": "code",
      "execution_count": null,
      "metadata": {
        "id": "um71XbiQbI0H"
      },
      "outputs": [],
      "source": [
        "def mi_funcion():# def para definir la funcion\n",
        "  print('Mi primera función')"
      ]
    },
    {
      "cell_type": "code",
      "source": [
        "print(mi_funcion())"
      ],
      "metadata": {
        "colab": {
          "base_uri": "https://localhost:8080/"
        },
        "id": "80pNjStD9Ha_",
        "outputId": "b99d3f79-f56a-4f9d-86da-1d2da458a1d2"
      },
      "execution_count": null,
      "outputs": [
        {
          "output_type": "stream",
          "name": "stdout",
          "text": [
            "Mi primera función\n",
            "None\n"
          ]
        }
      ]
    },
    {
      "cell_type": "markdown",
      "metadata": {
        "id": "_IY4TzJ4m2k1"
      },
      "source": [
        "\n",
        "Si por alguna razón se requiere declarar un función pero aún no se conocen las instrucciones que ejecutará es posible utilizar la palabra reservada `pass` para evitar generar un error"
      ]
    },
    {
      "cell_type": "code",
      "execution_count": null,
      "metadata": {
        "id": "Kexo0DZ-paDq"
      },
      "outputs": [],
      "source": [
        "def prueba():\n",
        "  pass\n"
      ]
    },
    {
      "cell_type": "code",
      "execution_count": null,
      "metadata": {
        "id": "fq39A6ZtRGSj"
      },
      "outputs": [],
      "source": [
        "prueba()"
      ]
    },
    {
      "cell_type": "markdown",
      "metadata": {
        "id": "9OxYfmIXkPrm"
      },
      "source": [
        "### __Llamar una función__\n",
        "Para llamar a una función debemos utilizar su identificador:\n",
        "\n",
        "- Las funciones se llaman por su nombre seguido de paréntesis.\n",
        "\n",
        "- Si la función tiene parámetros, se pasan dentro de los paréntesis.\n",
        "\n",
        "- Puedes capturar el valor que devuelve una función usando una variable."
      ]
    },
    {
      "cell_type": "code",
      "execution_count": null,
      "metadata": {
        "colab": {
          "base_uri": "https://localhost:8080/"
        },
        "id": "ayGAk1gVkcep",
        "outputId": "9ea6f54e-cce4-4998-d72f-7fd3545dff9e"
      },
      "outputs": [
        {
          "output_type": "stream",
          "name": "stdout",
          "text": [
            "Mi primera función\n"
          ]
        }
      ],
      "source": [
        "mi_funcion()"
      ]
    },
    {
      "cell_type": "markdown",
      "metadata": {
        "id": "a_8an1MKcQt7"
      },
      "source": [
        "Cuando se llama a una función y no se utilizan los parentesis, lo que se hace es pasar una referencia a la función (como si fuera una variable cualquiera). Las funciones en Python son objetos de tipo `callable` que significa que pueden ser ejecutados. Esto significa que estás tratando la función como un objeto, de la misma forma que harías con una variable."
      ]
    },
    {
      "cell_type": "code",
      "execution_count": null,
      "metadata": {
        "colab": {
          "base_uri": "https://localhost:8080/",
          "height": 104
        },
        "id": "jIlRSX-RoRRw",
        "outputId": "f066bc33-5aa6-4ef1-b550-5306d89d6e8d"
      },
      "outputs": [
        {
          "output_type": "execute_result",
          "data": {
            "text/plain": [
              "<function __main__.mi_funcion()>"
            ],
            "text/html": [
              "<div style=\"max-width:800px; border: 1px solid var(--colab-border-color);\"><style>\n",
              "      pre.function-repr-contents {\n",
              "        overflow-x: auto;\n",
              "        padding: 8px 12px;\n",
              "        max-height: 500px;\n",
              "      }\n",
              "\n",
              "      pre.function-repr-contents.function-repr-contents-collapsed {\n",
              "        cursor: pointer;\n",
              "        max-height: 100px;\n",
              "      }\n",
              "    </style>\n",
              "    <pre style=\"white-space: initial; background:\n",
              "         var(--colab-secondary-surface-color); padding: 8px 12px;\n",
              "         border-bottom: 1px solid var(--colab-border-color);\"><b>mi_funcion</b><br/>def mi_funcion()</pre><pre class=\"function-repr-contents function-repr-contents-collapsed\" style=\"\"><a class=\"filepath\" style=\"display:none\" href=\"#\">/content/&lt;ipython-input-1-74373e581401&gt;</a>&lt;no docstring&gt;</pre></div>"
            ]
          },
          "metadata": {},
          "execution_count": 5
        }
      ],
      "source": [
        "mi_funcion"
      ]
    },
    {
      "cell_type": "markdown",
      "metadata": {
        "id": "g1Ua3IgpOJJ7"
      },
      "source": [
        " Se pueden tratar como variables, pasarlas a otras funciones, almacenarlas en listas, entre otras."
      ]
    },
    {
      "cell_type": "code",
      "execution_count": null,
      "metadata": {
        "colab": {
          "base_uri": "https://localhost:8080/"
        },
        "id": "XImEEmIwomcN",
        "outputId": "04a14b21-fb90-4f37-9f93-2c433e7a3ab7"
      },
      "outputs": [
        {
          "output_type": "stream",
          "name": "stdout",
          "text": [
            "Mi primera función\n"
          ]
        }
      ],
      "source": [
        "a = mi_funcion\n",
        "a()\n",
        "\n"
      ]
    },
    {
      "cell_type": "markdown",
      "metadata": {
        "id": "zhhRUK6lD6BU"
      },
      "source": [
        "### __Retorno de valores__\n",
        "\n",
        "El retorno de una función es el resultado que esa función envía de vuelta al código que la llamó. Para hacer esto, usamos la palabra clave return.,\n",
        "Cuando una función llega a un return, su ejecución termina, y el valor especificado después de return es devuelto al programa."
      ]
    },
    {
      "cell_type": "code",
      "execution_count": null,
      "metadata": {
        "id": "PBeW41xIOJJ8",
        "colab": {
          "base_uri": "https://localhost:8080/"
        },
        "outputId": "8d0fb1d8-3291-4c32-bb62-6e416295947e"
      },
      "outputs": [
        {
          "output_type": "execute_result",
          "data": {
            "text/plain": [
              "6"
            ]
          },
          "metadata": {},
          "execution_count": 6
        }
      ],
      "source": [
        "def nombre_funcion(parametro):\n",
        "    resultado = parametro * 2\n",
        "    return resultado\n",
        "\n",
        "\n",
        "nombre_funcion(3)\n"
      ]
    },
    {
      "cell_type": "code",
      "execution_count": null,
      "metadata": {
        "id": "_thwV3xBOJJ8",
        "outputId": "ca4f0d75-9091-4697-c9a9-d11ed697a3b8",
        "colab": {
          "base_uri": "https://localhost:8080/"
        }
      },
      "outputs": [
        {
          "output_type": "stream",
          "name": "stdout",
          "text": [
            "El cuadrado de 4 es: 16\n"
          ]
        }
      ],
      "source": [
        "def cuadrado(numero):\n",
        "    return numero ** 2\n",
        "\n",
        "\n",
        "\n",
        "\n",
        "resultado = cuadrado(4)  # La función devuelve 16, ese valor se guarda en la variable resultado y se imprime.\n",
        "print(\"El cuadrado de 4 es:\", resultado)"
      ]
    },
    {
      "cell_type": "markdown",
      "metadata": {
        "id": "XNIn_dJOOJJ9"
      },
      "source": [
        "Si una función no tiene un return, por defecto devuelve None."
      ]
    },
    {
      "cell_type": "code",
      "execution_count": null,
      "metadata": {
        "id": "sYsinOOVOJJ9",
        "outputId": "572a06c1-337d-441b-c49d-7b637d212ba9",
        "colab": {
          "base_uri": "https://localhost:8080/"
        }
      },
      "outputs": [
        {
          "output_type": "stream",
          "name": "stdout",
          "text": [
            "Hola\n",
            "Resultado: None\n"
          ]
        }
      ],
      "source": [
        "def sin_retorno():\n",
        "    print(\"Hola\")\n",
        "\n",
        "resultado = sin_retorno()\n",
        "print(\"Resultado:\", resultado)\n"
      ]
    },
    {
      "cell_type": "code",
      "execution_count": null,
      "metadata": {
        "colab": {
          "base_uri": "https://localhost:8080/"
        },
        "id": "nQky_OusE4IC",
        "outputId": "2222ba12-5c38-428c-d679-dbd2bbfb1ed0"
      },
      "outputs": [
        {
          "output_type": "stream",
          "name": "stdout",
          "text": [
            "Aprendamos Python\n",
            "Esto es una valor retornado por la función\n"
          ]
        }
      ],
      "source": [
        "def prueba():\n",
        "  print(\"Aprendamos Python\")\n",
        "\n",
        "  return 'Esto es una valor retornado por la función'\n",
        "\n",
        "val = prueba()\n",
        "print(val)"
      ]
    },
    {
      "cell_type": "markdown",
      "metadata": {
        "id": "GfWazRSiLAvj"
      },
      "source": [
        "Los valores retornados se tratan como un valor del tipo de dato retornado"
      ]
    },
    {
      "cell_type": "code",
      "execution_count": null,
      "metadata": {
        "colab": {
          "base_uri": "https://localhost:8080/"
        },
        "id": "-Zh-Y6zoLHUk",
        "outputId": "f28da022-c7b0-4b89-8f67-42ecb9ac4c05"
      },
      "outputs": [
        {
          "output_type": "stream",
          "name": "stdout",
          "text": [
            "Segunda prueba\n",
            "Esto es una valor retornado por la función y un String adicional\n"
          ]
        }
      ],
      "source": [
        "def prueba():\n",
        "  print(\"Segunda prueba\")\n",
        "  return 'Esto es una valor retornado por la función'\n",
        "\n",
        "val = prueba() + ' y un String adicional'\n",
        "print(val)"
      ]
    },
    {
      "cell_type": "code",
      "execution_count": null,
      "metadata": {
        "colab": {
          "base_uri": "https://localhost:8080/",
          "height": 36
        },
        "id": "6bb36S99oQ4s",
        "outputId": "cc3fb887-f6e2-44d0-ea64-6f9d27093f69"
      },
      "outputs": [
        {
          "data": {
            "text/plain": [
              "'Esto es una valor retornado por la función y un String adicional'"
            ]
          },
          "execution_count": 17,
          "metadata": {},
          "output_type": "execute_result"
        }
      ],
      "source": [
        "val"
      ]
    },
    {
      "cell_type": "markdown",
      "metadata": {
        "id": "KR4C3sB7jXFZ"
      },
      "source": [
        "En Python, cuando se devuelven múltiples valores, automáticamente se empaquetan en una tupla. Podemos realizar el desempaquetamiento de los valores que retorna la función si lo consideramos conveniente"
      ]
    },
    {
      "cell_type": "code",
      "execution_count": null,
      "metadata": {
        "colab": {
          "base_uri": "https://localhost:8080/"
        },
        "id": "qs1He8_WPW2a",
        "outputId": "02e5f48e-e34d-42e0-cd9f-38c94215f9fc"
      },
      "outputs": [
        {
          "output_type": "stream",
          "name": "stdout",
          "text": [
            "(7.0, -3.0, 10.0)\n",
            "\n",
            " La suma es: 7.0, \n",
            " La resta es:  -3.0,\n",
            " El producto es: 10.0\n"
          ]
        }
      ],
      "source": [
        "def operaciones():\n",
        "  a = 2.0\n",
        "  b = 5.0\n",
        "  return a + b, a - b, a * b\n",
        "\n",
        "(suma, resta, producto) = operaciones()\n",
        "\n",
        "print(operaciones()) #Tupla\n",
        "print(f\"\\n La suma es: {suma}, \\n La resta es:  {resta},\\n El producto es: {producto}\") #Variables"
      ]
    },
    {
      "cell_type": "markdown",
      "metadata": {
        "id": "BPo_CByFOJKC"
      },
      "source": [
        "Aquí estás desempaquetando los valores devueltos por la función en tres variables:\n",
        "\n",
        "- suma toma el primer valor (a + b)\n",
        "- resta toma el segundo valor (a - b)\n",
        "- producto toma el tercer valor (a * b)"
      ]
    },
    {
      "cell_type": "markdown",
      "metadata": {
        "id": "GbASARC9rsdF"
      },
      "source": [
        "### __Docstrings__\n",
        "\n",
        "Las `docstrings` son cadena de caracteres que aparecen justo después de la definición de una función, método, clase o módulo. Sirven como parte de la documentación de nuestros programas"
      ]
    },
    {
      "cell_type": "code",
      "execution_count": null,
      "metadata": {
        "id": "lPiBp13NOJKC"
      },
      "outputs": [],
      "source": [
        "def nombre_funcion(parametro1, parametro2):\n",
        "    \"\"\"\n",
        "    Explicación breve de lo que hace la función.\n",
        "\n",
        "    Parámetros:\n",
        "    parametro1 (tipo): Descripción del primer parámetro.\n",
        "    parametro2 (tipo): Descripción del segundo parámetro.\n",
        "\n",
        "    Retorna:\n",
        "    tipo: Descripción del valor retornado.\n",
        "    \"\"\"\n",
        "    # Bloque de código\n",
        "    pass"
      ]
    },
    {
      "cell_type": "code",
      "execution_count": null,
      "metadata": {
        "id": "IK5panhevP0Q"
      },
      "outputs": [],
      "source": [
        "def mi_funcion():\n",
        "  '''Este es un ejemplo de docstring para Python'''\n",
        "  print('Mi primera función')\n"
      ]
    },
    {
      "cell_type": "code",
      "execution_count": null,
      "metadata": {
        "colab": {
          "base_uri": "https://localhost:8080/"
        },
        "id": "gYwcdcBM4una",
        "outputId": "f6fd9ede-820e-4fe9-e5f3-cd43c9abd1e2"
      },
      "outputs": [
        {
          "output_type": "stream",
          "name": "stdout",
          "text": [
            "Mi primera función\n"
          ]
        }
      ],
      "source": [
        "mi_funcion()"
      ]
    },
    {
      "cell_type": "code",
      "execution_count": null,
      "metadata": {
        "id": "aK-7K1BiSZej"
      },
      "outputs": [],
      "source": [
        "def saludar():\n",
        "  '''\n",
        "  La funcion lo que hace es saludar al usuario\n",
        "  input:  El nombre del usuario, sexo, edad\n",
        "  output: La salida esperada de la fucion.\n",
        "  '''\n",
        "  print('Mi primera función')"
      ]
    },
    {
      "cell_type": "markdown",
      "metadata": {
        "id": "n8EYFXVT6DgU"
      },
      "source": [
        "Podemos acceder a los `docstrings` de una función a través del método mágico `__doc__`"
      ]
    },
    {
      "cell_type": "markdown",
      "metadata": {
        "id": "klA01Io4OJKF"
      },
      "source": [
        "Se puede visualizar la infomacion a traves del .__doc__, sin embargo, se mostarta un mensaje con la cadena de texto tal cual fue referenciado dentro de las comillas triples"
      ]
    },
    {
      "cell_type": "code",
      "execution_count": null,
      "metadata": {
        "colab": {
          "base_uri": "https://localhost:8080/",
          "height": 35
        },
        "id": "eD60HnrlOJKF",
        "outputId": "0d713c15-d164-43c4-d3ec-b4543bbe10b9"
      },
      "outputs": [
        {
          "output_type": "execute_result",
          "data": {
            "text/plain": [
              "'\\n  La funcion lo que hace es saludar al usuario\\n  input:  El nombre del usuario, sexo, edad\\n  output: La salida esperada de la fucion.\\n  '"
            ],
            "application/vnd.google.colaboratory.intrinsic+json": {
              "type": "string"
            }
          },
          "metadata": {},
          "execution_count": 23
        }
      ],
      "source": [
        "saludar.__doc__"
      ]
    },
    {
      "cell_type": "markdown",
      "metadata": {
        "id": "_F6MEWuiOJKF"
      },
      "source": [
        "Al acceder a traves del print se siguen los estilos indicados a la hora de referenciarlo"
      ]
    },
    {
      "cell_type": "code",
      "execution_count": null,
      "metadata": {
        "colab": {
          "base_uri": "https://localhost:8080/"
        },
        "id": "S20ZtrrV62E6",
        "outputId": "f51739d2-b521-4340-8609-4de1a36957dd"
      },
      "outputs": [
        {
          "output_type": "stream",
          "name": "stdout",
          "text": [
            "\n",
            "  La funcion lo que hace es saludar al usuario\n",
            "  input:  El nombre del usuario, sexo, edad\n",
            "  output: La salida esperada de la fucion.\n",
            "  \n"
          ]
        }
      ],
      "source": [
        "print(saludar.__doc__)"
      ]
    },
    {
      "cell_type": "markdown",
      "metadata": {
        "id": "e-uH2jlg7Nco"
      },
      "source": [
        "También podemos acceder"
      ]
    },
    {
      "cell_type": "code",
      "execution_count": null,
      "metadata": {
        "colab": {
          "base_uri": "https://localhost:8080/"
        },
        "id": "Wb8xRS7k7Bq0",
        "outputId": "66d894f2-7277-43f9-939d-1ac9557559e0"
      },
      "outputs": [
        {
          "output_type": "stream",
          "name": "stdout",
          "text": [
            "Help on function mi_funcion in module __main__:\n",
            "\n",
            "mi_funcion()\n",
            "    Este es un ejemplo de docstring para Python\n",
            "\n"
          ]
        }
      ],
      "source": [
        "help(mi_funcion)"
      ]
    },
    {
      "cell_type": "markdown",
      "metadata": {
        "id": "Jz2RhNdmccsa"
      },
      "source": [
        "## __Argumentos__\n",
        "\n",
        "Los argumentos (o parámetros) hacen referencia al conjunto de variables que se pasa a una función para que esta pueda ejecutarse"
      ]
    },
    {
      "cell_type": "code",
      "execution_count": null,
      "metadata": {
        "id": "Wdc0sjZH8Adh"
      },
      "outputs": [],
      "source": [
        "def saludar(nombre, apellido):\n",
        "  print(f'¡Hola, {nombre} {apellido}!')\n",
        "\n"
      ]
    },
    {
      "cell_type": "code",
      "execution_count": null,
      "metadata": {
        "colab": {
          "base_uri": "https://localhost:8080/"
        },
        "id": "O0P321FnTovq",
        "outputId": "202822a2-77c8-47e5-884d-ac0681087190"
      },
      "outputs": [
        {
          "output_type": "stream",
          "name": "stdout",
          "text": [
            "¡Hola, Lizeth Moreno!\n"
          ]
        }
      ],
      "source": [
        "saludar('Lizeth',\"Moreno\")"
      ]
    },
    {
      "cell_type": "markdown",
      "metadata": {
        "id": "6ZGFYNx08juZ"
      },
      "source": [
        "Al llamar una función se deben especificar el número correcto de argumentos, de lo contrario se generará un error."
      ]
    },
    {
      "cell_type": "code",
      "execution_count": null,
      "metadata": {
        "colab": {
          "base_uri": "https://localhost:8080/"
        },
        "id": "GBolO_Gc8wfg",
        "outputId": "ff5dc6ab-ee11-492a-dcd9-df0521739add"
      },
      "outputs": [
        {
          "output_type": "stream",
          "name": "stdout",
          "text": [
            "¡Hola, Pedro !\n"
          ]
        }
      ],
      "source": [
        "saludar('Pedro',\"\")"
      ]
    },
    {
      "cell_type": "markdown",
      "metadata": {
        "id": "WPqa_fXb_t2s"
      },
      "source": [
        "### __Argumentos por valor y por referencia__\n",
        "\n",
        "Según el tipo de dato que pasemos a una función podemos diferenciar dos comportamientos:\n",
        "\n",
        "* __Paso por valor__: crea una copia de la variable dentro de la función.\n",
        "* __Paso por referencia__: se maneja directamente la variable; los cambios realizados dentro de la función se conservarán por fuera de la función\n",
        "\n",
        "En general, los tipos simples se pasan por valor: enteros, flotantes, cadenasy booleanos."
      ]
    },
    {
      "cell_type": "code",
      "execution_count": null,
      "metadata": {
        "colab": {
          "base_uri": "https://localhost:8080/"
        },
        "id": "0WfcCiF3_hgm",
        "outputId": "710bcf58-1fcf-4a8e-b57a-b83203ef11c9"
      },
      "outputs": [
        {
          "output_type": "stream",
          "name": "stdout",
          "text": [
            "Al interior de la función: 60\n",
            "Fuera de la función: 30\n"
          ]
        }
      ],
      "source": [
        "def duplicar(numero):\n",
        "    numero += numero\n",
        "    print('Al interior de la función:', numero)\n",
        "\n",
        "numero = 30\n",
        "duplicar(numero)\n",
        "print('Fuera de la función:', numero)"
      ]
    },
    {
      "cell_type": "markdown",
      "metadata": {
        "id": "YtArBPJCDk2_"
      },
      "source": [
        "Para modificar los tipos simples podemos reasignarlos:"
      ]
    },
    {
      "cell_type": "code",
      "execution_count": null,
      "metadata": {
        "colab": {
          "base_uri": "https://localhost:8080/"
        },
        "id": "bB4kH46uVTLr",
        "outputId": "6d25ce13-6339-4e5a-aa6a-b4ac0f34d38d"
      },
      "outputs": [
        {
          "output_type": "stream",
          "name": "stdout",
          "text": [
            "30\n"
          ]
        }
      ],
      "source": [
        "print(numero)"
      ]
    },
    {
      "cell_type": "code",
      "execution_count": null,
      "metadata": {
        "colab": {
          "base_uri": "https://localhost:8080/"
        },
        "id": "j-QYklDgDtKe",
        "outputId": "975f39e5-ebaa-4512-9d23-53b5d8487dd4"
      },
      "outputs": [
        {
          "output_type": "stream",
          "name": "stdout",
          "text": [
            "960\n"
          ]
        }
      ],
      "source": [
        "def duplicar(numero):\n",
        "    numero += numero\n",
        "    return numero\n",
        "\n",
        "\n",
        "numero = duplicar(numero)\n",
        "print(numero)\n"
      ]
    },
    {
      "cell_type": "markdown",
      "metadata": {
        "id": "zelX9XiOgWWW"
      },
      "source": [
        "### __Alcance local y alcance global__\n",
        "\n",
        "El alcance de una variable determina dónde puede ser accedida y utilizada en el código. Las variables pueden tener un alcance local o alcance global, dependiendo de dónde se declaren.\n",
        "\n",
        "![difference-between-local-and-global-variable-in-python-thumbnail.webp](data:image/webp;base64,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)\n",
        "\n",
        "https://www.scaler.com/topics/images/difference-between-local-and-global-variable-in-python-thumbnail.webp\n",
        "\n",
        "1. Variables Globales\n",
        "Son variables declaradas fuera de cualquier función.\n",
        "Estas variables pueden ser utilizadas y accedidas desde cualquier parte del código, tanto dentro como fuera de funciones.\n",
        "\n",
        "2. Variables Locales\n",
        "Son variables declaradas dentro de una función.\n",
        "Solo pueden ser utilizadas dentro de esa función específica y dejan de existir una vez que la función termina."
      ]
    },
    {
      "cell_type": "code",
      "execution_count": null,
      "metadata": {
        "colab": {
          "base_uri": "https://localhost:8080/"
        },
        "id": "7nRO8Fk2QkCD",
        "outputId": "12885009-011b-461b-f035-5bd9f71c99a3"
      },
      "outputs": [
        {
          "output_type": "stream",
          "name": "stdout",
          "text": [
            "Hola desde fuera de la función\n"
          ]
        }
      ],
      "source": [
        "mensaje = \"Hola desde fuera de la función\"  # Variable global\n",
        "\n",
        "def mostrar_mensaje():\n",
        "    print(mensaje)  # Se accede a la variable global dentro de la función\n",
        "\n",
        "mostrar_mensaje()\n"
      ]
    },
    {
      "cell_type": "markdown",
      "metadata": {
        "id": "tCUaLOBFQ5Mq"
      },
      "source": [
        "Si definimos una variable con el mismo nombre al interior de una función esta imprimirá el valor definido en su interior y no el de la variable global"
      ]
    },
    {
      "cell_type": "code",
      "execution_count": null,
      "metadata": {
        "colab": {
          "base_uri": "https://localhost:8080/"
        },
        "id": "Rjs-7oXkRGiM",
        "outputId": "f3a65caf-1586-4f14-e684-1a3cc0ab7eb5"
      },
      "outputs": [
        {
          "output_type": "stream",
          "name": "stdout",
          "text": [
            "Otra cadena\n",
            "Esta cadena sirve para el ejemplo\n"
          ]
        }
      ],
      "source": [
        "s = 'Esta cadena sirve para el ejemplo' # alcance global\n",
        "\n",
        "def imprimir():\n",
        "    s = 'Otra cadena' # alcance local\n",
        "    print(s)\n",
        "\n",
        "imprimir()\n",
        "print(s)"
      ]
    },
    {
      "cell_type": "code",
      "execution_count": null,
      "metadata": {
        "colab": {
          "base_uri": "https://localhost:8080/",
          "height": 332
        },
        "id": "6QT5CVKqRlLa",
        "outputId": "f5a55ffd-a3e5-4214-cf60-4e92b42fe2e0"
      },
      "outputs": [
        {
          "output_type": "error",
          "ename": "UnboundLocalError",
          "evalue": "cannot access local variable 's' where it is not associated with a value",
          "traceback": [
            "\u001b[0;31m---------------------------------------------------------------------------\u001b[0m",
            "\u001b[0;31mUnboundLocalError\u001b[0m                         Traceback (most recent call last)",
            "\u001b[0;32m<ipython-input-5-8942bb350133>\u001b[0m in \u001b[0;36m<cell line: 0>\u001b[0;34m()\u001b[0m\n\u001b[1;32m      8\u001b[0m \u001b[0;34m\u001b[0m\u001b[0m\n\u001b[1;32m      9\u001b[0m \u001b[0ms\u001b[0m \u001b[0;34m=\u001b[0m \u001b[0;34m'Esta cadena sirve para el ejemplo'\u001b[0m\u001b[0;34m\u001b[0m\u001b[0;34m\u001b[0m\u001b[0m\n\u001b[0;32m---> 10\u001b[0;31m \u001b[0mimprimir\u001b[0m\u001b[0;34m(\u001b[0m\u001b[0;34m)\u001b[0m\u001b[0;34m\u001b[0m\u001b[0;34m\u001b[0m\u001b[0m\n\u001b[0m\u001b[1;32m     11\u001b[0m \u001b[0mprint\u001b[0m\u001b[0;34m(\u001b[0m\u001b[0ms\u001b[0m\u001b[0;34m)\u001b[0m\u001b[0;34m\u001b[0m\u001b[0;34m\u001b[0m\u001b[0m\n",
            "\u001b[0;32m<ipython-input-5-8942bb350133>\u001b[0m in \u001b[0;36mimprimir\u001b[0;34m()\u001b[0m\n\u001b[1;32m      1\u001b[0m \u001b[0;32mdef\u001b[0m \u001b[0mimprimir\u001b[0m\u001b[0;34m(\u001b[0m\u001b[0;34m)\u001b[0m\u001b[0;34m:\u001b[0m\u001b[0;34m\u001b[0m\u001b[0;34m\u001b[0m\u001b[0m\n\u001b[0;32m----> 2\u001b[0;31m     \u001b[0mprint\u001b[0m\u001b[0;34m(\u001b[0m\u001b[0ms\u001b[0m\u001b[0;34m)\u001b[0m\u001b[0;34m\u001b[0m\u001b[0;34m\u001b[0m\u001b[0m\n\u001b[0m\u001b[1;32m      3\u001b[0m \u001b[0;34m\u001b[0m\u001b[0m\n\u001b[1;32m      4\u001b[0m     \u001b[0;31m# El programa nos mostrará un ERROR\u001b[0m\u001b[0;34m\u001b[0m\u001b[0;34m\u001b[0m\u001b[0m\n\u001b[1;32m      5\u001b[0m     \u001b[0ms\u001b[0m \u001b[0;34m=\u001b[0m \u001b[0;34m\"Otra cadena\"\u001b[0m\u001b[0;34m\u001b[0m\u001b[0;34m\u001b[0m\u001b[0m\n",
            "\u001b[0;31mUnboundLocalError\u001b[0m: cannot access local variable 's' where it is not associated with a value"
          ]
        }
      ],
      "source": [
        "def imprimir():\n",
        "    print(s)\n",
        "\n",
        "    # El programa nos mostrará un ERROR\n",
        "    s = \"Otra cadena\"\n",
        "\n",
        "    print(s)\n",
        "\n",
        "s = 'Esta cadena sirve para el ejemplo'\n",
        "imprimir()\n",
        "print(s)"
      ]
    },
    {
      "cell_type": "markdown",
      "metadata": {
        "id": "0c1fGsDYWqEc"
      },
      "source": [
        "Podemos usar la palabra reservada `global` si queremos hacer referencia a una variable globlal al interior de una función"
      ]
    },
    {
      "cell_type": "code",
      "execution_count": null,
      "metadata": {
        "colab": {
          "base_uri": "https://localhost:8080/"
        },
        "id": "8j8QF0YuRlC9",
        "outputId": "8c46ed83-19e4-46a3-93c0-5c60972336b3"
      },
      "outputs": [
        {
          "output_type": "stream",
          "name": "stdout",
          "text": [
            "Variable global\n"
          ]
        }
      ],
      "source": [
        "def imprimir():\n",
        "    global s\n",
        "    s = 'Variable global'\n",
        "\n",
        "#imprimir()\n",
        "print(s)"
      ]
    },
    {
      "cell_type": "markdown",
      "metadata": {
        "id": "C5I2fWnZXCk1"
      },
      "source": [
        "También la podemos utilizar para crear variables globales al interior de una función."
      ]
    },
    {
      "cell_type": "code",
      "execution_count": null,
      "metadata": {
        "colab": {
          "base_uri": "https://localhost:8080/"
        },
        "id": "y91vq82qXfVo",
        "outputId": "a550aaaa-b26f-40b0-a16e-9a7522c6a1ab"
      },
      "outputs": [
        {
          "output_type": "stream",
          "name": "stdout",
          "text": [
            "Esta cadena sirve para el ejemplo\n",
            "Esta cadena sirve para el ejemplo\n"
          ]
        }
      ],
      "source": [
        "def imprimir():\n",
        "    global s\n",
        "    s = 'Esta cadena sirve para el ejemplo'\n",
        "    print(s)\n",
        "\n",
        "imprimir()\n",
        "print(s)"
      ]
    },
    {
      "cell_type": "markdown",
      "metadata": {
        "id": "PnIW3P8mcnwW"
      },
      "source": [
        "### __Argumentos por defecto__\n",
        "\n",
        "Podemos generar funciones con argumentos por defecto asignando a los argumentos un identificador"
      ]
    },
    {
      "cell_type": "code",
      "execution_count": null,
      "metadata": {
        "id": "DjWbPrq4513F",
        "colab": {
          "base_uri": "https://localhost:8080/"
        },
        "outputId": "0aaba0e2-217a-49e6-ca05-9f21561a3739"
      },
      "outputs": [
        {
          "output_type": "stream",
          "name": "stdout",
          "text": [
            "8\n"
          ]
        }
      ],
      "source": [
        "def perimetro_rectangulo(altura=1, base=1):\n",
        "  perimetro = 2 * base  + 2 * altura\n",
        "  return perimetro\n",
        "\n",
        "#print(perimetro_rectangulo())\n",
        "#print(perimetro_rectangulo(2,3))\n",
        "print(perimetro_rectangulo(base=3))\n",
        "#print(perimetro_rectangulo(altura=3))\n",
        "#print(perimetro_rectangulo(altura=5, base=5))\n",
        "#print(perimetro_rectangulo(base=5,altura=5))"
      ]
    },
    {
      "cell_type": "markdown",
      "metadata": {
        "id": "9imisG8tUv1W"
      },
      "source": [
        "Podemos combinar argumentos por valor y aquellos que usan un identificador. La única condición es que los argumentos con valor siempre deben ir al principio"
      ]
    },
    {
      "cell_type": "code",
      "execution_count": null,
      "metadata": {
        "colab": {
          "base_uri": "https://localhost:8080/",
          "height": 245
        },
        "id": "GhjhemSVU9n8",
        "outputId": "1b38d969-2a27-479a-f62f-1fec3c2b0403"
      },
      "outputs": [
        {
          "output_type": "stream",
          "name": "stdout",
          "text": [
            "Hola, soy juan de Colombia\n",
            "Hola, soy María de Argentina\n"
          ]
        },
        {
          "output_type": "error",
          "ename": "TypeError",
          "evalue": "saludo() missing 1 required positional argument: 'nombre'",
          "traceback": [
            "\u001b[0;31m---------------------------------------------------------------------------\u001b[0m",
            "\u001b[0;31mTypeError\u001b[0m                                 Traceback (most recent call last)",
            "\u001b[0;32m<ipython-input-19-118c51b5fcce>\u001b[0m in \u001b[0;36m<cell line: 0>\u001b[0;34m()\u001b[0m\n\u001b[1;32m      4\u001b[0m \u001b[0msaludo\u001b[0m\u001b[0;34m(\u001b[0m\u001b[0;34m'juan'\u001b[0m\u001b[0;34m)\u001b[0m\u001b[0;34m\u001b[0m\u001b[0;34m\u001b[0m\u001b[0m\n\u001b[1;32m      5\u001b[0m \u001b[0msaludo\u001b[0m\u001b[0;34m(\u001b[0m\u001b[0;34m'María'\u001b[0m\u001b[0;34m,\u001b[0m \u001b[0;34m'Argentina'\u001b[0m\u001b[0;34m)\u001b[0m\u001b[0;34m\u001b[0m\u001b[0;34m\u001b[0m\u001b[0m\n\u001b[0;32m----> 6\u001b[0;31m \u001b[0msaludo\u001b[0m\u001b[0;34m(\u001b[0m\u001b[0mpais\u001b[0m\u001b[0;34m=\u001b[0m\u001b[0;34m'México'\u001b[0m\u001b[0;34m)\u001b[0m\u001b[0;34m\u001b[0m\u001b[0;34m\u001b[0m\u001b[0m\n\u001b[0m\u001b[1;32m      7\u001b[0m \u001b[0;34m\u001b[0m\u001b[0m\n\u001b[1;32m      8\u001b[0m \u001b[0;34m\u001b[0m\u001b[0m\n",
            "\u001b[0;31mTypeError\u001b[0m: saludo() missing 1 required positional argument: 'nombre'"
          ]
        }
      ],
      "source": [
        "def saludo(nombre, pais = 'Colombia'):\n",
        "  print(f'Hola, soy {nombre} de {pais}')\n",
        "\n",
        "saludo('juan')\n",
        "saludo('María', 'Argentina')\n",
        "saludo('Luis', pais='México')\n",
        "\n",
        "\n",
        "#saludo(pais='México') #Falta un argumento\n",
        "\n"
      ]
    },
    {
      "cell_type": "markdown",
      "metadata": {
        "id": "v2Olj8MAV5Ch"
      },
      "source": [
        "Debemos recordar que los argumentos por valor son obligatorios. Si hacemos un llamado a una función sin el argumento con valor se generará un error"
      ]
    },
    {
      "cell_type": "markdown",
      "metadata": {
        "id": "MWd6nsV0cnt5"
      },
      "source": [
        "## __Funciones anidadas__\n",
        "Python, al igual que la mayoría de lenguajes de programación permite crear funciones anidadas (una función dentro de otra función). Es posible utilizar las funciones anidadas para esconder la función interna del mundo exterior e implementar la encapsulación de datos.\n"
      ]
    },
    {
      "cell_type": "code",
      "execution_count": null,
      "metadata": {
        "colab": {
          "base_uri": "https://localhost:8080/"
        },
        "id": "_hmTRkTCtBLm",
        "outputId": "8a650386-fb11-427e-bcfb-ce57f9fe143f"
      },
      "outputs": [
        {
          "output_type": "stream",
          "name": "stdout",
          "text": [
            "funcion interna: 2 prueba1\n",
            "funcion interna: 2 prueba2\n",
            "funcion interna: 2 prueba3\n"
          ]
        }
      ],
      "source": [
        "def funcion_externa():\n",
        "   valor = 2\n",
        "\n",
        "   def funcion_interna(valor, cadena):\n",
        "       print('funcion interna:', valor, cadena)\n",
        "\n",
        "   funcion_interna(valor, 'prueba1')\n",
        "   funcion_interna(valor, 'prueba2')\n",
        "   funcion_interna(valor, 'prueba3')\n",
        "\n",
        "funcion_externa()\n"
      ]
    },
    {
      "cell_type": "markdown",
      "metadata": {
        "id": "aA9XLcxxvsLl"
      },
      "source": [
        "Las funciones internas pueden acceder a las variables de la función externa (variables no locales)."
      ]
    },
    {
      "cell_type": "code",
      "execution_count": null,
      "metadata": {
        "id": "k-1kuNakvry3"
      },
      "outputs": [],
      "source": [
        "def funcion_externa():\n",
        "  valor = 1\n",
        "  def funcion_interna(valor, cadena):\n",
        "    valor += 1\n",
        "    print('funcion interna:', valor, cadena)\n",
        "\n",
        "  funcion_interna(valor, 'prueba1')\n",
        "  funcion_interna(valor, 'prueba2')\n",
        "  print('funcion externa:', valor)\n"
      ]
    },
    {
      "cell_type": "code",
      "source": [
        "funcion_externa()"
      ],
      "metadata": {
        "id": "-mCoGWiQA2A-",
        "colab": {
          "base_uri": "https://localhost:8080/"
        },
        "outputId": "98be9418-e39b-4416-e2d6-43548d27375c"
      },
      "execution_count": null,
      "outputs": [
        {
          "output_type": "stream",
          "name": "stdout",
          "text": [
            "funcion interna: 2 prueba1\n",
            "funcion interna: 2 prueba2\n",
            "funcion externa: 1\n"
          ]
        }
      ]
    },
    {
      "cell_type": "markdown",
      "metadata": {
        "id": "aiYjdMPP0FL4"
      },
      "source": [
        "Si necesitamos modicar las variables de la función externa debemos utilizar la palabra reservada `nonlocal`"
      ]
    },
    {
      "cell_type": "code",
      "execution_count": null,
      "metadata": {
        "colab": {
          "base_uri": "https://localhost:8080/"
        },
        "id": "zETifTMu0Eso",
        "outputId": "46e0e44a-e537-46b6-ba03-96077ea00787"
      },
      "outputs": [
        {
          "output_type": "stream",
          "name": "stdout",
          "text": [
            "1 prueba1\n",
            "2 prueba2\n",
            "funcion externa: 2\n"
          ]
        }
      ],
      "source": [
        "def funcion_externa():\n",
        "  valor = 0\n",
        "  def funcion_interna(cadena):\n",
        "    nonlocal valor # nonlocal, palabra reservada del sistema, hace referencia a las variables no globales\n",
        "    valor += 1\n",
        "    print(valor, cadena)\n",
        "\n",
        "  funcion_interna('prueba1')\n",
        "  funcion_interna('prueba2')\n",
        "  print('funcion externa:', valor)\n",
        "\n",
        "funcion_externa()"
      ]
    },
    {
      "cell_type": "code",
      "source": [
        "def dime_tu_nombre():\n",
        "    nombre = input(\"¿Cuál es tu nombre? \")\n",
        "    return nombre\n",
        "\n",
        "def dime_tu_apellido():\n",
        "    apellido = input(\"¿Cuál es tu apellido? \")\n",
        "    return apellido\n",
        "\n",
        "def nombre_completo():\n",
        "    nombre = dime_tu_nombre()\n",
        "    apellido = dime_tu_apellido()\n",
        "    print(f\"Tu nombre completo es: {nombre} {apellido}\")\n",
        "\n",
        "nombre_completo()"
      ],
      "metadata": {
        "colab": {
          "base_uri": "https://localhost:8080/",
          "height": 193
        },
        "id": "z6gETs21-QOJ",
        "outputId": "df30d873-b4d3-4a54-ce57-70714cd2cdec"
      },
      "execution_count": null,
      "outputs": [
        {
          "name": "stdout",
          "output_type": "stream",
          "text": [
            "¿Cuál es tu nombre? liz\n"
          ]
        },
        {
          "output_type": "error",
          "ename": "NameError",
          "evalue": "name 'nombre' is not defined",
          "traceback": [
            "\u001b[0;31m---------------------------------------------------------------------------\u001b[0m",
            "\u001b[0;31mNameError\u001b[0m                                 Traceback (most recent call last)",
            "\u001b[0;32m<ipython-input-3-0e5a9d33302d>\u001b[0m in \u001b[0;36m<cell line: 0>\u001b[0;34m()\u001b[0m\n\u001b[1;32m      3\u001b[0m     \u001b[0;32mreturn\u001b[0m \u001b[0mnombre\u001b[0m\u001b[0;34m\u001b[0m\u001b[0;34m\u001b[0m\u001b[0m\n\u001b[1;32m      4\u001b[0m \u001b[0mdime_tu_nombre\u001b[0m\u001b[0;34m(\u001b[0m\u001b[0;34m)\u001b[0m\u001b[0;34m\u001b[0m\u001b[0;34m\u001b[0m\u001b[0m\n\u001b[0;32m----> 5\u001b[0;31m \u001b[0mprint\u001b[0m\u001b[0;34m(\u001b[0m\u001b[0mnombre\u001b[0m\u001b[0;34m)\u001b[0m\u001b[0;34m\u001b[0m\u001b[0;34m\u001b[0m\u001b[0m\n\u001b[0m",
            "\u001b[0;31mNameError\u001b[0m: name 'nombre' is not defined"
          ]
        }
      ]
    },
    {
      "cell_type": "code",
      "source": [
        "def nombre_completo():\n",
        "    nombre = input(\"¿Cuál es tu nombre? \")\n",
        "    apellido = input(\"¿Cuál es tu apellido? \")\n",
        "    print(f\"Tu nombre completo es: {nombre} {apellido}\")\n",
        "\n",
        "nombre_completo()\n"
      ],
      "metadata": {
        "colab": {
          "base_uri": "https://localhost:8080/"
        },
        "id": "9m1N7M7Z-jBH",
        "outputId": "535482cf-cba2-45ab-fd4a-a3270fb1684e"
      },
      "execution_count": null,
      "outputs": [
        {
          "output_type": "stream",
          "name": "stdout",
          "text": [
            "¿Cuál es tu nombre? l\n",
            "¿Cuál es tu apellido? m\n",
            "Tu nombre completo es: l m\n"
          ]
        }
      ]
    },
    {
      "cell_type": "markdown",
      "metadata": {
        "id": "49ytpVi5sBRy"
      },
      "source": [
        "## __Funciones recursivas__\n",
        "\n",
        "Las funciones recursivas son aquellas que se llaman a si mismas durante su proceso de ejecución. Un ejemplo típico es el cálculo del factorial"
      ]
    },
    {
      "cell_type": "code",
      "execution_count": null,
      "metadata": {
        "colab": {
          "base_uri": "https://localhost:8080/"
        },
        "id": "ATqoNo0v7wI1",
        "outputId": "d0304485-5fd4-4541-ce81-97ff58bace4c"
      },
      "outputs": [
        {
          "output_type": "stream",
          "name": "stdout",
          "text": [
            "24\n"
          ]
        }
      ],
      "source": [
        "def factorial(n):\n",
        "  if n==1 :\n",
        "    return 1\n",
        "\n",
        "  return n * factorial(n - 1)\n",
        "\n",
        "\n",
        "print(factorial(4))"
      ]
    },
    {
      "cell_type": "code",
      "source": [
        "def otro_factorial(n):\n",
        "  return 1 if n == 1 else n * factorial(n - 1)\n",
        "\n",
        "\n",
        "print(otro_factorial(4))"
      ],
      "metadata": {
        "id": "ucioXs9HIebg"
      },
      "execution_count": null,
      "outputs": []
    },
    {
      "cell_type": "code",
      "execution_count": null,
      "metadata": {
        "colab": {
          "base_uri": "https://localhost:8080/"
        },
        "id": "rlpCdVxKU0Lj",
        "outputId": "9fc0a744-47f3-47f7-df79-7db3afabb68f"
      },
      "outputs": [
        {
          "output_type": "execute_result",
          "data": {
            "text/plain": [
              "24"
            ]
          },
          "metadata": {},
          "execution_count": 39
        }
      ],
      "source": [
        "factorial(4)"
      ]
    },
    {
      "cell_type": "markdown",
      "metadata": {
        "id": "00SsslMs_k0j"
      },
      "source": [
        "4! = 4 * 3 * 2 * 1"
      ]
    },
    {
      "cell_type": "markdown",
      "metadata": {
        "id": "gAuNIsog_Ik7"
      },
      "source": [
        "La sumatoria de los valores de `1` hasta `n`"
      ]
    },
    {
      "cell_type": "code",
      "execution_count": null,
      "metadata": {
        "colab": {
          "base_uri": "https://localhost:8080/"
        },
        "id": "1EzbhCSM8sey",
        "outputId": "67ce2001-2406-45c6-dd4a-5b55d5f27816"
      },
      "outputs": [
        {
          "output_type": "stream",
          "name": "stdout",
          "text": [
            "10\n",
            "15\n"
          ]
        }
      ],
      "source": [
        "def sumatoria(n):\n",
        "  return 1 if n == 1 else n + sumatoria(n - 1)\n",
        "\n",
        "print(sumatoria(4))\n",
        "print(sumatoria(5))"
      ]
    },
    {
      "cell_type": "markdown",
      "metadata": {
        "id": "nPsGWJ91AApX"
      },
      "source": [
        "Una cuenta regresiva:"
      ]
    },
    {
      "cell_type": "code",
      "execution_count": null,
      "metadata": {
        "colab": {
          "base_uri": "https://localhost:8080/"
        },
        "id": "3gsvlNK7AFA2",
        "outputId": "fdced7be-d4b6-47e5-d6c3-0d8e773984a5"
      },
      "outputs": [
        {
          "output_type": "stream",
          "name": "stdout",
          "text": [
            "8\n",
            "7\n",
            "6\n",
            "5\n",
            "4\n",
            "3\n",
            "2\n",
            "1\n",
            "0\n",
            "¡Boooooom! la bomba estalló\n"
          ]
        }
      ],
      "source": [
        "def cuenta_regresiva(n):\n",
        "  if n >= 0:\n",
        "    print(n)\n",
        "    cuenta_regresiva(n - 1)\n",
        "  else:\n",
        "    print('¡Boooooom! la bomba estalló')\n",
        "\n",
        "cuenta_regresiva(8)"
      ]
    },
    {
      "cell_type": "markdown",
      "metadata": {
        "id": "h9lrmf0oSC0Q"
      },
      "source": [
        "## __Funciones incorpordas__\n",
        "\n",
        "Python cuenta con las siguientes funciones incorporadas:\n",
        "\n",
        "![imagen.png](data:image/png;base64,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)\n",
        "\n",
        "En este enlace se encuentra la [documentación oficial](https://docs.python.org/es/3.9/library/functions.html)"
      ]
    },
    {
      "cell_type": "markdown",
      "metadata": {
        "id": "lhU-UyEGiCjy"
      },
      "source": [
        "## __Importando funciones__\n",
        "\n",
        "Una tarea común en cualquier proceso de desarrollo es utilizar librerías y paquetes que continene funcionalidades ya implementadas y que nos pueden ahorrar algo de tiempo. Para esto podemos utilizar las palabras reservadas `import` y `from`. Veamos un ejemplo utilizando el módulo [Math](https://docs.python.org/3/library/math.html) de Python."
      ]
    },
    {
      "cell_type": "code",
      "execution_count": null,
      "metadata": {
        "colab": {
          "base_uri": "https://localhost:8080/"
        },
        "id": "NZ_nts1KYSqc",
        "outputId": "fae1deba-eb25-4dd1-8138-692dc710bd7a"
      },
      "outputs": [
        {
          "output_type": "stream",
          "name": "stdout",
          "text": [
            "120\n"
          ]
        }
      ],
      "source": [
        "import math\n",
        "\n",
        "print(math.factorial(5))"
      ]
    },
    {
      "cell_type": "markdown",
      "metadata": {
        "id": "yh1jH79PYbZE"
      },
      "source": [
        "También podemos importar la función directamente combinando las palabras reservadas `from` e `import`"
      ]
    },
    {
      "cell_type": "code",
      "execution_count": null,
      "metadata": {
        "colab": {
          "base_uri": "https://localhost:8080/"
        },
        "id": "awV3KYCvyM0m",
        "outputId": "092bffdd-45ca-4559-86d4-280bf2db3b27"
      },
      "outputs": [
        {
          "output_type": "stream",
          "name": "stdout",
          "text": [
            "120\n"
          ]
        }
      ],
      "source": [
        "from math import factorial\n",
        "\n",
        "print(factorial(5))"
      ]
    },
    {
      "cell_type": "markdown",
      "metadata": {
        "id": "tVUcPUQpZa4j"
      },
      "source": [
        "Es posible crear un alias para las importaciones que realicemos con la palabra reservada `as`\n"
      ]
    },
    {
      "cell_type": "code",
      "execution_count": null,
      "metadata": {
        "colab": {
          "base_uri": "https://localhost:8080/"
        },
        "id": "GSxSN8nCYZ9J",
        "outputId": "7c3c5095-c423-4262-ad30-f1067a3ac521"
      },
      "outputs": [
        {
          "output_type": "stream",
          "name": "stdout",
          "text": [
            "120\n"
          ]
        }
      ],
      "source": [
        "import math as mathematical_functions\n",
        "\n",
        "print(mathematical_functions.factorial(5))"
      ]
    },
    {
      "cell_type": "markdown",
      "metadata": {
        "id": "dGGQ8U3SI9FS"
      },
      "source": [
        "### Ejemplo de funcion para calcular el indice de masa corporal"
      ]
    },
    {
      "cell_type": "code",
      "execution_count": null,
      "metadata": {
        "id": "eSDcs3zNI9FS",
        "colab": {
          "base_uri": "https://localhost:8080/"
        },
        "outputId": "d2529886-2737-49b5-952c-830bfd6fd368"
      },
      "outputs": [
        {
          "output_type": "stream",
          "name": "stdout",
          "text": [
            "Su edad en años por favor: 35\n",
            "Su altura en metros por favor: 1.8\n",
            "Su masa en kilogramos por favor :56\n",
            "Usted es mayor de edad\n",
            "IMC: 17.28395061728395\n",
            "Delgadez leve\n"
          ]
        }
      ],
      "source": [
        "def imc(e,a,m):\n",
        "        est = a\n",
        "        #La masa en kilogramos si puede tener decimales asi que la dejamos flotante\n",
        "        #Calculo del IMC, masa (En kilogramos) entre la estatura (En metros) elevada al cuadrado\n",
        "        IMC = m / est**2\n",
        "        #Le decimos si es menor o mayor de edad, si es menor a 18 es menor, si no es mayor edad\n",
        "        #Solo ruegue porque a nadie se le ocurra meter numeros negativos, le va a decir que es menor de edad\n",
        "        if(e < 18):\n",
        "            print(\"Usted es menor de edad\")\n",
        "        else:\n",
        "            print(\"Usted es mayor de edad\")\n",
        "        #Le imprimos el IMC para que se ponga sad\n",
        "        print(\"IMC: \" + str(IMC) )\n",
        "\n",
        "        #Hacemos las distintas validaciones\n",
        "        if IMC >= 0 and IMC <= 15.99 :\n",
        "            print (\"Delgadez severa\")\n",
        "        elif IMC >= 16.00 and IMC <= 16.99 :\n",
        "            print (\"Delgadez moderada\")\n",
        "        elif IMC >= 17.00 and IMC <= 18.49:\n",
        "            print (\"Delgadez leve\")\n",
        "        elif IMC >= 18.50 and IMC <= 24.99 :\n",
        "            print (\"Normal\")\n",
        "        elif IMC >= 25.00 and IMC <= 29.99:\n",
        "            print (\"Sobrepeso\")\n",
        "        elif IMC >= 30.00 and IMC <= 34.99:\n",
        "            print (\"obesidad leve\")\n",
        "        elif IMC >= 35.00 and IMC <= 39.00:\n",
        "            print (\"obesidad media\")\n",
        "        elif IMC >= 40.00:\n",
        "            print (\"obesidad morbida\")\n",
        "\n",
        "e = int(input(\"Su edad en años por favor: \"))\n",
        "a = float(input (\"Su altura en metros por favor: \"))\n",
        "m = float (input(\"Su masa en kilogramos por favor :\"))\n",
        "imc(e,a,m)"
      ]
    },
    {
      "cell_type": "code",
      "source": [
        "def Convertir_a_float(NumString):\n",
        "    \"\"\"\n",
        "    Convierte un número con coma decimal a punto decimal.\n",
        "    \"\"\"\n",
        "    # Reemplaza la coma por punto\n",
        "    convertir_str = NumString.replace(',', '.')\n",
        "\n",
        "    # Verifica si el resultado es convertible a float\n",
        "    try:\n",
        "        result = float(convertir_str)\n",
        "        return result\n",
        "    except ValueError:\n",
        "        print(\"Entrada inválida. Asegúrate de ingresar un número válido.\")\n",
        "        return None\n",
        "\n",
        "def imc(e, a, m):\n",
        "    \"\"\"\n",
        "    Calcula el Índice de Masa Corporal (IMC) y muestra la categoría correspondiente.\n",
        "    \"\"\"\n",
        "    # Verifica si las entradas son válidas\n",
        "    if a is None or m is None:\n",
        "        print(\"No se pudo calcular el IMC debido a entradas inválidas.\")\n",
        "        return\n",
        "\n",
        "    # Cálculo del IMC\n",
        "    IMC = m / a**2\n",
        "\n",
        "    # Determinación de la mayoría de edad\n",
        "    print(\"Usted es menor de edad\" if e < 18 else \"Usted es mayor de edad\")\n",
        "\n",
        "    # Imprimir el resultado del IMC\n",
        "    print(f\"IMC: {IMC:.2f}\")\n",
        "\n",
        "    # Clasificación del IMC\n",
        "    if IMC < 16.00:\n",
        "        print(\"Delgadez severa\")\n",
        "    elif IMC < 17.00:\n",
        "        print(\"Delgadez moderada\")\n",
        "    elif IMC < 18.50:\n",
        "        print(\"Delgadez leve\")\n",
        "    elif IMC < 25.00:\n",
        "        print(\"Normal\")\n",
        "    elif IMC < 30.00:\n",
        "        print(\"Sobrepeso\")\n",
        "    elif IMC < 35.00:\n",
        "        print(\"Obesidad leve\")\n",
        "    elif IMC < 40.00:\n",
        "        print(\"Obesidad media\")\n",
        "    else:\n",
        "        print(\"Obesidad mórbida\")\n",
        "\n",
        "# Solicitar datos al usuario con conversión automática\n",
        "edad = int(input(\"Su edad en años por favor: \"))\n",
        "altura = Convertir_a_float(input(\"Su altura en metros por favor: \"))\n",
        "peso = Convertir_a_float(input(\"Su masa en kilogramos por favor: \"))\n",
        "\n",
        "# Llamar a la función de cálculo de IMC\n",
        "imc(edad, altura, peso)\n"
      ],
      "metadata": {
        "colab": {
          "base_uri": "https://localhost:8080/"
        },
        "id": "w6Tt_xld-9o8",
        "outputId": "a214c987-7980-40d7-dd30-83cb4a843b16"
      },
      "execution_count": null,
      "outputs": [
        {
          "output_type": "stream",
          "name": "stdout",
          "text": [
            "Su edad en años por favor: 25\n",
            "Su altura en metros por favor: 1,3\n",
            "Su masa en kilogramos por favor: 28\n",
            "Usted es mayor de edad\n",
            "IMC: 16.57\n",
            "Delgadez moderada\n"
          ]
        }
      ]
    },
    {
      "cell_type": "markdown",
      "metadata": {
        "id": "BQ2og0ssOJKc"
      },
      "source": [
        "### TIPOS DE DATOS\n",
        "\n",
        "Es importante entender que dentro de los tipos de datos de coleccion se manejan los indices, el índice de un elemento en una colección es su posición dentro de esa colección, comenzando desde 0. Los índices sirven para referirse a los elementos de una colección, el primer elemento tiene el índice 0, el segundo tiene el índice 1, y así sucesivamente.\n",
        "\n",
        "Esto es importante ya que si se trata de acceder a un índice que no existe, por ejemplo, un índice fuera de rango, se obtendra un error."
      ]
    },
    {
      "cell_type": "markdown",
      "metadata": {
        "id": "H9dvMK_QOJKc"
      },
      "source": [
        "1. Tuplas\n",
        "\n",
        "Una tupla es una colección ordenada e inmutable de elementos. Esto significa que una vez creada, no se pueden modificar, añadir o eliminar elementos.\n",
        "\n",
        "- Soportan diferentes tipos de datos (pueden contener números, cadenas, incluso otras tuplas).\n",
        "- Son eficientes en términos de memoria, por lo que son útiles cuando no se necesita modificar la colección.\n",
        "- Se definen usando paréntesis ()."
      ]
    },
    {
      "cell_type": "code",
      "execution_count": null,
      "metadata": {
        "id": "9ZPmvhLwOJKd",
        "outputId": "ce5cfaa8-8528-483a-c511-bdb6c1c2e5ee",
        "colab": {
          "base_uri": "https://localhost:8080/",
          "height": 148
        }
      },
      "outputs": [
        {
          "output_type": "error",
          "ename": "NameError",
          "evalue": "name 'Elemento1' is not defined",
          "traceback": [
            "\u001b[0;31m---------------------------------------------------------------------------\u001b[0m",
            "\u001b[0;31mNameError\u001b[0m                                 Traceback (most recent call last)",
            "\u001b[0;32m<ipython-input-2-0330abbc97a8>\u001b[0m in \u001b[0;36m<cell line: 0>\u001b[0;34m()\u001b[0m\n\u001b[0;32m----> 1\u001b[0;31m \u001b[0mNombreTupla\u001b[0m \u001b[0;34m=\u001b[0m \u001b[0;34m(\u001b[0m\u001b[0mElemento1\u001b[0m\u001b[0;34m,\u001b[0m \u001b[0mElemento2\u001b[0m\u001b[0;34m,\u001b[0m \u001b[0mElemento3\u001b[0m\u001b[0;34m)\u001b[0m\u001b[0;34m\u001b[0m\u001b[0;34m\u001b[0m\u001b[0m\n\u001b[0m",
            "\u001b[0;31mNameError\u001b[0m: name 'Elemento1' is not defined"
          ]
        }
      ],
      "source": [
        "NombreTupla = (Elemento1, Elemento2, Elemento3)\n"
      ]
    },
    {
      "cell_type": "code",
      "execution_count": null,
      "metadata": {
        "id": "iWoEsesGOJKd",
        "outputId": "32652004-edb6-471b-f11c-4289b54da926",
        "colab": {
          "base_uri": "https://localhost:8080/",
          "height": 106
        }
      },
      "outputs": [
        {
          "output_type": "error",
          "ename": "SyntaxError",
          "evalue": "invalid syntax (<ipython-input-10-93ffcdd1c3a2>, line 7)",
          "traceback": [
            "\u001b[0;36m  File \u001b[0;32m\"<ipython-input-10-93ffcdd1c3a2>\"\u001b[0;36m, line \u001b[0;32m7\u001b[0m\n\u001b[0;31m    Intentando modificar una tupla (esto dará error)\u001b[0m\n\u001b[0m               ^\u001b[0m\n\u001b[0;31mSyntaxError\u001b[0m\u001b[0;31m:\u001b[0m invalid syntax\n"
          ]
        }
      ],
      "source": [
        "colores = ('rojo', 'verde', 'azul')\n",
        "\n",
        "# Accediendo a elementos\n",
        "print(colores[0])  # rojo\n",
        "\n",
        "\n",
        "#Intentando modificar una tupla (esto dará error)\n",
        "#colores[1] = 'amarillo'  # Esto causa un error porque las tuplas son inmutables\n"
      ]
    },
    {
      "cell_type": "markdown",
      "metadata": {
        "id": "1wcb2sDJOJKd"
      },
      "source": [
        "Concatenar tuplas:\n",
        "\n",
        "Puedes crear nuevas tuplas al concatenar tuplas existentes."
      ]
    },
    {
      "cell_type": "code",
      "execution_count": null,
      "metadata": {
        "id": "LleEksnGOJKd",
        "outputId": "bef59527-4537-4cfa-ebe4-5f4cbebdbf1f",
        "colab": {
          "base_uri": "https://localhost:8080/"
        }
      },
      "outputs": [
        {
          "output_type": "stream",
          "name": "stdout",
          "text": [
            "(1, 2, 3, 4)\n"
          ]
        }
      ],
      "source": [
        "tupla1 = (1, 2)\n",
        "tupla2 = (3, 4)\n",
        "tupla3 = tupla1 + tupla2\n",
        "print(tupla3)\n"
      ]
    },
    {
      "cell_type": "markdown",
      "source": [
        "https://elpythonista.com/tuplas-en-python-tuple"
      ],
      "metadata": {
        "id": "omGrmMeyIBd9"
      }
    },
    {
      "cell_type": "markdown",
      "metadata": {
        "id": "RlK-cIbWOJKd"
      },
      "source": [
        "2.  Listas\n",
        "\n",
        "Una lista es una colección ordenada y mutable de elementos. Puedes agregar, eliminar o modificar los elementos de una lista después de su creación, es ideal para almacenar colecciones de datos que pueden cambiar con el tiempo.\n",
        "\n",
        "- Pueden contener cualquier tipo de dato, incluidas otras listas.\n",
        "- Permiten operaciones como .append(), .remove(), .pop().\n",
        "\n",
        "Puedes crear una lista usando corchetes [ ] y separando los elementos con comas:"
      ]
    },
    {
      "cell_type": "code",
      "execution_count": null,
      "metadata": {
        "id": "YGEvwLi7OJKe",
        "outputId": "232e1212-3e8c-4f03-bef9-36b5cc015405",
        "colab": {
          "base_uri": "https://localhost:8080/",
          "height": 185
        }
      },
      "outputs": [
        {
          "output_type": "error",
          "ename": "NameError",
          "evalue": "name 'Elemento1' is not defined",
          "traceback": [
            "\u001b[0;31m---------------------------------------------------------------------------\u001b[0m",
            "\u001b[0;31mNameError\u001b[0m                                 Traceback (most recent call last)",
            "\u001b[0;32m<ipython-input-5-2e600371d8d1>\u001b[0m in \u001b[0;36m<cell line: 0>\u001b[0;34m()\u001b[0m\n\u001b[0;32m----> 1\u001b[0;31m \u001b[0mNombreLista\u001b[0m \u001b[0;34m=\u001b[0m \u001b[0;34m[\u001b[0m\u001b[0mElemento1\u001b[0m\u001b[0;34m,\u001b[0m \u001b[0mElemento2\u001b[0m\u001b[0;34m,\u001b[0m \u001b[0mElemento3\u001b[0m\u001b[0;34m]\u001b[0m\u001b[0;34m\u001b[0m\u001b[0;34m\u001b[0m\u001b[0m\n\u001b[0m\u001b[1;32m      2\u001b[0m \u001b[0;34m\u001b[0m\u001b[0m\n\u001b[1;32m      3\u001b[0m \u001b[0;34m\u001b[0m\u001b[0m\n",
            "\u001b[0;31mNameError\u001b[0m: name 'Elemento1' is not defined"
          ]
        }
      ],
      "source": [
        "NombreLista = [Elemento1, Elemento2, Elemento3]\n",
        "\n",
        "\n"
      ]
    },
    {
      "cell_type": "code",
      "execution_count": null,
      "metadata": {
        "id": "zAiuj2T2OJKe",
        "outputId": "33feea83-1606-40c9-c13e-733f583498b4",
        "colab": {
          "base_uri": "https://localhost:8080/"
        }
      },
      "outputs": [
        {
          "output_type": "stream",
          "name": "stdout",
          "text": [
            "['manzana', 'banana', 'cereza']\n"
          ]
        }
      ],
      "source": [
        "frutas = ['manzana', 'banana', 'cereza']\n",
        "print(frutas)\n"
      ]
    },
    {
      "cell_type": "code",
      "execution_count": null,
      "metadata": {
        "id": "ne3Z3qiWOJKe",
        "outputId": "ebd97576-e07e-44cd-c214-25adea0ac20d",
        "colab": {
          "base_uri": "https://localhost:8080/"
        }
      },
      "outputs": [
        {
          "output_type": "stream",
          "name": "stdout",
          "text": [
            "['manzana', 'mango', 'cereza']\n"
          ]
        }
      ],
      "source": [
        "# Modificando un elemento\n",
        "frutas[1] = 'mango'\n",
        "print(frutas)"
      ]
    },
    {
      "cell_type": "markdown",
      "metadata": {
        "id": "dKiiirRCOJKe"
      },
      "source": [
        "Añadir elementos:\n",
        "\n",
        "- .append(): Agrega un elemento al final de la lista.\n",
        "- .insert(): Inserta un elemento en una posición específica.\n",
        "- .extend(): Agrega múltiples elementos al final de la lista."
      ]
    },
    {
      "cell_type": "code",
      "execution_count": null,
      "metadata": {
        "id": "SsPPy88wOJKf",
        "colab": {
          "base_uri": "https://localhost:8080/"
        },
        "outputId": "7ff8c9eb-0be3-4e4c-c574-b35d4a25ce16"
      },
      "outputs": [
        {
          "output_type": "stream",
          "name": "stdout",
          "text": [
            "['manzana', 'mango', 'cereza', 'kiwi']\n"
          ]
        }
      ],
      "source": [
        "# Añadiendo un elemento\n",
        "frutas.append('kiwi')\n",
        "print(frutas)\n"
      ]
    },
    {
      "cell_type": "code",
      "execution_count": null,
      "metadata": {
        "id": "4wGHXmarOJKf",
        "outputId": "85a29cbf-aba8-4afd-b192-71487c0cec04",
        "colab": {
          "base_uri": "https://localhost:8080/"
        }
      },
      "outputs": [
        {
          "output_type": "stream",
          "name": "stdout",
          "text": [
            "[1, 2, 3, 4]\n",
            "[1, 'a', 2, 3, 4]\n",
            "[1, 'a', 2, 3, 4, 5, 6]\n"
          ]
        }
      ],
      "source": [
        "lista = [1, 2, 3]\n",
        "lista.append(4)\n",
        "print(lista)  # [1, 2, 3, 4]\n",
        "\n",
        "lista.insert(1, 'a')\n",
        "print(lista)  # [1, 'a', 2, 3, 4]\n",
        "\n",
        "lista.extend([5, 6])\n",
        "print(lista)  # [1, 'a', 2, 3, 4, 5, 6]\n"
      ]
    },
    {
      "cell_type": "markdown",
      "metadata": {
        "id": "_ddgQfDlOJKf"
      },
      "source": [
        "Eliminar elementos:\n",
        "\n",
        "- .remove(): Elimina la primera ocurrencia de un valor específico.\n",
        "- .pop(): Elimina y retorna el elemento en la posición especificada (si no se pasa un índice, elimina el último).\n",
        "- del: Elimina un elemento en la posición especificada o la lista completa."
      ]
    },
    {
      "cell_type": "code",
      "execution_count": null,
      "metadata": {
        "id": "iXa5mMXMOJKf",
        "colab": {
          "base_uri": "https://localhost:8080/"
        },
        "outputId": "0ebe9b07-a7c1-4655-9b1f-904c559a36e0"
      },
      "outputs": [
        {
          "output_type": "stream",
          "name": "stdout",
          "text": [
            "['mango', 'cereza', 'kiwi']\n"
          ]
        }
      ],
      "source": [
        "# Eliminando un elemento\n",
        "frutas.remove('manzana')\n",
        "print(frutas)"
      ]
    },
    {
      "cell_type": "code",
      "execution_count": null,
      "metadata": {
        "id": "5C85wgbsOJKf",
        "colab": {
          "base_uri": "https://localhost:8080/"
        },
        "outputId": "47fb9e06-5dd8-42fa-d991-5350c1de2471"
      },
      "outputs": [
        {
          "output_type": "stream",
          "name": "stdout",
          "text": [
            "[1, 2, 4]\n",
            "[1, 4]\n",
            "[4]\n"
          ]
        }
      ],
      "source": [
        "lista = [1, 2, 3, 4]\n",
        "lista.remove(3)\n",
        "print(lista)  # [1, 2, 4]\n",
        "\n",
        "lista.pop(1)\n",
        "print(lista)  # [1, 4]\n",
        "\n",
        "del lista[0]\n",
        "print(lista)  # [4]\n"
      ]
    },
    {
      "cell_type": "markdown",
      "metadata": {
        "id": "I9e2PET3OJKg"
      },
      "source": [
        "Otros métodos:\n",
        "\n",
        "- .sort(): Ordena la lista (modifica la lista original).\n",
        "- .reverse(): Invierte los elementos de la lista (modifica la lista original).\n",
        "- .clear(): Elimina todos los elementos de la lista."
      ]
    },
    {
      "cell_type": "code",
      "execution_count": null,
      "metadata": {
        "id": "vPEvuuifOJKg",
        "outputId": "1d47d84d-2aae-4fb0-b899-ef45a1c4ea7f",
        "colab": {
          "base_uri": "https://localhost:8080/"
        }
      },
      "outputs": [
        {
          "output_type": "stream",
          "name": "stdout",
          "text": [
            "[4, 2, 1, 3]\n",
            "[1, 2, 3, 4]\n",
            "[4, 3, 2, 1]\n",
            "[]\n"
          ]
        }
      ],
      "source": [
        "lista = [4, 2, 1, 3]\n",
        "print(lista)\n",
        "\n",
        "lista.sort()  # Ordenar\n",
        "print(lista)\n",
        "\n",
        "lista.reverse()  # Invertir\n",
        "print(lista)\n",
        "\n",
        "lista.clear()  # Vaciar lista\n",
        "print(lista)\n"
      ]
    },
    {
      "cell_type": "markdown",
      "metadata": {
        "id": "M91CWtzYOJKg"
      },
      "source": [
        "3. Diccionarios\n",
        "\n",
        "Un diccionario es una colección desordenada de pares clave-valor. Cada elemento en un diccionario tiene una clave única que se utiliza para acceder a su valor correspondiente.\n",
        "\n",
        "Se utilizan cuando se necesita asociar claves únicas a valores, como un \"índice\" para acceder a datos.\n",
        "\n",
        "- Los diccionarios son mutables.\n",
        "- Las claves deben ser únicas, pero los valores pueden repetirse.\n",
        "\n",
        "Puedes crear un diccionario usando llaves { } o la función dict( ):"
      ]
    },
    {
      "cell_type": "code",
      "execution_count": null,
      "metadata": {
        "id": "teAfKac7OJKg"
      },
      "outputs": [],
      "source": [
        "Diccionario = {Clave1: Valor1, Clave2: Valor2}\n"
      ]
    },
    {
      "cell_type": "code",
      "execution_count": null,
      "metadata": {
        "id": "BXmjWqscOJKg",
        "outputId": "54c5d3fa-c895-4cd8-e8dc-8aadd4747812",
        "colab": {
          "base_uri": "https://localhost:8080/"
        }
      },
      "outputs": [
        {
          "output_type": "stream",
          "name": "stdout",
          "text": [
            "Ana\n",
            "{'nombre': 'Ana', 'edad': 22, 'carrera': 'Ingeniería'}\n",
            "{'nombre': 'Ana', 'edad': 22, 'carrera': 'Ingeniería', 'promedio': 8.5}\n",
            "{'nombre': 'Ana', 'edad': 22, 'carrera': 'Ingeniería'}\n"
          ]
        }
      ],
      "source": [
        "estudiante = {'nombre': 'Ana', 'edad': 21, 'carrera': 'Ingeniería'}\n",
        "\n",
        "# Accediendo a un valor por su clave\n",
        "print(estudiante['nombre'])\n",
        "\n",
        "# Modificando un valor\n",
        "estudiante['edad'] = 22\n",
        "print(estudiante)\n",
        "\n",
        "# Añadiendo un nuevo par clave-valor\n",
        "estudiante['promedio'] = 8.5\n",
        "print(estudiante)\n",
        "\n",
        "# Eliminando un par clave-valor\n",
        "del estudiante['promedio']\n",
        "print(estudiante)\n"
      ]
    },
    {
      "cell_type": "markdown",
      "metadata": {
        "id": "K1r_miTaOJKg"
      },
      "source": [
        "\n",
        "- .keys(): Retorna todas las claves del diccionario.\n",
        "- .values(): Retorna todos los valores del diccionario.\n",
        "- .items(): Retorna todos los pares clave-valor como una lista de tuplas."
      ]
    },
    {
      "cell_type": "code",
      "execution_count": null,
      "metadata": {
        "id": "Rjqn_3YoOJKh",
        "outputId": "6ebda73e-40e4-4b08-8461-6d806cda1018",
        "colab": {
          "base_uri": "https://localhost:8080/"
        }
      },
      "outputs": [
        {
          "output_type": "stream",
          "name": "stdout",
          "text": [
            "dict_keys(['nombre', 'edad', 'carrera'])\n",
            "dict_values(['Ana', 22, 'Ingeniería'])\n",
            "dict_items([('nombre', 'Ana'), ('edad', 22), ('carrera', 'Ingeniería')])\n"
          ]
        }
      ],
      "source": [
        "\n",
        "print(estudiante.keys())\n",
        "print(estudiante.values())\n",
        "print(estudiante.items())\n"
      ]
    },
    {
      "cell_type": "markdown",
      "metadata": {
        "id": "KkDfAQGOOJKh"
      },
      "source": [
        "##  __Ciclos__\n",
        "\n",
        "Los ciclos son estructuras de control que nos permiten ejecutar una instrucción específica un número finito de veces. Pueden ser combinadas con estructuras condicionales y deben tener el nivel de indentación apropiado.\n",
        "\n",
        "![imagen.png](data:image/png;base64,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)"
      ]
    },
    {
      "cell_type": "markdown",
      "metadata": {
        "id": "idsoGq5OOJKh"
      },
      "source": [
        "### __Tipos de Ciclos__\n",
        "\n",
        "En Python contamos con los siguientes tipos de ciclos:\n",
        "\n",
        "*   `<for in>`\n",
        "*   `<while>`\n",
        "*   `<nested loop>`"
      ]
    },
    {
      "cell_type": "markdown",
      "metadata": {
        "id": "6ACcbJs7OJKi"
      },
      "source": [
        "__Ejemplo `for in`__: imprimir todos los números naturales comprendidos entre uno y 10"
      ]
    },
    {
      "cell_type": "code",
      "source": [
        "frutas = [\"manzana\", \"banana\", \"cereza\"]\n",
        "\n",
        "for i in frutas:\n",
        "    print(i)"
      ],
      "metadata": {
        "id": "0VgZAUsvM3Ce",
        "colab": {
          "base_uri": "https://localhost:8080/"
        },
        "outputId": "c622e5bf-c072-4283-a107-cc90386f715a"
      },
      "execution_count": null,
      "outputs": [
        {
          "output_type": "stream",
          "name": "stdout",
          "text": [
            "manzana\n",
            "banana\n",
            "cereza\n"
          ]
        }
      ]
    },
    {
      "cell_type": "code",
      "execution_count": null,
      "metadata": {
        "id": "diftePQQOJKi",
        "outputId": "31903373-4891-4e48-ae46-5ca73e30dc06",
        "colab": {
          "base_uri": "https://localhost:8080/"
        }
      },
      "outputs": [
        {
          "output_type": "stream",
          "name": "stdout",
          "text": [
            "-5\n",
            "-4\n",
            "-3\n",
            "-2\n",
            "-1\n",
            "0\n",
            "1\n",
            "2\n",
            "3\n"
          ]
        }
      ],
      "source": [
        "for i in range(-5,4):\n",
        "  print(i)"
      ]
    },
    {
      "cell_type": "markdown",
      "metadata": {
        "id": "VT-5veE7OJKi"
      },
      "source": [
        "__Ejemplo `for in`__: imprimir todos los pares comprendidos entre 1 y un número ingresado por el usuario"
      ]
    },
    {
      "cell_type": "code",
      "execution_count": null,
      "metadata": {
        "colab": {
          "base_uri": "https://localhost:8080/"
        },
        "id": "rkON7C6EOJKi",
        "outputId": "d1b51108-1c67-4e66-ce7d-6a65cc81a90c"
      },
      "outputs": [
        {
          "output_type": "stream",
          "name": "stdout",
          "text": [
            "Ingrese un número: 5\n",
            "2 4 "
          ]
        }
      ],
      "source": [
        "numero = int(input('Ingrese un número: '))\n",
        "\n",
        "if numero > 0:\n",
        "  for i in range(2, numero + 1 , 2):\n",
        "    print(i, end=' ')\n",
        "else:\n",
        "  print('El número debe ser mayor a 0')"
      ]
    },
    {
      "cell_type": "markdown",
      "metadata": {
        "id": "dcLOOLigOJKj"
      },
      "source": [
        "Otra versión del mismo programa:"
      ]
    },
    {
      "cell_type": "code",
      "execution_count": null,
      "metadata": {
        "colab": {
          "base_uri": "https://localhost:8080/"
        },
        "id": "_tv-epx3OJKj",
        "outputId": "f7c40d47-7a13-4d96-a8c1-42934e08490b"
      },
      "outputs": [
        {
          "output_type": "stream",
          "name": "stdout",
          "text": [
            "Ingrese un número: 5\n",
            "2  4  "
          ]
        }
      ],
      "source": [
        "numero = int(input('Ingrese un número: '))\n",
        "\n",
        "if numero > 0:\n",
        "  for i in range(2, numero + 1): # [2, 3, 4, 5, ..., 10]\n",
        "    print('' if i % 2 != 0  else i, end=' ')\n",
        "else:\n",
        "  print('El número debe ser mayor a 0')"
      ]
    },
    {
      "cell_type": "markdown",
      "metadata": {
        "id": "BhXm53TFOJKj"
      },
      "source": [
        "__Ejemplo `while`__: imprimir todos los numeros comprendidos entre 1 y un número ingresado por el usuario\n"
      ]
    },
    {
      "cell_type": "code",
      "execution_count": null,
      "metadata": {
        "colab": {
          "base_uri": "https://localhost:8080/"
        },
        "id": "MUT-ll7ZOJKj",
        "outputId": "e1c90870-e648-41ec-cdfc-2afb4240129f"
      },
      "outputs": [
        {
          "output_type": "stream",
          "name": "stdout",
          "text": [
            "Ingrese un número: 10\n",
            "1 2 3 4 5 6 7 8 9 10 "
          ]
        }
      ],
      "source": [
        "numero = int(input('Ingrese un número: '))\n",
        "\n",
        "if numero > 0:\n",
        "  i = 1\n",
        "  while i <= numero:\n",
        "    print(i, end=' ')\n",
        "    i += 1\n",
        "else:\n",
        "  print('El número debe ser mayor a 0')"
      ]
    },
    {
      "cell_type": "markdown",
      "metadata": {
        "id": "wmUJNPyYOJKj"
      },
      "source": [
        "__Ejemplo `while`__: imprimir todos los pares comprendidos entre 1 y un número ingresado por el usuario"
      ]
    },
    {
      "cell_type": "code",
      "execution_count": null,
      "metadata": {
        "colab": {
          "base_uri": "https://localhost:8080/"
        },
        "id": "FAkXuce4OJKj",
        "outputId": "061795ee-6fad-40ed-cb4e-8d3829ee5f67"
      },
      "outputs": [
        {
          "output_type": "stream",
          "name": "stdout",
          "text": [
            "Ingrese un número: -2\n",
            "El número debe ser mayor a 0\n"
          ]
        }
      ],
      "source": [
        "numero = int(input('Ingrese un número: '))\n",
        "\n",
        "if numero > 0:\n",
        "  i = 2\n",
        "  while i <= numero:\n",
        "    print(i, end=' ')\n",
        "    i += 2\n",
        "else:\n",
        "  print('El número debe ser mayor a 0')"
      ]
    },
    {
      "cell_type": "markdown",
      "metadata": {
        "id": "waG3ZRX8OJKk"
      },
      "source": [
        "Otra versión del mismo programa"
      ]
    },
    {
      "cell_type": "code",
      "execution_count": null,
      "metadata": {
        "colab": {
          "base_uri": "https://localhost:8080/"
        },
        "id": "ihlGA8z5OJKk",
        "outputId": "243601f3-2f7f-461f-e3b1-69dd8cbfdaea"
      },
      "outputs": [
        {
          "output_type": "stream",
          "name": "stdout",
          "text": [
            "Ingrese un número: 6\n",
            "2   4   6 "
          ]
        }
      ],
      "source": [
        "numero = int(input('Ingrese un número: '))\n",
        "\n",
        "if numero > 0:\n",
        "  i = 2\n",
        "  while i <= numero:\n",
        "    print(i if i % 2 == 0 else \" \", end=' ')\n",
        "    i += 1\n",
        "else:\n",
        "  print('El número debe ser mayor a 0')"
      ]
    },
    {
      "cell_type": "markdown",
      "metadata": {
        "id": "9nMa2u-6OJKk"
      },
      "source": [
        "También es posible agregar una instrucción `else` a un ciclo con el fin de garantizar la ejecución de un bloque de código cuando el ciclo termine"
      ]
    },
    {
      "cell_type": "code",
      "execution_count": null,
      "metadata": {
        "colab": {
          "base_uri": "https://localhost:8080/"
        },
        "id": "TisEYw_VOJKk",
        "outputId": "7372d482-b8dd-48aa-ffdb-db9a35817835"
      },
      "outputs": [
        {
          "output_type": "stream",
          "name": "stdout",
          "text": [
            "0\n",
            "1\n",
            "2\n",
            "3\n",
            "4\n",
            "El ciclo ha terminado\n"
          ]
        }
      ],
      "source": [
        "for x in range(5):\n",
        "  print(x)\n",
        "else:\n",
        "  print(\"El ciclo ha terminado\")"
      ]
    },
    {
      "cell_type": "markdown",
      "metadata": {
        "id": "HYPI-qMeOJKk"
      },
      "source": [
        "Podemos hacer lo mismo para el caso de un ciclo `while`"
      ]
    },
    {
      "cell_type": "code",
      "execution_count": null,
      "metadata": {
        "colab": {
          "base_uri": "https://localhost:8080/"
        },
        "id": "5yCfZ04fOJKl",
        "outputId": "3116eeb5-0ada-4a7c-de50-f3e0d2a5481f"
      },
      "outputs": [
        {
          "output_type": "stream",
          "name": "stdout",
          "text": [
            "0\n",
            "1\n",
            "2\n",
            "3\n",
            "4\n",
            "El ciclo ha terminado\n"
          ]
        }
      ],
      "source": [
        "i = 0\n",
        "while i < 5:\n",
        "  print(i)\n",
        "  i += 1\n",
        "else:\n",
        "  print(\"El ciclo ha terminado\")"
      ]
    },
    {
      "cell_type": "markdown",
      "metadata": {
        "id": "M3SnNdabOJKl"
      },
      "source": [
        "__Ejemplo `Nested loop`__: imprimir todos los pares comprendidos entre 1 y un número ingresado por el usuario"
      ]
    },
    {
      "cell_type": "code",
      "execution_count": null,
      "metadata": {
        "id": "9eWqGdieOJKl",
        "outputId": "b2103f5f-0f0e-4c4a-e4e9-2d79a654a452",
        "colab": {
          "base_uri": "https://localhost:8080/"
        }
      },
      "outputs": [
        {
          "output_type": "stream",
          "name": "stdout",
          "text": [
            "(0, 3) (0, 4) (0, 5) (0, 6) (1, 3) (1, 4) (1, 5) (1, 6) (2, 3) (2, 4) (2, 5) (2, 6) "
          ]
        }
      ],
      "source": [
        "for i in range(3):\n",
        "\n",
        "  for j in range (3, 7):\n",
        "\n",
        "    print(f'({i}, {j})', end= ' ')"
      ]
    },
    {
      "cell_type": "code",
      "execution_count": null,
      "metadata": {
        "id": "q2anmf97OJKl",
        "outputId": "754e26f6-b62a-459e-9d06-297b047373e9"
      },
      "outputs": [
        {
          "name": "stdout",
          "output_type": "stream",
          "text": [
            "(0, 3)\n",
            "(0, 4)\n",
            "(0, 5)\n",
            "(0, 6)\n",
            "(1, 3)\n",
            "(1, 4)\n",
            "(1, 5)\n",
            "(1, 6)\n",
            "(2, 3)\n",
            "(2, 4)\n",
            "(2, 5)\n",
            "(2, 6)\n"
          ]
        }
      ],
      "source": [
        "for i in range(3):\n",
        "  for j in range (3, 7):\n",
        "    print(f'({i}, {j})')"
      ]
    },
    {
      "cell_type": "markdown",
      "metadata": {
        "id": "u4OvCLALOJKm"
      },
      "source": [
        "Los ciclos anidados son de gran utilidad a la hora de trabajar con listas y matrices y en general cualquier tipo de colección de datos."
      ]
    },
    {
      "cell_type": "code",
      "execution_count": null,
      "metadata": {
        "id": "S8ULVht4OJKm",
        "outputId": "cf8c22d6-7ad2-468e-fb27-c0d6d339f275",
        "colab": {
          "base_uri": "https://localhost:8080/"
        }
      },
      "outputs": [
        {
          "output_type": "stream",
          "name": "stdout",
          "text": [
            "rojo manzana\n",
            "rojo pera\n",
            "rojo cereza\n",
            "pequeño manzana\n",
            "pequeño pera\n",
            "pequeño cereza\n",
            "delicioso manzana\n",
            "delicioso pera\n",
            "delicioso cereza\n"
          ]
        }
      ],
      "source": [
        "adjetivo = [\"rojo\", \"pequeño\", \"delicioso\"]\n",
        "frutas = [\"manzana\", \"pera\", \"cereza\"]\n",
        "\n",
        "for x in adjetivo:\n",
        "  for y in frutas:\n",
        "    print(x, y)"
      ]
    },
    {
      "cell_type": "markdown",
      "metadata": {
        "id": "GPu0ReaROJKm"
      },
      "source": [
        "### __Instrucciones: `break, continue, pass`__\n",
        "\n",
        "Estas palabras reservadas nos permiten modificar el comportamiento de los ciclos:\n",
        "\n"
      ]
    },
    {
      "cell_type": "markdown",
      "metadata": {
        "id": "fGbfdK_ROJKm"
      },
      "source": [
        "__Ejemplo `pass`__: Los ciclos `for` no pueden estar vacíos, pero si por alguna razon tenemos uno sin instrucciones, podemos utilizar la palabra reservada `pass` para evitar generar un error."
      ]
    },
    {
      "cell_type": "code",
      "execution_count": null,
      "metadata": {
        "id": "GdmIFMH5OJKm"
      },
      "outputs": [],
      "source": [
        "for i in range(3):\n",
        "  pass"
      ]
    },
    {
      "cell_type": "markdown",
      "metadata": {
        "id": "Hmr3wlEPOJKm"
      },
      "source": [
        "de lo contrario se generará un error:"
      ]
    },
    {
      "cell_type": "code",
      "execution_count": null,
      "metadata": {
        "id": "HkWois1lOJKn",
        "outputId": "9dcf73cf-0cac-444e-90d4-f8fc4f9131e9",
        "colab": {
          "base_uri": "https://localhost:8080/",
          "height": 106
        }
      },
      "outputs": [
        {
          "output_type": "error",
          "ename": "SyntaxError",
          "evalue": "incomplete input (<ipython-input-8-ea1d38b65fe4>, line 1)",
          "traceback": [
            "\u001b[0;36m  File \u001b[0;32m\"<ipython-input-8-ea1d38b65fe4>\"\u001b[0;36m, line \u001b[0;32m1\u001b[0m\n\u001b[0;31m    for i in range(3):\u001b[0m\n\u001b[0m                      ^\u001b[0m\n\u001b[0;31mSyntaxError\u001b[0m\u001b[0;31m:\u001b[0m incomplete input\n"
          ]
        }
      ],
      "source": [
        "for i in range(3):"
      ]
    },
    {
      "cell_type": "markdown",
      "metadata": {
        "id": "c2foyyyZOJKn"
      },
      "source": [
        "__Ejemplo `break`__: si deseamos detener la ejecución de un ciclo podemos utilizar la palabra reservada` break `"
      ]
    },
    {
      "cell_type": "code",
      "execution_count": null,
      "metadata": {
        "colab": {
          "base_uri": "https://localhost:8080/"
        },
        "id": "imIU9S6ROJKn",
        "outputId": "396e488c-928e-444c-917a-18c91f7a5bd0"
      },
      "outputs": [
        {
          "output_type": "stream",
          "name": "stdout",
          "text": [
            "0\n",
            "1\n",
            "2\n",
            "3\n",
            "4\n",
            "5\n",
            "6\n",
            "7\n",
            "8\n",
            "9\n"
          ]
        }
      ],
      "source": [
        "for i in range(15):\n",
        "  if i == 10: break\n",
        "  print(i)"
      ]
    },
    {
      "cell_type": "markdown",
      "metadata": {
        "id": "RTR9Q-UHOJKn"
      },
      "source": [
        "En el caso de tener un `else` en el ciclo:"
      ]
    },
    {
      "cell_type": "code",
      "execution_count": null,
      "metadata": {
        "colab": {
          "base_uri": "https://localhost:8080/"
        },
        "id": "pqiUaQADOJKn",
        "outputId": "e1e9fddf-be20-4114-a2ba-8a1fff0e782c"
      },
      "outputs": [
        {
          "output_type": "stream",
          "name": "stdout",
          "text": [
            "0\n",
            "1\n",
            "2\n",
            "3\n",
            "4\n"
          ]
        }
      ],
      "source": [
        "for i in range(6):\n",
        "  if i == 5: break\n",
        "  print(i)\n",
        "else:\n",
        "  print(\"El ciclo ha terminado\")"
      ]
    },
    {
      "cell_type": "code",
      "execution_count": null,
      "metadata": {
        "colab": {
          "base_uri": "https://localhost:8080/"
        },
        "id": "AHFYAZZ0OJKn",
        "outputId": "3906faf2-c0d6-49f6-b8b3-853398333b47"
      },
      "outputs": [
        {
          "output_type": "stream",
          "name": "stdout",
          "text": [
            "0\n",
            "1\n",
            "2\n"
          ]
        }
      ],
      "source": [
        "i = 0\n",
        "while i < 5:\n",
        "  if i == 3: break\n",
        "  print(i)\n",
        "  i += 1\n",
        "else:\n",
        "  print(\"El ciclo ha terminado\")"
      ]
    },
    {
      "cell_type": "markdown",
      "metadata": {
        "id": "sJB0DfkMOJKo"
      },
      "source": [
        "__Ejemplo `continue`__: Con la instrucción` continue` podemos detener la iteración actual del ciclo y continuar con la siguiente:"
      ]
    },
    {
      "cell_type": "code",
      "execution_count": null,
      "metadata": {
        "colab": {
          "base_uri": "https://localhost:8080/"
        },
        "id": "mJ2slX9vOJKo",
        "outputId": "1dc7ea5d-31c0-4e9b-a0da-b53bcb8a3527"
      },
      "outputs": [
        {
          "output_type": "stream",
          "name": "stdout",
          "text": [
            "0\n",
            "1\n",
            "2\n",
            "4\n",
            "6\n",
            "7\n",
            "8\n",
            "9\n",
            "El ciclo ha terminado\n"
          ]
        }
      ],
      "source": [
        "for i in range(10):\n",
        "  if (i == 3) or (i == 5): continue\n",
        "  print(i)\n",
        "else:\n",
        "  print(\"El ciclo ha terminado\")"
      ]
    },
    {
      "cell_type": "code",
      "execution_count": null,
      "metadata": {
        "colab": {
          "base_uri": "https://localhost:8080/"
        },
        "id": "vYMY-FwMOJKo",
        "outputId": "a13a31e4-be35-48cc-86af-e478ff6cddb4"
      },
      "outputs": [
        {
          "output_type": "stream",
          "name": "stdout",
          "text": [
            "0\n",
            "1\n",
            "2\n",
            "4\n",
            "6\n",
            "7\n",
            "8\n",
            "9\n",
            "El ciclo ha terminado\n"
          ]
        }
      ],
      "source": [
        "i = 0\n",
        "while i < 10:\n",
        "  if (i == 3) or (i == 5):\n",
        "    #i += 1\n",
        "    continue\n",
        "  print(i)\n",
        "  i += 1\n",
        "else:\n",
        "  print(\"El ciclo ha terminado\")"
      ]
    },
    {
      "cell_type": "markdown",
      "metadata": {
        "id": "mwBhXdOvOJKo"
      },
      "source": [
        "### __Ejercicio 1: series__\n",
        "\n",
        "Calcule la suma de los términos de la serie que se muestra a continuación. El usuario debe ingresar el valor de N. Tenga en cuenta que el resultado debe acercarse a 1. El valor de $n$ debe ser ingresado por el usuario\n",
        "\n",
        "$$ \\sum_{i=1}^n \\frac{1}{2^i}$$"
      ]
    },
    {
      "cell_type": "code",
      "execution_count": null,
      "metadata": {
        "id": "ayRKvA01OJKp",
        "outputId": "31f23807-9365-4997-9184-3ea64badea57",
        "colab": {
          "base_uri": "https://localhost:8080/"
        }
      },
      "outputs": [
        {
          "output_type": "stream",
          "name": "stdout",
          "text": [
            "Ingrese el valor del límite superior de la sumatoría para calcular la serie: 10\n",
            "El resultado de la serie es: 0.9990234375\n"
          ]
        }
      ],
      "source": [
        "# Solución propuesta\n",
        "n=int(input(\"Ingrese el valor del límite superior de la sumatoría para calcular la serie: \"))\n",
        "\n",
        "sum=0\n",
        "\n",
        "for i in range(n):\n",
        "  k=1/(2**(i+1))\n",
        "  sum+=k\n",
        "\n",
        "print(f\"El resultado de la serie es: {sum}\")\n"
      ]
    },
    {
      "cell_type": "markdown",
      "metadata": {
        "id": "FW59pfJzOJKp"
      },
      "source": [
        "### __Ejercicio 2: número de Armstrong__\n",
        "\n",
        "Construya un programa en el que, dado un número, diga si es o no un número de Armstrong. Un número de $n$ digitos es un número de Armstrong si la suma de las potencias  $n$-ésimas de los dígitos que lo componen es igual al mismo número.\n",
        "\n",
        "Ejemplo: $1634$ es un número de Armstrong\n",
        "\n",
        "El número 1634 tiene 4 dígitos, por lo que:\n",
        "\n",
        "$\n",
        "1^4 + 6^4 + 3^4 + 4^4 = 1 + 1296 + 81 + 256 = 1634\n",
        "$"
      ]
    },
    {
      "cell_type": "code",
      "execution_count": null,
      "metadata": {
        "id": "6Vtb-6AbOJKp",
        "outputId": "aa191ef5-81af-4e1c-b73a-5fcbb3e600c6",
        "colab": {
          "base_uri": "https://localhost:8080/"
        }
      },
      "outputs": [
        {
          "output_type": "stream",
          "name": "stdout",
          "text": [
            "Ingrese un número: 38\n",
            "El número 38 no es un número de Armstrong.\n"
          ]
        }
      ],
      "source": [
        "# Solución propuesta\n",
        "n = input(\"Ingrese un número: \")\n",
        "\n",
        "# Convertir el número en una lista de sus dígitos\n",
        "digitos = [int(d) for d in n]\n",
        "num_digitos = len(digitos)  # Cantidad de dígitos\n",
        "\n",
        "# Calcular la suma de las potencias de los dígitos elevados a la cantidad de dígitos\n",
        "suma = sum(d**num_digitos for d in digitos)\n",
        "\n",
        "# Convertimos `n` nuevamente a entero para comparar correctamente\n",
        "if suma == int(n):\n",
        "    print(f\"El número {n} es un número de Armstrong.\")\n",
        "else:\n",
        "    print(f\"El número {n} no es un número de Armstrong.\")\n"
      ]
    },
    {
      "cell_type": "markdown",
      "metadata": {
        "id": "7KMQcxcEOJKr"
      },
      "source": [
        "### __Ejercicio 3: patrones__\n",
        "\n",
        "Utilizando ciclos anidados construya un programa que imprima el  siguiente patrón:\n",
        "\n",
        ">1\n",
        "\n",
        ">12\n",
        "\n",
        ">123\n",
        "\n",
        ">1234\n",
        "\n",
        ">12345\n",
        "\n",
        ">123456\n",
        "\n",
        "\n",
        "\n"
      ]
    },
    {
      "cell_type": "code",
      "execution_count": null,
      "metadata": {
        "id": "79FZ45lZOJKr",
        "outputId": "af69b9cd-ac92-45c6-99f0-275aeb20fba2",
        "colab": {
          "base_uri": "https://localhost:8080/"
        }
      },
      "outputs": [
        {
          "output_type": "stream",
          "name": "stdout",
          "text": [
            "1\n",
            "12\n",
            "123\n",
            "1234\n",
            "12345\n",
            "123456\n"
          ]
        }
      ],
      "source": [
        "# Solución propuesta\n",
        "a='1'\n",
        "for i in range(6):\n",
        "  print(a)\n",
        "  k=str(i+2)\n",
        "  a=a+k"
      ]
    },
    {
      "cell_type": "markdown",
      "source": [
        "### __Ejercicio 4: Procesamiento de datos de estudiantes__"
      ],
      "metadata": {
        "id": "Qilzg_lj4Mqa"
      }
    },
    {
      "cell_type": "code",
      "execution_count": null,
      "metadata": {
        "id": "JUdss6_sOJKs",
        "colab": {
          "base_uri": "https://localhost:8080/"
        },
        "outputId": "0f097338-d64e-4585-e9a3-ce4c207ca528"
      },
      "outputs": [
        {
          "output_type": "stream",
          "name": "stdout",
          "text": [
            "Promedio de notas por estudiante:\n",
            "Ana: 84.33\n",
            "Carlos: 91.67\n",
            "Sofia: 80.00\n",
            "David: 91.67\n",
            "Elena: 87.67\n",
            "\n",
            "El estudiante de mayor edad es: Carlos con 22 años.\n",
            "\n",
            "Nombres de estudiantes hasta encontrar uno mayor de 21:\n",
            "Ana\n",
            "Carlos\n",
            "\n",
            "Estudiantes con promedio mayor a 85:\n",
            "Carlos: 91.67\n",
            "David: 91.67\n",
            "Elena: 87.67\n"
          ]
        }
      ],
      "source": [
        "\n",
        "\n",
        "# Definir una lista de diccionarios, donde cada diccionario representa un estudiante\n",
        "estudiantes = [\n",
        "    {\"nombre\": \"Ana\", \"edad\": 20, \"notas\": [85, 90, 78]},\n",
        "    {\"nombre\": \"Carlos\", \"edad\": 22, \"notas\": [92, 88, 95]},\n",
        "    {\"nombre\": \"Sofia\", \"edad\": 21, \"notas\": [76, 80, 84]},\n",
        "    {\"nombre\": \"David\", \"edad\": 19, \"notas\": [95, 92, 88]},\n",
        "    {\"nombre\": \"Elena\", \"edad\": 20, \"notas\": [88, 85, 90]}\n",
        "]\n",
        "\n",
        "# 1. Calcular el promedio de notas de cada estudiante usando un ciclo for\n",
        "print(\"Promedio de notas por estudiante:\")\n",
        "for estudiante in estudiantes:\n",
        "    nombre = estudiante[\"nombre\"]\n",
        "    notas = estudiante[\"notas\"]\n",
        "    promedio = sum(notas) / len(notas)\n",
        "    print(f\"{nombre}: {promedio:.2f}\")\n",
        "\n",
        "# 2. Encontrar el estudiante con la mayor edad usando un ciclo for y una variable auxiliar\n",
        "estudiante_mayor = estudiantes[0]\n",
        "for estudiante in estudiantes:\n",
        "    if estudiante[\"edad\"] > estudiante_mayor[\"edad\"]:\n",
        "        estudiante_mayor = estudiante\n",
        "print(f\"\\nEl estudiante de mayor edad es: {estudiante_mayor['nombre']} con {estudiante_mayor['edad']} años.\")\n",
        "\n",
        "\n",
        "# 3. Usar un ciclo while para imprimir los nombres de los estudiantes hasta encontrar un estudiante con edad mayor a 21\n",
        "print(\"\\nNombres de estudiantes hasta encontrar uno mayor de 21:\")\n",
        "i = 0\n",
        "while i < len(estudiantes):\n",
        "    estudiante = estudiantes[i]\n",
        "    print(estudiante[\"nombre\"])\n",
        "    if estudiante[\"edad\"] > 21:\n",
        "        break\n",
        "    i += 1\n",
        "\n",
        "# 4. Usar un ciclo for para imprimir los nombres de los estudiantes que tienen un promedio de notas mayor a 85\n",
        "print(\"\\nEstudiantes con promedio mayor a 85:\")\n",
        "for estudiante in estudiantes:\n",
        "    nombre = estudiante[\"nombre\"]\n",
        "    notas = estudiante[\"notas\"]\n",
        "    promedio = sum(notas) / len(notas)\n",
        "    if promedio > 85:\n",
        "      print(f\"{nombre}: {promedio:.2f}\")\n"
      ]
    }
  ],
  "metadata": {
    "colab": {
      "provenance": []
    },
    "kernelspec": {
      "display_name": "Python 3",
      "language": "python",
      "name": "python3"
    },
    "language_info": {
      "codemirror_mode": {
        "name": "ipython",
        "version": 3
      },
      "file_extension": ".py",
      "mimetype": "text/x-python",
      "name": "python",
      "nbconvert_exporter": "python",
      "pygments_lexer": "ipython3",
      "version": "3.13.1"
    }
  },
  "nbformat": 4,
  "nbformat_minor": 0
}